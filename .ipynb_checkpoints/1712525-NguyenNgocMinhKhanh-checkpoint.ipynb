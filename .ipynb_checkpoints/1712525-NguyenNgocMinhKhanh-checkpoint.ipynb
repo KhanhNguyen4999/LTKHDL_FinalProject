{
 "cells": [
  {
   "cell_type": "markdown",
   "metadata": {},
   "source": [
    "# Đồ án cuối kì\n",
    "\n",
    "MSSV: 1712525\n",
    "\n",
    "Họ và tên: Nguyễn Ngọc Minh Khánh"
   ]
  },
  {
   "cell_type": "markdown",
   "metadata": {},
   "source": [
    "# Import thư viện"
   ]
  },
  {
   "cell_type": "code",
   "execution_count": 161,
   "metadata": {},
   "outputs": [],
   "source": [
    "import pandas as pd\n",
    "import warnings\n",
    "import seaborn as sns\n",
    "import numpy as np\n",
    "import matplotlib.pyplot as plt\n",
    "import re\n",
    "warnings.filterwarnings('ignore')\n",
    "\n",
    "plt.style.use('fivethirtyeight')\n",
    "plt.rcParams['figure.figsize'] = 22, 15\n",
    "plt.rcParams['xtick.labelsize']=15\n",
    "plt.rcParams['ytick.labelsize']=15"
   ]
  },
  {
   "cell_type": "markdown",
   "metadata": {},
   "source": [
    "---"
   ]
  },
  {
   "cell_type": "markdown",
   "metadata": {},
   "source": [
    "# Lấy dữ liệu\n",
    "\n",
    "Dữ liệu được dùng trong đồ án cuối kì này là file winemag-data-130k-v2.csv. Đây là dữ liệu về đánh giá điểm và nhận xét về chất lượng của các loại rượu thuộc nhiều khu vực, nhiều quốc gia. Dữ liệu được lấy từ dataset \"wine-reviews\" trên kaggle. Dữ liệu gốc có thể lấy [tại đây](https://www.kaggle.com/zynicide/wine-reviews) "
   ]
  },
  {
   "cell_type": "markdown",
   "metadata": {},
   "source": [
    "---"
   ]
  },
  {
   "cell_type": "markdown",
   "metadata": {},
   "source": [
    "# Khám phá dữ liệu"
   ]
  },
  {
   "cell_type": "markdown",
   "metadata": {},
   "source": [
    "## Đọc dữ liệu từ file csv vào dataframe"
   ]
  },
  {
   "cell_type": "code",
   "execution_count": 30,
   "metadata": {},
   "outputs": [
    {
     "data": {
      "text/html": [
       "<div>\n",
       "<style scoped>\n",
       "    .dataframe tbody tr th:only-of-type {\n",
       "        vertical-align: middle;\n",
       "    }\n",
       "\n",
       "    .dataframe tbody tr th {\n",
       "        vertical-align: top;\n",
       "    }\n",
       "\n",
       "    .dataframe thead th {\n",
       "        text-align: right;\n",
       "    }\n",
       "</style>\n",
       "<table border=\"1\" class=\"dataframe\">\n",
       "  <thead>\n",
       "    <tr style=\"text-align: right;\">\n",
       "      <th></th>\n",
       "      <th>Unnamed: 0</th>\n",
       "      <th>country</th>\n",
       "      <th>description</th>\n",
       "      <th>designation</th>\n",
       "      <th>points</th>\n",
       "      <th>price</th>\n",
       "      <th>province</th>\n",
       "      <th>region_1</th>\n",
       "      <th>region_2</th>\n",
       "      <th>taster_name</th>\n",
       "      <th>taster_twitter_handle</th>\n",
       "      <th>title</th>\n",
       "      <th>variety</th>\n",
       "      <th>winery</th>\n",
       "    </tr>\n",
       "  </thead>\n",
       "  <tbody>\n",
       "    <tr>\n",
       "      <th>0</th>\n",
       "      <td>0</td>\n",
       "      <td>Italy</td>\n",
       "      <td>Aromas include tropical fruit, broom, brimston...</td>\n",
       "      <td>Vulkà Bianco</td>\n",
       "      <td>87</td>\n",
       "      <td>NaN</td>\n",
       "      <td>Sicily &amp; Sardinia</td>\n",
       "      <td>Etna</td>\n",
       "      <td>NaN</td>\n",
       "      <td>Kerin O’Keefe</td>\n",
       "      <td>@kerinokeefe</td>\n",
       "      <td>Nicosia 2013 Vulkà Bianco  (Etna)</td>\n",
       "      <td>White Blend</td>\n",
       "      <td>Nicosia</td>\n",
       "    </tr>\n",
       "    <tr>\n",
       "      <th>1</th>\n",
       "      <td>1</td>\n",
       "      <td>Portugal</td>\n",
       "      <td>This is ripe and fruity, a wine that is smooth...</td>\n",
       "      <td>Avidagos</td>\n",
       "      <td>87</td>\n",
       "      <td>15.0</td>\n",
       "      <td>Douro</td>\n",
       "      <td>NaN</td>\n",
       "      <td>NaN</td>\n",
       "      <td>Roger Voss</td>\n",
       "      <td>@vossroger</td>\n",
       "      <td>Quinta dos Avidagos 2011 Avidagos Red (Douro)</td>\n",
       "      <td>Portuguese Red</td>\n",
       "      <td>Quinta dos Avidagos</td>\n",
       "    </tr>\n",
       "    <tr>\n",
       "      <th>2</th>\n",
       "      <td>2</td>\n",
       "      <td>US</td>\n",
       "      <td>Tart and snappy, the flavors of lime flesh and...</td>\n",
       "      <td>NaN</td>\n",
       "      <td>87</td>\n",
       "      <td>14.0</td>\n",
       "      <td>Oregon</td>\n",
       "      <td>Willamette Valley</td>\n",
       "      <td>Willamette Valley</td>\n",
       "      <td>Paul Gregutt</td>\n",
       "      <td>@paulgwine</td>\n",
       "      <td>Rainstorm 2013 Pinot Gris (Willamette Valley)</td>\n",
       "      <td>Pinot Gris</td>\n",
       "      <td>Rainstorm</td>\n",
       "    </tr>\n",
       "    <tr>\n",
       "      <th>3</th>\n",
       "      <td>3</td>\n",
       "      <td>US</td>\n",
       "      <td>Pineapple rind, lemon pith and orange blossom ...</td>\n",
       "      <td>Reserve Late Harvest</td>\n",
       "      <td>87</td>\n",
       "      <td>13.0</td>\n",
       "      <td>Michigan</td>\n",
       "      <td>Lake Michigan Shore</td>\n",
       "      <td>NaN</td>\n",
       "      <td>Alexander Peartree</td>\n",
       "      <td>NaN</td>\n",
       "      <td>St. Julian 2013 Reserve Late Harvest Riesling ...</td>\n",
       "      <td>Riesling</td>\n",
       "      <td>St. Julian</td>\n",
       "    </tr>\n",
       "    <tr>\n",
       "      <th>4</th>\n",
       "      <td>4</td>\n",
       "      <td>US</td>\n",
       "      <td>Much like the regular bottling from 2012, this...</td>\n",
       "      <td>Vintner's Reserve Wild Child Block</td>\n",
       "      <td>87</td>\n",
       "      <td>65.0</td>\n",
       "      <td>Oregon</td>\n",
       "      <td>Willamette Valley</td>\n",
       "      <td>Willamette Valley</td>\n",
       "      <td>Paul Gregutt</td>\n",
       "      <td>@paulgwine</td>\n",
       "      <td>Sweet Cheeks 2012 Vintner's Reserve Wild Child...</td>\n",
       "      <td>Pinot Noir</td>\n",
       "      <td>Sweet Cheeks</td>\n",
       "    </tr>\n",
       "  </tbody>\n",
       "</table>\n",
       "</div>"
      ],
      "text/plain": [
       "   Unnamed: 0   country                                        description  \\\n",
       "0           0     Italy  Aromas include tropical fruit, broom, brimston...   \n",
       "1           1  Portugal  This is ripe and fruity, a wine that is smooth...   \n",
       "2           2        US  Tart and snappy, the flavors of lime flesh and...   \n",
       "3           3        US  Pineapple rind, lemon pith and orange blossom ...   \n",
       "4           4        US  Much like the regular bottling from 2012, this...   \n",
       "\n",
       "                          designation  points  price           province  \\\n",
       "0                        Vulkà Bianco      87    NaN  Sicily & Sardinia   \n",
       "1                            Avidagos      87   15.0              Douro   \n",
       "2                                 NaN      87   14.0             Oregon   \n",
       "3                Reserve Late Harvest      87   13.0           Michigan   \n",
       "4  Vintner's Reserve Wild Child Block      87   65.0             Oregon   \n",
       "\n",
       "              region_1           region_2         taster_name  \\\n",
       "0                 Etna                NaN       Kerin O’Keefe   \n",
       "1                  NaN                NaN          Roger Voss   \n",
       "2    Willamette Valley  Willamette Valley        Paul Gregutt   \n",
       "3  Lake Michigan Shore                NaN  Alexander Peartree   \n",
       "4    Willamette Valley  Willamette Valley        Paul Gregutt   \n",
       "\n",
       "  taster_twitter_handle                                              title  \\\n",
       "0          @kerinokeefe                  Nicosia 2013 Vulkà Bianco  (Etna)   \n",
       "1            @vossroger      Quinta dos Avidagos 2011 Avidagos Red (Douro)   \n",
       "2           @paulgwine       Rainstorm 2013 Pinot Gris (Willamette Valley)   \n",
       "3                   NaN  St. Julian 2013 Reserve Late Harvest Riesling ...   \n",
       "4           @paulgwine   Sweet Cheeks 2012 Vintner's Reserve Wild Child...   \n",
       "\n",
       "          variety               winery  \n",
       "0     White Blend              Nicosia  \n",
       "1  Portuguese Red  Quinta dos Avidagos  \n",
       "2      Pinot Gris            Rainstorm  \n",
       "3        Riesling           St. Julian  \n",
       "4      Pinot Noir         Sweet Cheeks  "
      ]
     },
     "execution_count": 30,
     "metadata": {},
     "output_type": "execute_result"
    }
   ],
   "source": [
    "wine_df = pd.read_csv('winemag-data-130k-v2.csv')\n",
    "wine_df.head()"
   ]
  },
  {
   "cell_type": "markdown",
   "metadata": {},
   "source": [
    "## Số lượng dòng và cột của dữ liệu"
   ]
  },
  {
   "cell_type": "code",
   "execution_count": 31,
   "metadata": {},
   "outputs": [
    {
     "name": "stdout",
     "output_type": "stream",
     "text": [
      "Số lượng dòng:  129971\n",
      "Số lượng cột:  14\n"
     ]
    }
   ],
   "source": [
    "num_rows = wine_df.shape[0]\n",
    "num_cols = wine_df.shape[1]\n",
    "print('Số lượng dòng: ', num_rows)\n",
    "print('Số lượng cột: ', num_cols)"
   ]
  },
  {
   "cell_type": "markdown",
   "metadata": {},
   "source": [
    "## Mô tả ý nghĩa của mỗi dòng và cột"
   ]
  },
  {
   "cell_type": "markdown",
   "metadata": {},
   "source": [
    "Mỗi dòng là nhận xét, đánh giá điểm số và các thông tin khác của 1 loại rượu ở 1 vùng cụ thể.\n",
    "\n",
    "Dưới đây là phần mô tả của tác giả về ý nghĩa của các cột trong file winemag-data-130k-v2.csv:\n",
    "\n",
    "+ **Points**: the number of points WineEnthusiast rated the wine on a scale of 1-100 (though they say they only post reviews for wines that score >=80)\n",
    "+ **Title**: the title of the wine review, which often contains the vintage if you're interested in extracting that feature\n",
    "+ **Variety**: the type of grapes used to make the wine (ie Pinot Noir)\n",
    "+ **Description**: a few sentences from a sommelier describing the wine's taste, smell, look, feel, etc.\n",
    "+ **Country**: the country that the wine is from\n",
    "+ **Province**: the province or state that the wine is from\n",
    "+ **Region 1**: the wine growing area in a province or state (ie Napa)\n",
    "+ **Region 2**: sometimes there are more specific regions specified within a wine growing area (ie Rutherford inside the Napa Valley), but this value can sometimes be blank\n",
    "+ **Winery**: the winery that made the wine\n",
    "+ **Designation**: the vineyard within the winery where the grapes that made the wine are from\n",
    "+ **Price**: the cost for a bottle of the wine\n",
    "+ **Taster Name**: name of the person who tasted and reviewed the wine\n",
    "+ **Taster Twitter Handle**: Twitter handle for the person who tasted ane reviewed the wine"
   ]
  },
  {
   "cell_type": "markdown",
   "metadata": {
    "heading_collapsed": true
   },
   "source": [
    "## Kiểu dữ liệu và số lượng giá trị khác rỗng của mỗi cột"
   ]
  },
  {
   "cell_type": "code",
   "execution_count": 32,
   "metadata": {
    "hidden": true
   },
   "outputs": [
    {
     "name": "stdout",
     "output_type": "stream",
     "text": [
      "<class 'pandas.core.frame.DataFrame'>\n",
      "RangeIndex: 129971 entries, 0 to 129970\n",
      "Data columns (total 13 columns):\n",
      " #   Column                 Non-Null Count   Dtype  \n",
      "---  ------                 --------------   -----  \n",
      " 0   country                129908 non-null  object \n",
      " 1   description            129971 non-null  object \n",
      " 2   designation            92506 non-null   object \n",
      " 3   points                 129971 non-null  int64  \n",
      " 4   price                  120975 non-null  float64\n",
      " 5   province               129908 non-null  object \n",
      " 6   region_1               108724 non-null  object \n",
      " 7   region_2               50511 non-null   object \n",
      " 8   taster_name            103727 non-null  object \n",
      " 9   taster_twitter_handle  98758 non-null   object \n",
      " 10  title                  129971 non-null  object \n",
      " 11  variety                129970 non-null  object \n",
      " 12  winery                 129971 non-null  object \n",
      "dtypes: float64(1), int64(1), object(11)\n",
      "memory usage: 12.9+ MB\n"
     ]
    }
   ],
   "source": [
    "wine_df.drop(columns='Unnamed: 0', inplace = True)\n",
    "wine_df.info()"
   ]
  },
  {
   "cell_type": "markdown",
   "metadata": {
    "hidden": true
   },
   "source": [
    "Các cột dạng categorical là: country, description, designation, province, region_1, region_2, taster_name, taster_twitter_handle, title, variety, winery.\n",
    "Các cột còn là là point và price mang giá trị thuộc numerical"
   ]
  },
  {
   "cell_type": "markdown",
   "metadata": {
    "heading_collapsed": true
   },
   "source": [
    "## Số lượng giá trị thiếu cũng mỗi cột"
   ]
  },
  {
   "cell_type": "code",
   "execution_count": 33,
   "metadata": {
    "hidden": true
   },
   "outputs": [
    {
     "data": {
      "text/plain": [
       "country                     63\n",
       "description                  0\n",
       "designation              37465\n",
       "points                       0\n",
       "price                     8996\n",
       "province                    63\n",
       "region_1                 21247\n",
       "region_2                 79460\n",
       "taster_name              26244\n",
       "taster_twitter_handle    31213\n",
       "title                        0\n",
       "variety                      1\n",
       "winery                       0\n",
       "dtype: int64"
      ]
     },
     "execution_count": 33,
     "metadata": {},
     "output_type": "execute_result"
    }
   ],
   "source": [
    "wine_df.isnull().sum()"
   ]
  },
  {
   "cell_type": "markdown",
   "metadata": {
    "heading_collapsed": true
   },
   "source": [
    "## Một số thống kê mô tả đơn giản"
   ]
  },
  {
   "cell_type": "code",
   "execution_count": 34,
   "metadata": {
    "hidden": true
   },
   "outputs": [
    {
     "data": {
      "text/html": [
       "<div>\n",
       "<style scoped>\n",
       "    .dataframe tbody tr th:only-of-type {\n",
       "        vertical-align: middle;\n",
       "    }\n",
       "\n",
       "    .dataframe tbody tr th {\n",
       "        vertical-align: top;\n",
       "    }\n",
       "\n",
       "    .dataframe thead th {\n",
       "        text-align: right;\n",
       "    }\n",
       "</style>\n",
       "<table border=\"1\" class=\"dataframe\">\n",
       "  <thead>\n",
       "    <tr style=\"text-align: right;\">\n",
       "      <th></th>\n",
       "      <th>points</th>\n",
       "      <th>price</th>\n",
       "    </tr>\n",
       "  </thead>\n",
       "  <tbody>\n",
       "    <tr>\n",
       "      <th>count</th>\n",
       "      <td>129971.000000</td>\n",
       "      <td>120975.000000</td>\n",
       "    </tr>\n",
       "    <tr>\n",
       "      <th>mean</th>\n",
       "      <td>88.447138</td>\n",
       "      <td>35.363389</td>\n",
       "    </tr>\n",
       "    <tr>\n",
       "      <th>std</th>\n",
       "      <td>3.039730</td>\n",
       "      <td>41.022218</td>\n",
       "    </tr>\n",
       "    <tr>\n",
       "      <th>min</th>\n",
       "      <td>80.000000</td>\n",
       "      <td>4.000000</td>\n",
       "    </tr>\n",
       "    <tr>\n",
       "      <th>25%</th>\n",
       "      <td>86.000000</td>\n",
       "      <td>17.000000</td>\n",
       "    </tr>\n",
       "    <tr>\n",
       "      <th>50%</th>\n",
       "      <td>88.000000</td>\n",
       "      <td>25.000000</td>\n",
       "    </tr>\n",
       "    <tr>\n",
       "      <th>75%</th>\n",
       "      <td>91.000000</td>\n",
       "      <td>42.000000</td>\n",
       "    </tr>\n",
       "    <tr>\n",
       "      <th>max</th>\n",
       "      <td>100.000000</td>\n",
       "      <td>3300.000000</td>\n",
       "    </tr>\n",
       "  </tbody>\n",
       "</table>\n",
       "</div>"
      ],
      "text/plain": [
       "              points          price\n",
       "count  129971.000000  120975.000000\n",
       "mean       88.447138      35.363389\n",
       "std         3.039730      41.022218\n",
       "min        80.000000       4.000000\n",
       "25%        86.000000      17.000000\n",
       "50%        88.000000      25.000000\n",
       "75%        91.000000      42.000000\n",
       "max       100.000000    3300.000000"
      ]
     },
     "execution_count": 34,
     "metadata": {},
     "output_type": "execute_result"
    }
   ],
   "source": [
    "wine_df.describe()"
   ]
  },
  {
   "cell_type": "markdown",
   "metadata": {
    "hidden": true
   },
   "source": [
    "Nhìn vào thống kê trên:\n",
    "+ Points: miền giá trị của thuộc tính points là [80, 100], trung bình là 88.45\n",
    "+ Price: miền giá trị là từ [4, 3300] ( đô la mỹ), với giá trung bình là 41 đô"
   ]
  },
  {
   "cell_type": "code",
   "execution_count": 35,
   "metadata": {
    "hidden": true
   },
   "outputs": [
    {
     "data": {
      "text/plain": [
       "<matplotlib.axes._subplots.AxesSubplot at 0x1f04fb43c48>"
      ]
     },
     "execution_count": 35,
     "metadata": {},
     "output_type": "execute_result"
    },
    {
     "data": {
      "image/png": "[encoded data removed]",
      "text/plain": [
       "<Figure size 1584x1080 with 1 Axes>"
      ]
     },
     "metadata": {},
     "output_type": "display_data"
    }
   ],
   "source": [
    "sns.distplot(wine_df['price'])"
   ]
  },
  {
   "cell_type": "markdown",
   "metadata": {
    "hidden": true
   },
   "source": [
    "- Phần lớn các loại rượu đều có mức giá dưới 200 đô, nhưng vẫn có 1 vàn chai rượu có giá rất cao trên 3000 đô."
   ]
  },
  {
   "cell_type": "code",
   "execution_count": 36,
   "metadata": {
    "hidden": true
   },
   "outputs": [
    {
     "name": "stdout",
     "output_type": "stream",
     "text": [
      "Số lượng quốc gia khảo sát:  43\n"
     ]
    }
   ],
   "source": [
    "num_country = wine_df['country'].nunique()\n",
    "print(\"Số lượng quốc gia khảo sát: \", num_country)"
   ]
  },
  {
   "cell_type": "markdown",
   "metadata": {},
   "source": [
    "## Làm rõ hơn ý nghĩa của các cột country, province, region_1, region_2, title\n"
   ]
  },
  {
   "cell_type": "markdown",
   "metadata": {},
   "source": [
    "Theo mô tả của tác giả: \n",
    "- **Country**: the country that the wine is from\n",
    "- **Province**: the province or state that the wine is from\n",
    "- **Region 1**: the wine growing area in a province or state (ie Napa)\n",
    "- **Region 2**: sometimes there are more specific regions specified within a wine growing area (ie Rutherford inside the Napa -Valley), but this value can sometimes be blank\n",
    "+ **Title**: the title of the wine review, which often contains the vintage if you're interested in extracting that feature"
   ]
  },
  {
   "cell_type": "markdown",
   "metadata": {},
   "source": [
    "Như vậy, country là đơn vị lớn nhất chỉ 1 quốc gia, country thì gồm nhiều province. Province thì bao gồm nhiều region_1, còn region1 thì bao gồm nhiều region_2 (vùng, địa điểm cụ thể thuộc về region_1), có nhiều mẫu giá trị ở region_2 giống với region_1 hoặc là không có giá trị. Ở đây việc kiểm tra các Province có bị overlap với nhau hay không cũng không mang nhiều ý nghĩa ( tức là 1 region vừa thuộc province này vừa thuộc province kia ).\n",
    "\n",
    "Title theo như nhận thấy thì chứa rất nhiều thông tin, bao gồm: loại nho để làm rượu, nhà sản suất, và mình nghĩ thời gian có trong title là thời gian sản suất rượu."
   ]
  },
  {
   "cell_type": "markdown",
   "metadata": {},
   "source": [
    "---"
   ]
  },
  {
   "cell_type": "markdown",
   "metadata": {
    "heading_collapsed": true
   },
   "source": [
    "# Tiền xử lí dữ liệu trước khi thực hiện các bước khám phá dữ liệu kế tiếp"
   ]
  },
  {
   "cell_type": "markdown",
   "metadata": {
    "hidden": true
   },
   "source": [
    "## Xóa các thuộc tính không mang nhiều ý nghĩa hoặc các giá trị gây khó trong phân tích"
   ]
  },
  {
   "cell_type": "markdown",
   "metadata": {
    "hidden": true
   },
   "source": [
    " - Thuộc tính designation: có số lượng các giá trị khác nhau( không bao gồm NaN) là rất lớn.Những thuộc tính này cũng không mang lại nhiều ý nghĩa cho việc phân tích nên ta đơn giản là xóa thuộc tính này đi.\n",
    " - Thuộc tính taster_twitter_handle: thuộc tính này không mang ý nghĩa trong bài phân tích nên ta đơn giản xóa đi."
   ]
  },
  {
   "cell_type": "code",
   "execution_count": 37,
   "metadata": {
    "hidden": true
   },
   "outputs": [
    {
     "name": "stdout",
     "output_type": "stream",
     "text": [
      "Số lượng các giá trị khác nhau của thuộc tính designation là:  37979\n"
     ]
    }
   ],
   "source": [
    "print(\"Số lượng các giá trị khác nhau của thuộc tính designation là: \",  wine_df['designation'].nunique())"
   ]
  },
  {
   "cell_type": "code",
   "execution_count": 38,
   "metadata": {
    "hidden": true
   },
   "outputs": [],
   "source": [
    "wine_df.drop(columns=['designation', 'taster_twitter_handle'], inplace = True)"
   ]
  },
  {
   "cell_type": "markdown",
   "metadata": {
    "hidden": true
   },
   "source": [
    " Nếu kiểm tra lại trong dữ liệu thì chỉ có 1 mẫu thuộc về Ai Cập và giá trị ở price của nó cũng là NaN. Nên ở đây ta không biết nên cập nhật giá của loại rượu ở quốc gia này như thế nào nên để đơn giản cho việc xử lí bên dưới ta xóa luôn dòng thuộc về Ai Cập."
   ]
  },
  {
   "cell_type": "code",
   "execution_count": 39,
   "metadata": {
    "hidden": true
   },
   "outputs": [
    {
     "data": {
      "text/html": [
       "<div>\n",
       "<style scoped>\n",
       "    .dataframe tbody tr th:only-of-type {\n",
       "        vertical-align: middle;\n",
       "    }\n",
       "\n",
       "    .dataframe tbody tr th {\n",
       "        vertical-align: top;\n",
       "    }\n",
       "\n",
       "    .dataframe thead th {\n",
       "        text-align: right;\n",
       "    }\n",
       "</style>\n",
       "<table border=\"1\" class=\"dataframe\">\n",
       "  <thead>\n",
       "    <tr style=\"text-align: right;\">\n",
       "      <th></th>\n",
       "      <th>country</th>\n",
       "      <th>description</th>\n",
       "      <th>points</th>\n",
       "      <th>price</th>\n",
       "      <th>province</th>\n",
       "      <th>region_1</th>\n",
       "      <th>region_2</th>\n",
       "      <th>taster_name</th>\n",
       "      <th>title</th>\n",
       "      <th>variety</th>\n",
       "      <th>winery</th>\n",
       "    </tr>\n",
       "  </thead>\n",
       "  <tbody>\n",
       "    <tr>\n",
       "      <th>110246</th>\n",
       "      <td>Egypt</td>\n",
       "      <td>Ripe pear, apple and tropical fruit in the nos...</td>\n",
       "      <td>84</td>\n",
       "      <td>NaN</td>\n",
       "      <td>Egypt</td>\n",
       "      <td>NaN</td>\n",
       "      <td>NaN</td>\n",
       "      <td>Susan Kostrzewa</td>\n",
       "      <td>Sahara Vineyards 2008 Caspar Blanc de Noirs Gr...</td>\n",
       "      <td>Grenache</td>\n",
       "      <td>Sahara Vineyards</td>\n",
       "    </tr>\n",
       "  </tbody>\n",
       "</table>\n",
       "</div>"
      ],
      "text/plain": [
       "       country                                        description  points  \\\n",
       "110246   Egypt  Ripe pear, apple and tropical fruit in the nos...      84   \n",
       "\n",
       "        price province region_1 region_2      taster_name  \\\n",
       "110246    NaN    Egypt      NaN      NaN  Susan Kostrzewa   \n",
       "\n",
       "                                                    title   variety  \\\n",
       "110246  Sahara Vineyards 2008 Caspar Blanc de Noirs Gr...  Grenache   \n",
       "\n",
       "                  winery  \n",
       "110246  Sahara Vineyards  "
      ]
     },
     "execution_count": 39,
     "metadata": {},
     "output_type": "execute_result"
    }
   ],
   "source": [
    "wine_df[wine_df['country']=='Egypt']"
   ]
  },
  {
   "cell_type": "code",
   "execution_count": 40,
   "metadata": {
    "hidden": true
   },
   "outputs": [],
   "source": [
    "wine_df = wine_df[wine_df['country']!='Egypt'].reset_index(drop = True)"
   ]
  },
  {
   "cell_type": "markdown",
   "metadata": {
    "hidden": true
   },
   "source": [
    "## Xử lí với các giá trị thiếu"
   ]
  },
  {
   "cell_type": "markdown",
   "metadata": {
    "hidden": true
   },
   "source": [
    "Như bước phân tích trên ta thấy có nhiều cột mang nhiều giá trị thiếu:\n",
    "\n",
    "- Các xử lí đối với các cột categorical:\n",
    "    + Các thuộc tính categorical dùng giá trị 'unknown' để điền vào các giá trị còn thiếu.  Ở đây không nên sử dụng phương pháp back fill, vì có thể điền tên khu vực của 1 quốc gia này cho khu vực của 1 quốc gia khác.\n",
    "    \n",
    "- Các xử lí đối với thuộc tính numerical:\n",
    "    + Thuộc tính price: ta tiến hành điền giá trị trung bình của các loại rượu thuộc cùng quốc gia cho các giá trị thiếu:"
   ]
  },
  {
   "cell_type": "markdown",
   "metadata": {
    "hidden": true
   },
   "source": [
    "Xử lí với các thuộc tính categorical"
   ]
  },
  {
   "cell_type": "code",
   "execution_count": 41,
   "metadata": {
    "hidden": true
   },
   "outputs": [],
   "source": [
    "cat_name = ['country', 'region_1', 'region_2', 'taster_name', 'province', 'variety']\n",
    "for name in cat_name:\n",
    "    wine_df[name].fillna('unknown', inplace = True)"
   ]
  },
  {
   "cell_type": "markdown",
   "metadata": {
    "hidden": true
   },
   "source": [
    "Xử lí với các thuộc tính numerical"
   ]
  },
  {
   "cell_type": "code",
   "execution_count": 42,
   "metadata": {
    "hidden": true
   },
   "outputs": [],
   "source": [
    "isnull_price = wine_df['price'].isnull()\n",
    "mean_price_wine_byCountry = wine_df.groupby('country')['price'].agg('mean')\n",
    "wine_df['price'] = [mean_price_wine_byCountry[wine_df.iloc[i][0]] if isnull_price[i]\n",
    "                                                                  else wine_df.iloc[i]['price'] for i in range(num_rows-1)]"
   ]
  },
  {
   "cell_type": "markdown",
   "metadata": {
    "hidden": true
   },
   "source": [
    "## Kiểm tra lại kết quả của việc xử lí"
   ]
  },
  {
   "cell_type": "code",
   "execution_count": 43,
   "metadata": {
    "hidden": true
   },
   "outputs": [
    {
     "data": {
      "text/plain": [
       "country        0\n",
       "description    0\n",
       "points         0\n",
       "price          0\n",
       "province       0\n",
       "region_1       0\n",
       "region_2       0\n",
       "taster_name    0\n",
       "title          0\n",
       "variety        0\n",
       "winery         0\n",
       "dtype: int64"
      ]
     },
     "execution_count": 43,
     "metadata": {},
     "output_type": "execute_result"
    }
   ],
   "source": [
    "wine_df.isnull().sum()"
   ]
  },
  {
   "cell_type": "markdown",
   "metadata": {
    "hidden": true
   },
   "source": [
    "---"
   ]
  },
  {
   "cell_type": "markdown",
   "metadata": {},
   "source": [
    "# Featuring engineering"
   ]
  },
  {
   "cell_type": "markdown",
   "metadata": {},
   "source": [
    "## Việc thực hiện các bài đánh giá diễn ra trong khoảng gian nào? cùng năm hay thuộc các năm khác nhau?"
   ]
  },
  {
   "cell_type": "markdown",
   "metadata": {},
   "source": [
    "Ở đây ta vẫn chưa biết được việc đánh giá các loại rượu diễn ra ở trong cùng 1 năm hay ở nhiều năm khác nhau. Vậy nơi nào cho biết thời gian diễn ra năm đánh giá?\n",
    "\n",
    "Nếu để ý kĩ, ta sẽ thấy năm đánh giá nằm trong thuộc tính title. Giờ ta sẽ tiến hành trích xuất khoảng thời gian này."
   ]
  },
  {
   "cell_type": "code",
   "execution_count": 119,
   "metadata": {},
   "outputs": [
    {
     "data": {
      "text/plain": [
       "country                                                             US\n",
       "description          A new effort from winemaker Isabelle Dutartre,...\n",
       "points                                                              91\n",
       "price                                                               48\n",
       "province                                                        Oregon\n",
       "region_1                                            Chehalem Mountains\n",
       "region_2                                             Willamette Valley\n",
       "taster_name                                               Paul Gregutt\n",
       "title                  1789 Wines 2007 Pinot Noir (Chehalem Mountains)\n",
       "variety                                                     Pinot Noir\n",
       "winery                                                      1789 Wines\n",
       "year                                                              1789\n",
       "provinceOfCountry                                        ( US ) Oregon\n",
       "Name: 68586, dtype: object"
      ]
     },
     "execution_count": 119,
     "metadata": {},
     "output_type": "execute_result"
    }
   ],
   "source": [
    "wine_df.iloc[68586,:]"
   ]
  },
  {
   "cell_type": "code",
   "execution_count": 120,
   "metadata": {},
   "outputs": [
    {
     "data": {
      "text/plain": [
       "0                         Nicosia 2013 Vulkà Bianco  (Etna)\n",
       "1             Quinta dos Avidagos 2011 Avidagos Red (Douro)\n",
       "2             Rainstorm 2013 Pinot Gris (Willamette Valley)\n",
       "3         St. Julian 2013 Reserve Late Harvest Riesling ...\n",
       "4         Sweet Cheeks 2012 Vintner's Reserve Wild Child...\n",
       "                                ...                        \n",
       "129965    Dr. H. Thanisch (Erben Müller-Burggraef) 2013 ...\n",
       "129966                    Citation 2004 Pinot Noir (Oregon)\n",
       "129967    Domaine Gresser 2013 Kritt Gewurztraminer (Als...\n",
       "129968        Domaine Marcel Deiss 2012 Pinot Gris (Alsace)\n",
       "129969    Domaine Schoffit 2012 Lieu-dit Harth Cuvée Car...\n",
       "Name: title, Length: 129970, dtype: object"
      ]
     },
     "execution_count": 120,
     "metadata": {},
     "output_type": "execute_result"
    }
   ],
   "source": [
    "wine_df['title']"
   ]
  },
  {
   "cell_type": "code",
   "execution_count": 173,
   "metadata": {},
   "outputs": [
    {
     "data": {
      "text/plain": [
       "0         NaN\n",
       "1         NaN\n",
       "2         NaN\n",
       "3         NaN\n",
       "4         NaN\n",
       "         ... \n",
       "129965    NaN\n",
       "129966    NaN\n",
       "129967    NaN\n",
       "129968    NaN\n",
       "129969    NaN\n",
       "Name: year, Length: 129970, dtype: object"
      ]
     },
     "execution_count": 173,
     "metadata": {},
     "output_type": "execute_result"
    }
   ],
   "source": [
    "wine_df = wine_df.assign(year = wine_df['title'].str.extract(r'\\(^(19)|^(18)|^(20)(\\d{2})'))\n",
    "wine_df['year']"
   ]
  },
  {
   "cell_type": "code",
   "execution_count": 155,
   "metadata": {},
   "outputs": [
    {
     "data": {
      "text/plain": [
       "array(['2013', '2011', '2012', '2010', '2007', '2009', '2008', '2014',\n",
       "       '2015', nan, '2016', '2004', '2003', '2006', '2001', '2005',\n",
       "       '2002', '1887', '2000', '1999', '1991', '1997', '1996', '1877',\n",
       "       '2017', '1995', '1872', '1637', '1868', '1898', '1492', '1998',\n",
       "       '7200', '1852', '1994', '1992', '1929', '1875', '1976', '1964',\n",
       "       '1870', '1856', '1983', '1967', '1990', '1988', '1827', '1860',\n",
       "       '1980', '1987', '1989', '1993', '1969', '1882', '1935', '1503',\n",
       "       '1821', '1973', '1978', '1965', '1968', '1947', '1963', '1985',\n",
       "       '1927', '1904', '1847', '1982', '1986', '1607', '1621', '1919',\n",
       "       '1957', '1966', '1984', '1961', '1845', '1952', '1150', '1941',\n",
       "       '1974', '1934', '1945'], dtype=object)"
      ]
     },
     "execution_count": 155,
     "metadata": {},
     "output_type": "execute_result"
    }
   ],
   "source": [
    "wine_df['year'].unique()"
   ]
  },
  {
   "cell_type": "code",
   "execution_count": 159,
   "metadata": {},
   "outputs": [
    {
     "data": {
      "text/plain": [
       "array(['1637', '1492', '1503', '1607', '1621', '1150'], dtype=object)"
      ]
     },
     "execution_count": 159,
     "metadata": {},
     "output_type": "execute_result"
    }
   ],
   "source": [
    "wine_df[wine_df['year']<'1800']['year'].unique()"
   ]
  },
  {
   "cell_type": "code",
   "execution_count": 162,
   "metadata": {},
   "outputs": [
    {
     "data": {
      "text/html": [
       "<div>\n",
       "<style scoped>\n",
       "    .dataframe tbody tr th:only-of-type {\n",
       "        vertical-align: middle;\n",
       "    }\n",
       "\n",
       "    .dataframe tbody tr th {\n",
       "        vertical-align: top;\n",
       "    }\n",
       "\n",
       "    .dataframe thead th {\n",
       "        text-align: right;\n",
       "    }\n",
       "</style>\n",
       "<table border=\"1\" class=\"dataframe\">\n",
       "  <thead>\n",
       "    <tr style=\"text-align: right;\">\n",
       "      <th></th>\n",
       "      <th>country</th>\n",
       "      <th>description</th>\n",
       "      <th>points</th>\n",
       "      <th>price</th>\n",
       "      <th>province</th>\n",
       "      <th>region_1</th>\n",
       "      <th>region_2</th>\n",
       "      <th>taster_name</th>\n",
       "      <th>title</th>\n",
       "      <th>variety</th>\n",
       "      <th>winery</th>\n",
       "      <th>year</th>\n",
       "      <th>provinceOfCountry</th>\n",
       "    </tr>\n",
       "  </thead>\n",
       "  <tbody>\n",
       "    <tr>\n",
       "      <th>83509</th>\n",
       "      <td>Argentina</td>\n",
       "      <td>A little rough on the nose, but under the crus...</td>\n",
       "      <td>86</td>\n",
       "      <td>20.0</td>\n",
       "      <td>Mendoza Province</td>\n",
       "      <td>Tupungato</td>\n",
       "      <td>unknown</td>\n",
       "      <td>Michael Schachner</td>\n",
       "      <td>Ikal 1150 2007 Malbec (Tupungato)</td>\n",
       "      <td>Malbec</td>\n",
       "      <td>Ikal 1150</td>\n",
       "      <td>1150</td>\n",
       "      <td>( Argentina ) Mendoza Province</td>\n",
       "    </tr>\n",
       "    <tr>\n",
       "      <th>127113</th>\n",
       "      <td>Argentina</td>\n",
       "      <td>Rather bland and done up with butterscotch and...</td>\n",
       "      <td>83</td>\n",
       "      <td>20.0</td>\n",
       "      <td>Mendoza Province</td>\n",
       "      <td>Tupungato</td>\n",
       "      <td>unknown</td>\n",
       "      <td>Michael Schachner</td>\n",
       "      <td>Ikal 1150 2007 Chardonnay (Tupungato)</td>\n",
       "      <td>Chardonnay</td>\n",
       "      <td>Ikal 1150</td>\n",
       "      <td>1150</td>\n",
       "      <td>( Argentina ) Mendoza Province</td>\n",
       "    </tr>\n",
       "  </tbody>\n",
       "</table>\n",
       "</div>"
      ],
      "text/plain": [
       "          country                                        description  points  \\\n",
       "83509   Argentina  A little rough on the nose, but under the crus...      86   \n",
       "127113  Argentina  Rather bland and done up with butterscotch and...      83   \n",
       "\n",
       "        price          province   region_1 region_2        taster_name  \\\n",
       "83509    20.0  Mendoza Province  Tupungato  unknown  Michael Schachner   \n",
       "127113   20.0  Mendoza Province  Tupungato  unknown  Michael Schachner   \n",
       "\n",
       "                                        title     variety     winery  year  \\\n",
       "83509       Ikal 1150 2007 Malbec (Tupungato)      Malbec  Ikal 1150  1150   \n",
       "127113  Ikal 1150 2007 Chardonnay (Tupungato)  Chardonnay  Ikal 1150  1150   \n",
       "\n",
       "                     provinceOfCountry  \n",
       "83509   ( Argentina ) Mendoza Province  \n",
       "127113  ( Argentina ) Mendoza Province  "
      ]
     },
     "execution_count": 162,
     "metadata": {},
     "output_type": "execute_result"
    }
   ],
   "source": [
    "wine_df[wine_df['year']=='1150']"
   ]
  },
  {
   "cell_type": "code",
   "execution_count": 160,
   "metadata": {},
   "outputs": [
    {
     "data": {
      "text/html": [
       "<div>\n",
       "<style scoped>\n",
       "    .dataframe tbody tr th:only-of-type {\n",
       "        vertical-align: middle;\n",
       "    }\n",
       "\n",
       "    .dataframe tbody tr th {\n",
       "        vertical-align: top;\n",
       "    }\n",
       "\n",
       "    .dataframe thead th {\n",
       "        text-align: right;\n",
       "    }\n",
       "</style>\n",
       "<table border=\"1\" class=\"dataframe\">\n",
       "  <thead>\n",
       "    <tr style=\"text-align: right;\">\n",
       "      <th></th>\n",
       "      <th>country</th>\n",
       "      <th>description</th>\n",
       "      <th>points</th>\n",
       "      <th>price</th>\n",
       "      <th>province</th>\n",
       "      <th>region_1</th>\n",
       "      <th>region_2</th>\n",
       "      <th>taster_name</th>\n",
       "      <th>title</th>\n",
       "      <th>variety</th>\n",
       "      <th>winery</th>\n",
       "      <th>year</th>\n",
       "      <th>provinceOfCountry</th>\n",
       "    </tr>\n",
       "  </thead>\n",
       "  <tbody>\n",
       "    <tr>\n",
       "      <th>83509</th>\n",
       "      <td>Argentina</td>\n",
       "      <td>A little rough on the nose, but under the crus...</td>\n",
       "      <td>86</td>\n",
       "      <td>20.0</td>\n",
       "      <td>Mendoza Province</td>\n",
       "      <td>Tupungato</td>\n",
       "      <td>unknown</td>\n",
       "      <td>Michael Schachner</td>\n",
       "      <td>Ikal 1150 2007 Malbec (Tupungato)</td>\n",
       "      <td>Malbec</td>\n",
       "      <td>Ikal 1150</td>\n",
       "      <td>1150</td>\n",
       "      <td>( Argentina ) Mendoza Province</td>\n",
       "    </tr>\n",
       "    <tr>\n",
       "      <th>127113</th>\n",
       "      <td>Argentina</td>\n",
       "      <td>Rather bland and done up with butterscotch and...</td>\n",
       "      <td>83</td>\n",
       "      <td>20.0</td>\n",
       "      <td>Mendoza Province</td>\n",
       "      <td>Tupungato</td>\n",
       "      <td>unknown</td>\n",
       "      <td>Michael Schachner</td>\n",
       "      <td>Ikal 1150 2007 Chardonnay (Tupungato)</td>\n",
       "      <td>Chardonnay</td>\n",
       "      <td>Ikal 1150</td>\n",
       "      <td>1150</td>\n",
       "      <td>( Argentina ) Mendoza Province</td>\n",
       "    </tr>\n",
       "  </tbody>\n",
       "</table>\n",
       "</div>"
      ],
      "text/plain": [
       "          country                                        description  points  \\\n",
       "83509   Argentina  A little rough on the nose, but under the crus...      86   \n",
       "127113  Argentina  Rather bland and done up with butterscotch and...      83   \n",
       "\n",
       "        price          province   region_1 region_2        taster_name  \\\n",
       "83509    20.0  Mendoza Province  Tupungato  unknown  Michael Schachner   \n",
       "127113   20.0  Mendoza Province  Tupungato  unknown  Michael Schachner   \n",
       "\n",
       "                                        title     variety     winery  year  \\\n",
       "83509       Ikal 1150 2007 Malbec (Tupungato)      Malbec  Ikal 1150  1150   \n",
       "127113  Ikal 1150 2007 Chardonnay (Tupungato)  Chardonnay  Ikal 1150  1150   \n",
       "\n",
       "                     provinceOfCountry  \n",
       "83509   ( Argentina ) Mendoza Province  \n",
       "127113  ( Argentina ) Mendoza Province  "
      ]
     },
     "execution_count": 160,
     "metadata": {},
     "output_type": "execute_result"
    }
   ],
   "source": [
    "wine_df[wine_df['year']=='1150']"
   ]
  },
  {
   "cell_type": "markdown",
   "metadata": {},
   "source": [
    "## Xử dụng kĩ thuật back fill để điền các giá trị thiếu trong thuộc tính year"
   ]
  },
  {
   "cell_type": "code",
   "execution_count": 147,
   "metadata": {},
   "outputs": [
    {
     "data": {
      "text/plain": [
       "country                                                             US\n",
       "description          A new effort from winemaker Isabelle Dutartre,...\n",
       "points                                                              91\n",
       "price                                                               48\n",
       "province                                                        Oregon\n",
       "region_1                                            Chehalem Mountains\n",
       "region_2                                             Willamette Valley\n",
       "taster_name                                               Paul Gregutt\n",
       "title                  1789 Wines 2007 Pinot Noir (Chehalem Mountains)\n",
       "variety                                                     Pinot Noir\n",
       "winery                                                      1789 Wines\n",
       "year                                                              2007\n",
       "provinceOfCountry                                        ( US ) Oregon\n",
       "Name: 68586, dtype: object"
      ]
     },
     "execution_count": 147,
     "metadata": {},
     "output_type": "execute_result"
    }
   ],
   "source": [
    "wine_df.iloc[68586,:]"
   ]
  },
  {
   "cell_type": "markdown",
   "metadata": {},
   "source": [
    "kĩ thuật điền giá trị thiếu bằng giá trị khác null liền sau gần nhất"
   ]
  },
  {
   "cell_type": "code",
   "execution_count": 45,
   "metadata": {},
   "outputs": [
    {
     "name": "stdout",
     "output_type": "stream",
     "text": [
      "Số lượng giá trị thiếu trong thuộc tính năm là: 4609\n"
     ]
    }
   ],
   "source": [
    "print(\"Số lượng giá trị thiếu trong thuộc tính năm là:\", wine_df.year.isnull().sum())"
   ]
  },
  {
   "cell_type": "code",
   "execution_count": 46,
   "metadata": {},
   "outputs": [
    {
     "name": "stdout",
     "output_type": "stream",
     "text": [
      "Số lượng giá trị thiếu trong thuộc tính năm là: 0\n"
     ]
    }
   ],
   "source": [
    "wine_df['year'].fillna(method = 'bfill', inplace = True)\n",
    "print(\"Số lượng giá trị thiếu trong thuộc tính năm là:\", wine_df.year.isnull().sum())"
   ]
  },
  {
   "cell_type": "markdown",
   "metadata": {
    "heading_collapsed": true
   },
   "source": [
    "## Tạo thêm thuộc tính provinceOfCountry\n",
    "\n",
    "- Là việc kết hợp 2 thuộc tính province và country. Thuộc tích được tạo mới phục vụ tốt hơn cho việc trực quan"
   ]
  },
  {
   "cell_type": "code",
   "execution_count": 47,
   "metadata": {
    "hidden": true
   },
   "outputs": [
    {
     "data": {
      "text/plain": [
       "0    ( Italy ) Sicily & Sardinia\n",
       "1             ( Portugal ) Douro\n",
       "2                  ( US ) Oregon\n",
       "3                ( US ) Michigan\n",
       "4                  ( US ) Oregon\n",
       "Name: provinceOfCountry, dtype: object"
      ]
     },
     "execution_count": 47,
     "metadata": {},
     "output_type": "execute_result"
    }
   ],
   "source": [
    "wine_df['provinceOfCountry'] = '( ' + wine_df['country'] + ' ) ' + wine_df['province']\n",
    "wine_df['provinceOfCountry'].head()"
   ]
  },
  {
   "cell_type": "markdown",
   "metadata": {
    "hidden": true
   },
   "source": [
    "---"
   ]
  },
  {
   "cell_type": "markdown",
   "metadata": {},
   "source": [
    "# Đưa ra các câu hỏi cần trả lời"
   ]
  },
  {
   "cell_type": "markdown",
   "metadata": {},
   "source": [
    "Sau khi có cái nhìn tổng quát và hiểu hơn về dữ liệu, giờ đây mình bắt đầu thấy tò mò và đặt nhiều câu hỏi trong đầu. May thay những câu hỏi này đều có thể giải quyết thông qua dữ liệu.\n",
    "\n",
    "**1**. Những tỉnh thành nào có nhiều khu vực sản suất rượu nhất và mức giá rượu trung bình , điểm số trung bình xuất xứ từ các tỉnh thành này.\n",
    "\n",
    "\n",
    "**2**. Những quốc gia nào có nhiều tỉnh thành sản suất rượu nhất và mức giá rượu trung bình, điểm số trung bình xuất xứ từ quốc gia này.\n",
    "\n",
    "**3** Những nhà sản suất rượu vang nào nổi tiếng nhất thế giới (Masseto, Fontodi...)\n",
    "\n",
    "**3**. 20 loại rượu được ưa chuộng nhất và giá của chúng. \n",
    "\n",
    "**3**. 20 loại nho được ưa chuộng nhất và giá của chúng. \n",
    "\n",
    "**4**. Mối quan hệ giữa điểm số và số lượng từ trong phần đánh giá. \n",
    "\n",
    "\n",
    "**5**. Những từ ngữ được dùng nhiều nhất để đánh giá về top 100 loại rượu được ưu chuộng nhất.\n",
    "\n",
    "\n",
    "**6**. So sánh các loại rượu nổi tiếng được trồng giữa các quốc gia.( không biết 1 loại rượu có thể xuất hiện ở nhiều quốc gia hay không ) Sangiovese\n",
    "\n",
    "**7**. 5 tác giả nào có nhiều bài review nhất và khoảng điểm họ cho trong bài review của mình."
   ]
  },
  {
   "cell_type": "markdown",
   "metadata": {},
   "source": [
    "# Phân tích dữ liệu để trả lời cho các câu hỏi"
   ]
  },
  {
   "cell_type": "markdown",
   "metadata": {},
   "source": [
    "`Trước khi đi vào trả lời các câu hỏi về rượu nho. Chúng ta hãy nạp thêm 1 ít kiến thức về rượu nho nào.`\n",
    "\n",
    " - Với mỗi quốc gia làm rượu vang, thì mỗi nước có công thức và vùng đất nào đó thích hợp cho việc trồng nho làm rượu. Rượu vang được làm từ những trái nho. Ở đây, nho được chọn làm rượu vang là những trái có tiêu chuẩn riêng như trái nhỏ, ngọt, có da dày và chứa hạt. Có rất nhiều rất nhiều loại nho dùng làm rượu thương mại đã được xác định, nhưng chỉ có khoản 150 loại được trồng làm rượu vang trên thế giới.\n",
    "\n",
    "Rượu vang là gì?\n",
    "\n",
    "- <font color = 'blue'>Độ ngon</font> của 1 chai rượu thường được quyết định bởi 3 yếu tố:\n",
    "    + Giống nho\n",
    "    + Vùng trồng nho\n",
    "    + Quy trình sản suất\n",
    "    \n",
    " \n",
    "<font color='blue'> Giống nho </font>:  có rất nhiều giống nho được sử dụng làm rượu vang, mỗi giống sẽ có màu, mùi vị khác nhau. \n",
    "    \n",
    "- Các vùng trồng nho nổi tiếng trên thế giới:\n",
    " + Nước Italia : Tuscany\n",
    " + Nước Tây Ban Nha: vùng rượu vang Rioja\n",
    " + Nước Pháp:Vùng rượu vang Bordeaux"
   ]
  },
  {
   "cell_type": "markdown",
   "metadata": {},
   "source": [
    "## 1.  Những tỉnh thành nào có nhiều khu vực sản suất rượu nhất và mức giá rượu , điểm số trung bình xuất xứ từ các tỉnh thành này."
   ]
  },
  {
   "cell_type": "markdown",
   "metadata": {},
   "source": [
    "<font color='blue'>Độ ngon</font> của 1 chai rượu vang được quyết định bởi loại nho làm nên. Tuy nhiên có thể nói thổ nhưỡng, và khí hậu tại vùng trồng nho là yếu tố quyết định để tạo nên rượu vang với hương vị hoàn hảo. Tại mỗi vùng trồng nho đều có hàm lượng khoáng chất nuôi dưỡng cây nho và khí hậu đặc trưng. Có những loại nho chỉ có thể phát triển trên những mảnh đất đặc thù mà không thể tạo ra trên những mảnh đất khác.\n",
    "\n",
    "--> **Đó là lí do đầu tiên để chúng ta tiến hành phân tích những vùng trồng nho nổi tiếng nhất thế giới.**"
   ]
  },
  {
   "cell_type": "code",
   "execution_count": 48,
   "metadata": {},
   "outputs": [
    {
     "data": {
      "text/plain": [
       "provinceOfCountry\n",
       "( US ) California           181\n",
       "( France ) Burgundy         115\n",
       "( Italy ) Central Italy      69\n",
       "( Italy ) Southern Italy     63\n",
       "( Italy ) Veneto             62\n",
       "                           ... \n",
       "( Portugal ) Duriense         1\n",
       "( Portugal ) Dão              1\n",
       "( Portugal ) Estremadura      1\n",
       "( Portugal ) Lisboa           1\n",
       "( Israel ) Judean Hills       1\n",
       "Name: region_1, Length: 425, dtype: int64"
      ]
     },
     "execution_count": 48,
     "metadata": {},
     "output_type": "execute_result"
    }
   ],
   "source": [
    "best_place_for_wine = wine_df.groupby('provinceOfCountry')['region_1'].nunique().sort_values(ascending = False)\n",
    "best_place_for_wine"
   ]
  },
  {
   "cell_type": "code",
   "execution_count": 49,
   "metadata": {},
   "outputs": [
    {
     "data": {
      "text/plain": [
       "Text(0.5, 1.0, 'Những tỉnh có nhiều khu vực sản suât rượu nho nhất')"
      ]
     },
     "execution_count": 49,
     "metadata": {},
     "output_type": "execute_result"
    },
    {
     "data": {
      "image/png": "[encoded data removed]",
      "text/plain": [
       "<Figure size 1584x1080 with 1 Axes>"
      ]
     },
     "metadata": {},
     "output_type": "display_data"
    }
   ],
   "source": [
    "best_place_for_wine[:15].plot.barh(use_index = True)\n",
    "plt.xlabel('Tổng số vườn nho ( khu vực)', fontsize = 30)\n",
    "plt.ylabel('Tỉnh',fontsize = 30)\n",
    "plt.title('Những tỉnh có nhiều khu vực sản suât rượu nho nhất', fontsize = 30)"
   ]
  },
  {
   "cell_type": "markdown",
   "metadata": {},
   "source": [
    "**Nhận xét:**\n",
    "\n",
    "- Tỉnh ( bang ) có nhiều khu vực trồng nho nhất thế giới là California ở Mỹ, với số lượng vườn nho ở lên tới 175. Xếp sau là Burgundy của Pháp và những tỉnh thuộc Ý. Nếu chúng ta tìm hiểu thì sẽ biết đây là những nơi xuất xứ của những loại rượu vang trứ danh, thuộc các nước nổi tiếng với ngành công nghiệp rượu nho."
   ]
  },
  {
   "cell_type": "markdown",
   "metadata": {
    "heading_collapsed": true
   },
   "source": [
    "### Chúng ta thường nghe về những chai rượu cực kì mắc tiền, vậy chúng xuất xứ từ đâu?"
   ]
  },
  {
   "cell_type": "code",
   "execution_count": 50,
   "metadata": {
    "hidden": true
   },
   "outputs": [
    {
     "data": {
      "text/plain": [
       "Text(0.5, 1.0, 'The regions that produce the first-class wines')"
      ]
     },
     "execution_count": 50,
     "metadata": {},
     "output_type": "execute_result"
    },
    {
     "data": {
      "image/png": "[encoded data removed]",
      "text/plain": [
       "<Figure size 1584x1080 with 1 Axes>"
      ]
     },
     "metadata": {},
     "output_type": "display_data"
    }
   ],
   "source": [
    "price_in_best_place = wine_df.groupby('provinceOfCountry')['price'].agg('max').sort_values(ascending = False)\n",
    "price_in_best_place[:15].plot.barh(use_index = True)\n",
    "plt.xlabel('Price', fontsize=30)\n",
    "plt.ylabel('Province', fontsize = 30)\n",
    "plt.title('The regions that produce the first-class wines', fontsize = 30)"
   ]
  },
  {
   "cell_type": "markdown",
   "metadata": {
    "hidden": true
   },
   "source": [
    "**Nhận xét:**\n",
    "\n",
    "- Biểu đồ trên cho ta biết những vùng nào chuyên sản xuất những loại rượu vang xa xỉ và có chất lượng nhất thế giới. Những chai rượu vang có giá hàng nghìn đô, đến từ các vùng trồng nho nổi tiếng của Pháp, Mỹ, Ý, Úc, Bồ Đào Nha..."
   ]
  },
  {
   "cell_type": "markdown",
   "metadata": {
    "hidden": true
   },
   "source": [
    "*** chèn hình ***"
   ]
  },
  {
   "cell_type": "markdown",
   "metadata": {},
   "source": [
    "### Những vùng nào có thể trồng được nhiều loại nho nhất? Variety là loại nho dùng để làm rượu"
   ]
  },
  {
   "cell_type": "code",
   "execution_count": 51,
   "metadata": {},
   "outputs": [
    {
     "data": {
      "text/plain": [
       "provinceOfCountry\n",
       "( US ) California                       194\n",
       "( US ) Washington                       111\n",
       "( US ) Oregon                            83\n",
       "( US ) New York                          71\n",
       "( Spain ) Northern Spain                 66\n",
       "                                       ... \n",
       "( New Zealand ) Gladstone                 1\n",
       "( US ) Illinois                           1\n",
       "( Morocco ) Guerrouane                    1\n",
       "( South Africa ) Vlootenburg              1\n",
       "( Greece ) Mavrodaphne de Cephalonie      1\n",
       "Name: variety, Length: 425, dtype: int64"
      ]
     },
     "execution_count": 51,
     "metadata": {},
     "output_type": "execute_result"
    }
   ],
   "source": [
    "variety_of_wine_best_place = wine_df.groupby('provinceOfCountry')['variety'].nunique().sort_values(ascending = False)\n",
    "variety_of_wine_best_place"
   ]
  },
  {
   "cell_type": "markdown",
   "metadata": {},
   "source": [
    "**Nhìn qua thử xem California có những loại nho nào để làm rượu? Có số nào trong đó các bạn biết không?**"
   ]
  },
  {
   "cell_type": "code",
   "execution_count": 52,
   "metadata": {},
   "outputs": [
    {
     "data": {
      "text/plain": [
       "Index(['Pinot Noir', 'Cabernet Sauvignon', 'Chardonnay', 'Zinfandel', 'Syrah',\n",
       "       'Sauvignon Blanc', 'Red Blend', 'Merlot', 'Bordeaux-style Red Blend',\n",
       "       'Petite Sirah'],\n",
       "      dtype='object')"
      ]
     },
     "execution_count": 52,
     "metadata": {},
     "output_type": "execute_result"
    }
   ],
   "source": [
    "wine_df[wine_df['province']=='California']['variety'].value_counts(ascending=False).index[:10]"
   ]
  },
  {
   "cell_type": "code",
   "execution_count": 88,
   "metadata": {},
   "outputs": [
    {
     "data": {
      "text/plain": [
       "Text(0.5, 1.0, 'The regions that have the most type of grapes')"
      ]
     },
     "execution_count": 88,
     "metadata": {},
     "output_type": "execute_result"
    },
    {
     "data": {
      "image/png": "[encoded data removed]",
      "text/plain": [
       "<Figure size 1584x1080 with 1 Axes>"
      ]
     },
     "metadata": {},
     "output_type": "display_data"
    }
   ],
   "source": [
    "variety_of_wine_best_place[:15].plot.barh(use_index = True)\n",
    "plt.xlabel('Number of grapes', fontsize=30)\n",
    "plt.ylabel('Province', fontsize = 30)\n",
    "plt.title('The regions that have the most type of grapes', fontsize = 30)"
   ]
  },
  {
   "cell_type": "markdown",
   "metadata": {},
   "source": [
    "**Nhận xét**\n",
    "\n",
    "- Wao, những bang của Mỹ là nơi sở hữu nhiều thương hiệu rượu vang nhất. \n",
    "- Ngoài những nước ở Châu âu, Bắc mỹ thì giờ chúng ta thấy 1 đại diện ở Nam mỹ là Argentina."
   ]
  },
  {
   "cell_type": "markdown",
   "metadata": {},
   "source": [
    "### Sau khi đi qua 1 vài thông tin về mức giá, số loại rượu. Giờ chúng ta phân tích xem những khu vực nào được đánh giá cao về chất lượng rượu"
   ]
  },
  {
   "cell_type": "code",
   "execution_count": 54,
   "metadata": {},
   "outputs": [
    {
     "name": "stdout",
     "output_type": "stream",
     "text": [
      "  10 quốc gia được đánh giá cao nhất về chất lượng rượu: \n"
     ]
    },
    {
     "data": {
      "text/plain": [
       "provinceOfCountry\n",
       "( Austria ) Südburgenland    94.000000\n",
       "( Portugal ) Madeira         93.230769\n",
       "( Germany ) Mittelrhein      92.000000\n",
       "( Chile ) Puente Alto        91.733333\n",
       "( Austria ) Wachau           91.620397\n",
       "( England ) England          91.581081\n",
       "( Chile ) Santa Cruz         91.500000\n",
       "( Austria ) Kamptal          91.454768\n",
       "( Austria ) Traisental       91.255814\n",
       "( Austria ) Eisenberg        91.187500\n",
       "Name: points, dtype: float64"
      ]
     },
     "execution_count": 54,
     "metadata": {},
     "output_type": "execute_result"
    }
   ],
   "source": [
    "best_place_of_points = wine_df.groupby('provinceOfCountry')['points'].agg('mean').sort_values(ascending = False)\n",
    "print(\"  10 quốc gia được đánh giá cao nhất về chất lượng rượu: \")\n",
    "best_place_of_points[:10]"
   ]
  },
  {
   "cell_type": "markdown",
   "metadata": {
    "heading_collapsed": true
   },
   "source": [
    "## 2.Những quốc gia nào có nhiều khu vực sản suất rượu nhất và mức giá rượu , điểm số trung bình xuất xứ từ các quốc gia này."
   ]
  },
  {
   "cell_type": "markdown",
   "metadata": {
    "hidden": true
   },
   "source": [
    "Nho là chịu ảnh hưởng rất lớn bởi khí hâu và đất đai, tùy khu vực mà Nho có thể cho năng suất, sản lượng và chất lượng cao cho việc làm rượu. Do đó không phải quốc gia nào cũng may mắn có nhiều khu vực để trồng nho. Qua vài thông tin trên, chúng ta cũng thấy được là những vùng trồng nho nổi tiếng thường tập trung ở các nước quốc gia Châu Âu, Bắc Mỹ, Nam Mỹ. Vậy hãy cùng phân tích một chút về các quốc gia đứng đầu ở ngành công nghiệp này nhé! "
   ]
  },
  {
   "cell_type": "markdown",
   "metadata": {
    "hidden": true
   },
   "source": [
    "### Những quốc gia có nhiều tỉnh thành sản xuất rượu nhất."
   ]
  },
  {
   "cell_type": "code",
   "execution_count": 55,
   "metadata": {
    "hidden": true
   },
   "outputs": [
    {
     "data": {
      "text/plain": [
       "country\n",
       "Greece          54\n",
       "Chile           43\n",
       "South Africa    42\n",
       "Portugal        40\n",
       "US              27\n",
       "Austria         25\n",
       "New Zealand     19\n",
       "Israel          14\n",
       "Germany         13\n",
       "Croatia         13\n",
       "Romania         13\n",
       "France          11\n",
       "Italy           10\n",
       "Slovenia         9\n",
       "Brazil           8\n",
       "Name: province, dtype: int64"
      ]
     },
     "execution_count": 55,
     "metadata": {},
     "output_type": "execute_result"
    }
   ],
   "source": [
    "top_country_with_most_region = wine_df.groupby('country')['province'].nunique().sort_values(ascending = False)\n",
    "top_country_with_most_region[:15]"
   ]
  },
  {
   "cell_type": "code",
   "execution_count": 56,
   "metadata": {
    "hidden": true
   },
   "outputs": [
    {
     "data": {
      "text/plain": [
       "Text(0.5, 1.0, 'The country that have the most provinces')"
      ]
     },
     "execution_count": 56,
     "metadata": {},
     "output_type": "execute_result"
    },
    {
     "data": {
      "image/png": "[encoded data removed]",
      "text/plain": [
       "<Figure size 1584x1080 with 1 Axes>"
      ]
     },
     "metadata": {},
     "output_type": "display_data"
    }
   ],
   "source": [
    "top_country_with_most_region[:15].plot.barh(use_index = True)\n",
    "plt.xlabel('Number of provinces', fontsize=30)\n",
    "plt.ylabel('Country', fontsize = 30)\n",
    "plt.title('The country that have the most provinces', fontsize = 30)"
   ]
  },
  {
   "cell_type": "markdown",
   "metadata": {
    "hidden": true
   },
   "source": [
    "**Nhận xét**\n",
    "\n",
    "- Ngoài Mỹ ra thì những quóc gia còn lại đều không phải là những quốc gia có những những vùng sản xuất rượu nổi tiếng thế giới.\n",
    "- Có những quốc gia ở khu vực Châu Âu như Hy Lạp ( Greece ), Bồ Đào Nha ( Portugal ) là những quốc gia có nhiều tỉnh thành sản xuất rượu nhất. Ở châu Phi có 1 đại diện là Nam Phi với 42 tỉnh thành trồng nho. Ở Nam mỹ thì có Chi Lê. \n",
    "- Những quốc gia này rất may mắn khi có điện kiện thiên nhiên phù hợp cho việc trồng nho sản suất rượu"
   ]
  },
  {
   "cell_type": "markdown",
   "metadata": {
    "hidden": true
   },
   "source": [
    "### 10 quốc gia có mức giá rượu trung bình cao nhất"
   ]
  },
  {
   "cell_type": "code",
   "execution_count": 68,
   "metadata": {
    "hidden": true
   },
   "outputs": [
    {
     "data": {
      "text/plain": [
       "country\n",
       "Switzerland    85.285714\n",
       "England        51.681159\n",
       "Germany        42.257547\n",
       "France         41.139120\n",
       "Hungary        40.648276\n",
       "Italy          39.663770\n",
       "US             36.573464\n",
       "Canada         35.712598\n",
       "Australia      35.437663\n",
       "Israel         31.768916\n",
       "Name: price, dtype: float64"
      ]
     },
     "execution_count": 68,
     "metadata": {},
     "output_type": "execute_result"
    }
   ],
   "source": [
    "top_country_price = wine_df.groupby('country')['price'].agg('mean').sort_values(ascending = False)\n",
    "top_10_country_price[:10]"
   ]
  },
  {
   "cell_type": "code",
   "execution_count": 69,
   "metadata": {
    "hidden": true
   },
   "outputs": [
    {
     "data": {
      "text/plain": [
       "Text(0.5, 1.0, 'The country that have the most price of wine')"
      ]
     },
     "execution_count": 69,
     "metadata": {},
     "output_type": "execute_result"
    },
    {
     "data": {
      "image/png": "[encoded data removed]",
      "text/plain": [
       "<Figure size 1584x1080 with 1 Axes>"
      ]
     },
     "metadata": {},
     "output_type": "display_data"
    }
   ],
   "source": [
    "top_country_price[:10].plot.barh(use_index = True)\n",
    "plt.xlabel('Price', fontsize=30)\n",
    "plt.ylabel('Country', fontsize = 30)\n",
    "plt.title('The country that have the most price of wine', fontsize = 30)"
   ]
  },
  {
   "cell_type": "markdown",
   "metadata": {
    "hidden": true
   },
   "source": [
    "### Điểm số trung bình về rượu vang của các quốc gia "
   ]
  },
  {
   "cell_type": "code",
   "execution_count": 73,
   "metadata": {
    "hidden": true
   },
   "outputs": [
    {
     "name": "stdout",
     "output_type": "stream",
     "text": [
      " (*)10 quốc gia được đánh giá cao nhất về chất lượng rượu: \n"
     ]
    },
    {
     "data": {
      "text/plain": [
       "country\n",
       "England       91.581081\n",
       "India         90.222222\n",
       "Austria       90.101345\n",
       "Germany       89.851732\n",
       "Canada        89.369650\n",
       "Hungary       89.191781\n",
       "China         89.000000\n",
       "France        88.845109\n",
       "Luxembourg    88.666667\n",
       "unknown       88.634921\n",
       "Name: points, dtype: float64"
      ]
     },
     "execution_count": 73,
     "metadata": {},
     "output_type": "execute_result"
    }
   ],
   "source": [
    "point_of_countries = wine_df.groupby('country')['points'].agg('mean').sort_values(ascending = False)\n",
    "print(\" (*)10 quốc gia được đánh giá cao nhất về chất lượng rượu: \")\n",
    "point_of_countries[:10]"
   ]
  },
  {
   "cell_type": "code",
   "execution_count": 75,
   "metadata": {
    "hidden": true
   },
   "outputs": [
    {
     "name": "stdout",
     "output_type": "stream",
     "text": [
      " (*)10 quốc gia được đánh giá cao thấp về chất lượng rượu: \n"
     ]
    },
    {
     "data": {
      "text/plain": [
       "country\n",
       "Macedonia                 86.833333\n",
       "Uruguay                   86.752294\n",
       "Argentina                 86.710263\n",
       "Bosnia and Herzegovina    86.500000\n",
       "Chile                     86.493515\n",
       "Romania                   86.400000\n",
       "Mexico                    85.257143\n",
       "Brazil                    84.673077\n",
       "Ukraine                   84.071429\n",
       "Peru                      83.562500\n",
       "Name: points, dtype: float64"
      ]
     },
     "execution_count": 75,
     "metadata": {},
     "output_type": "execute_result"
    }
   ],
   "source": [
    "print(\" (*)10 quốc gia được đánh giá cao thấp về chất lượng rượu: \")\n",
    "point_of_countries[-10:]"
   ]
  },
  {
   "cell_type": "markdown",
   "metadata": {},
   "source": [
    "## 3 Những nhà sản suất rượu vang nào nổi tiếng nhất thế giới"
   ]
  },
  {
   "cell_type": "markdown",
   "metadata": {},
   "source": [
    "- Chúng ta đã cùng tìm hiểu qua về các vùng đất nổi tiếng và phù hợp cho việc trồng nho. Đó là tiêu chí đầu tiên để làm ra 1 loại rượu ngon. Giờ chúng ta cùng đến với tiêu chí thứ 2 là cũng không kém phần quan trọng là <font color= 'red'> quy trình sản suất rượu </font>. Mỗi nhà sản suất rượu vang đều có riêng cho những công thức cho để cho ra hương vị ngon nhất. Giờ chúng ta cùng tìm hiểu những nhà sản suất rượu này là ai, thuộc quốc gia nào. "
   ]
  },
  {
   "cell_type": "code",
   "execution_count": 81,
   "metadata": {},
   "outputs": [
    {
     "data": {
      "text/plain": [
       "Wines & Winemakers    222\n",
       "Testarossa            218\n",
       "DFJ Vinhos            215\n",
       "Williams Selyem       211\n",
       "Louis Latour          199\n",
       "                     ... \n",
       "Château Cahuzac         1\n",
       "Fault Line              1\n",
       "Château la Gorre        1\n",
       "Château Fonguillon      1\n",
       "Felline                 1\n",
       "Name: winery, Length: 16756, dtype: int64"
      ]
     },
     "execution_count": 81,
     "metadata": {},
     "output_type": "execute_result"
    }
   ],
   "source": [
    "wine_df['winery'].value_counts()"
   ]
  },
  {
   "cell_type": "code",
   "execution_count": 85,
   "metadata": {},
   "outputs": [
    {
     "data": {
      "text/html": [
       "<div>\n",
       "<style scoped>\n",
       "    .dataframe tbody tr th:only-of-type {\n",
       "        vertical-align: middle;\n",
       "    }\n",
       "\n",
       "    .dataframe tbody tr th {\n",
       "        vertical-align: top;\n",
       "    }\n",
       "\n",
       "    .dataframe thead th {\n",
       "        text-align: right;\n",
       "    }\n",
       "</style>\n",
       "<table border=\"1\" class=\"dataframe\">\n",
       "  <thead>\n",
       "    <tr style=\"text-align: right;\">\n",
       "      <th></th>\n",
       "      <th>country</th>\n",
       "      <th>description</th>\n",
       "      <th>points</th>\n",
       "      <th>price</th>\n",
       "      <th>province</th>\n",
       "      <th>region_1</th>\n",
       "      <th>region_2</th>\n",
       "      <th>taster_name</th>\n",
       "      <th>title</th>\n",
       "      <th>variety</th>\n",
       "      <th>winery</th>\n",
       "      <th>year</th>\n",
       "      <th>provinceOfCountry</th>\n",
       "    </tr>\n",
       "  </thead>\n",
       "  <tbody>\n",
       "    <tr>\n",
       "      <th>218</th>\n",
       "      <td>US</td>\n",
       "      <td>Pithy, with grapefruit and lemon peel flavors,...</td>\n",
       "      <td>90</td>\n",
       "      <td>20.0</td>\n",
       "      <td>California</td>\n",
       "      <td>Napa Valley</td>\n",
       "      <td>Napa</td>\n",
       "      <td>Virginie Boone</td>\n",
       "      <td>Robert Mondavi 2015 Fumé Blanc (Napa Valley)</td>\n",
       "      <td>Fumé Blanc</td>\n",
       "      <td>Robert Mondavi</td>\n",
       "      <td>2015</td>\n",
       "      <td>( US ) California</td>\n",
       "    </tr>\n",
       "    <tr>\n",
       "      <th>314</th>\n",
       "      <td>US</td>\n",
       "      <td>With rich, sweet blackberry and cocoa flavors,...</td>\n",
       "      <td>87</td>\n",
       "      <td>28.0</td>\n",
       "      <td>California</td>\n",
       "      <td>Napa Valley</td>\n",
       "      <td>Napa</td>\n",
       "      <td>unknown</td>\n",
       "      <td>Robert Mondavi 2008 Cabernet Sauvignon (Napa V...</td>\n",
       "      <td>Cabernet Sauvignon</td>\n",
       "      <td>Robert Mondavi</td>\n",
       "      <td>2008</td>\n",
       "      <td>( US ) California</td>\n",
       "    </tr>\n",
       "    <tr>\n",
       "      <th>455</th>\n",
       "      <td>US</td>\n",
       "      <td>Fine acidity and a bracing minerality, like a ...</td>\n",
       "      <td>92</td>\n",
       "      <td>40.0</td>\n",
       "      <td>California</td>\n",
       "      <td>Carneros</td>\n",
       "      <td>Napa-Sonoma</td>\n",
       "      <td>unknown</td>\n",
       "      <td>Robert Mondavi 2011 Reserve Chardonnay (Carneros)</td>\n",
       "      <td>Chardonnay</td>\n",
       "      <td>Robert Mondavi</td>\n",
       "      <td>2011</td>\n",
       "      <td>( US ) California</td>\n",
       "    </tr>\n",
       "    <tr>\n",
       "      <th>1095</th>\n",
       "      <td>US</td>\n",
       "      <td>The winery shows its prowess with making delic...</td>\n",
       "      <td>90</td>\n",
       "      <td>28.0</td>\n",
       "      <td>California</td>\n",
       "      <td>Napa Valley</td>\n",
       "      <td>Napa</td>\n",
       "      <td>Virginie Boone</td>\n",
       "      <td>Robert Mondavi 2011 Cabernet Sauvignon (Napa V...</td>\n",
       "      <td>Cabernet Sauvignon</td>\n",
       "      <td>Robert Mondavi</td>\n",
       "      <td>2011</td>\n",
       "      <td>( US ) California</td>\n",
       "    </tr>\n",
       "    <tr>\n",
       "      <th>1929</th>\n",
       "      <td>US</td>\n",
       "      <td>Mondavi's done it again, produced another very...</td>\n",
       "      <td>87</td>\n",
       "      <td>11.0</td>\n",
       "      <td>California</td>\n",
       "      <td>Central Coast</td>\n",
       "      <td>Central Coast</td>\n",
       "      <td>unknown</td>\n",
       "      <td>Robert Mondavi 2011 Private Selection Cabernet...</td>\n",
       "      <td>Cabernet Sauvignon</td>\n",
       "      <td>Robert Mondavi</td>\n",
       "      <td>2011</td>\n",
       "      <td>( US ) California</td>\n",
       "    </tr>\n",
       "    <tr>\n",
       "      <th>...</th>\n",
       "      <td>...</td>\n",
       "      <td>...</td>\n",
       "      <td>...</td>\n",
       "      <td>...</td>\n",
       "      <td>...</td>\n",
       "      <td>...</td>\n",
       "      <td>...</td>\n",
       "      <td>...</td>\n",
       "      <td>...</td>\n",
       "      <td>...</td>\n",
       "      <td>...</td>\n",
       "      <td>...</td>\n",
       "      <td>...</td>\n",
       "    </tr>\n",
       "    <tr>\n",
       "      <th>125812</th>\n",
       "      <td>US</td>\n",
       "      <td>With notable sweetness, this Moscato should be...</td>\n",
       "      <td>85</td>\n",
       "      <td>8.0</td>\n",
       "      <td>California</td>\n",
       "      <td>California</td>\n",
       "      <td>California Other</td>\n",
       "      <td>unknown</td>\n",
       "      <td>Woodbridge by Robert Mondavi 2010 Moscato (Cal...</td>\n",
       "      <td>Moscato</td>\n",
       "      <td>Woodbridge by Robert Mondavi</td>\n",
       "      <td>2010</td>\n",
       "      <td>( US ) California</td>\n",
       "    </tr>\n",
       "    <tr>\n",
       "      <th>126267</th>\n",
       "      <td>US</td>\n",
       "      <td>Light bodied and lightly flavored, this wine i...</td>\n",
       "      <td>84</td>\n",
       "      <td>8.0</td>\n",
       "      <td>California</td>\n",
       "      <td>California</td>\n",
       "      <td>California Other</td>\n",
       "      <td>Jim Gordon</td>\n",
       "      <td>Woodbridge by Robert Mondavi 2014 Sauvignon Bl...</td>\n",
       "      <td>Sauvignon Blanc</td>\n",
       "      <td>Woodbridge by Robert Mondavi</td>\n",
       "      <td>2014</td>\n",
       "      <td>( US ) California</td>\n",
       "    </tr>\n",
       "    <tr>\n",
       "      <th>127169</th>\n",
       "      <td>US</td>\n",
       "      <td>This is lightly oaked, with pleasant Chardonna...</td>\n",
       "      <td>82</td>\n",
       "      <td>8.0</td>\n",
       "      <td>California</td>\n",
       "      <td>California</td>\n",
       "      <td>California Other</td>\n",
       "      <td>unknown</td>\n",
       "      <td>Woodbridge by Robert Mondavi 2011 Lightly Oake...</td>\n",
       "      <td>Chardonnay</td>\n",
       "      <td>Woodbridge by Robert Mondavi</td>\n",
       "      <td>2011</td>\n",
       "      <td>( US ) California</td>\n",
       "    </tr>\n",
       "    <tr>\n",
       "      <th>127200</th>\n",
       "      <td>US</td>\n",
       "      <td>This wine, from the producer's estate vineyard...</td>\n",
       "      <td>94</td>\n",
       "      <td>85.0</td>\n",
       "      <td>California</td>\n",
       "      <td>Napa Valley</td>\n",
       "      <td>Napa</td>\n",
       "      <td>Virginie Boone</td>\n",
       "      <td>Michael Mondavi Family Estate 2012 Animo Caber...</td>\n",
       "      <td>Cabernet Sauvignon</td>\n",
       "      <td>Michael Mondavi Family Estate</td>\n",
       "      <td>2012</td>\n",
       "      <td>( US ) California</td>\n",
       "    </tr>\n",
       "    <tr>\n",
       "      <th>127828</th>\n",
       "      <td>US</td>\n",
       "      <td>Lots of elegance in this Cabernet. It's dry, f...</td>\n",
       "      <td>89</td>\n",
       "      <td>28.0</td>\n",
       "      <td>California</td>\n",
       "      <td>Napa Valley</td>\n",
       "      <td>Napa</td>\n",
       "      <td>unknown</td>\n",
       "      <td>Robert Mondavi 2010 Cabernet Sauvignon (Napa V...</td>\n",
       "      <td>Cabernet Sauvignon</td>\n",
       "      <td>Robert Mondavi</td>\n",
       "      <td>2010</td>\n",
       "      <td>( US ) California</td>\n",
       "    </tr>\n",
       "  </tbody>\n",
       "</table>\n",
       "<p>203 rows × 13 columns</p>\n",
       "</div>"
      ],
      "text/plain": [
       "       country                                        description  points  \\\n",
       "218         US  Pithy, with grapefruit and lemon peel flavors,...      90   \n",
       "314         US  With rich, sweet blackberry and cocoa flavors,...      87   \n",
       "455         US  Fine acidity and a bracing minerality, like a ...      92   \n",
       "1095        US  The winery shows its prowess with making delic...      90   \n",
       "1929        US  Mondavi's done it again, produced another very...      87   \n",
       "...        ...                                                ...     ...   \n",
       "125812      US  With notable sweetness, this Moscato should be...      85   \n",
       "126267      US  Light bodied and lightly flavored, this wine i...      84   \n",
       "127169      US  This is lightly oaked, with pleasant Chardonna...      82   \n",
       "127200      US  This wine, from the producer's estate vineyard...      94   \n",
       "127828      US  Lots of elegance in this Cabernet. It's dry, f...      89   \n",
       "\n",
       "        price    province       region_1          region_2     taster_name  \\\n",
       "218      20.0  California    Napa Valley              Napa  Virginie Boone   \n",
       "314      28.0  California    Napa Valley              Napa         unknown   \n",
       "455      40.0  California       Carneros       Napa-Sonoma         unknown   \n",
       "1095     28.0  California    Napa Valley              Napa  Virginie Boone   \n",
       "1929     11.0  California  Central Coast     Central Coast         unknown   \n",
       "...       ...         ...            ...               ...             ...   \n",
       "125812    8.0  California     California  California Other         unknown   \n",
       "126267    8.0  California     California  California Other      Jim Gordon   \n",
       "127169    8.0  California     California  California Other         unknown   \n",
       "127200   85.0  California    Napa Valley              Napa  Virginie Boone   \n",
       "127828   28.0  California    Napa Valley              Napa         unknown   \n",
       "\n",
       "                                                    title             variety  \\\n",
       "218          Robert Mondavi 2015 Fumé Blanc (Napa Valley)          Fumé Blanc   \n",
       "314     Robert Mondavi 2008 Cabernet Sauvignon (Napa V...  Cabernet Sauvignon   \n",
       "455     Robert Mondavi 2011 Reserve Chardonnay (Carneros)          Chardonnay   \n",
       "1095    Robert Mondavi 2011 Cabernet Sauvignon (Napa V...  Cabernet Sauvignon   \n",
       "1929    Robert Mondavi 2011 Private Selection Cabernet...  Cabernet Sauvignon   \n",
       "...                                                   ...                 ...   \n",
       "125812  Woodbridge by Robert Mondavi 2010 Moscato (Cal...             Moscato   \n",
       "126267  Woodbridge by Robert Mondavi 2014 Sauvignon Bl...     Sauvignon Blanc   \n",
       "127169  Woodbridge by Robert Mondavi 2011 Lightly Oake...          Chardonnay   \n",
       "127200  Michael Mondavi Family Estate 2012 Animo Caber...  Cabernet Sauvignon   \n",
       "127828  Robert Mondavi 2010 Cabernet Sauvignon (Napa V...  Cabernet Sauvignon   \n",
       "\n",
       "                               winery  year  provinceOfCountry  \n",
       "218                    Robert Mondavi  2015  ( US ) California  \n",
       "314                    Robert Mondavi  2008  ( US ) California  \n",
       "455                    Robert Mondavi  2011  ( US ) California  \n",
       "1095                   Robert Mondavi  2011  ( US ) California  \n",
       "1929                   Robert Mondavi  2011  ( US ) California  \n",
       "...                               ...   ...                ...  \n",
       "125812   Woodbridge by Robert Mondavi  2010  ( US ) California  \n",
       "126267   Woodbridge by Robert Mondavi  2014  ( US ) California  \n",
       "127169   Woodbridge by Robert Mondavi  2011  ( US ) California  \n",
       "127200  Michael Mondavi Family Estate  2012  ( US ) California  \n",
       "127828                 Robert Mondavi  2010  ( US ) California  \n",
       "\n",
       "[203 rows x 13 columns]"
      ]
     },
     "execution_count": 85,
     "metadata": {},
     "output_type": "execute_result"
    }
   ],
   "source": [
    "wine_df[wine_df['winery'].str.contains('Mondavi')]"
   ]
  },
  {
   "cell_type": "code",
   "execution_count": 93,
   "metadata": {},
   "outputs": [
    {
     "data": {
      "text/plain": [
       "16756"
      ]
     },
     "execution_count": 93,
     "metadata": {},
     "output_type": "execute_result"
    }
   ],
   "source": [
    "wine_df['winery'].nunique()"
   ]
  },
  {
   "cell_type": "code",
   "execution_count": 92,
   "metadata": {},
   "outputs": [
    {
     "data": {
      "text/html": [
       "<div>\n",
       "<style scoped>\n",
       "    .dataframe tbody tr th:only-of-type {\n",
       "        vertical-align: middle;\n",
       "    }\n",
       "\n",
       "    .dataframe tbody tr th {\n",
       "        vertical-align: top;\n",
       "    }\n",
       "\n",
       "    .dataframe thead th {\n",
       "        text-align: right;\n",
       "    }\n",
       "</style>\n",
       "<table border=\"1\" class=\"dataframe\">\n",
       "  <thead>\n",
       "    <tr style=\"text-align: right;\">\n",
       "      <th></th>\n",
       "      <th>country</th>\n",
       "      <th>description</th>\n",
       "      <th>points</th>\n",
       "      <th>price</th>\n",
       "      <th>province</th>\n",
       "      <th>region_1</th>\n",
       "      <th>region_2</th>\n",
       "      <th>taster_name</th>\n",
       "      <th>title</th>\n",
       "      <th>variety</th>\n",
       "      <th>winery</th>\n",
       "      <th>year</th>\n",
       "      <th>provinceOfCountry</th>\n",
       "    </tr>\n",
       "  </thead>\n",
       "  <tbody>\n",
       "    <tr>\n",
       "      <th>154</th>\n",
       "      <td>Spain</td>\n",
       "      <td>Ripe aromas of raisin, black plum and horsehid...</td>\n",
       "      <td>91</td>\n",
       "      <td>50.000000</td>\n",
       "      <td>Central Spain</td>\n",
       "      <td>Dominio de Valdepusa</td>\n",
       "      <td>unknown</td>\n",
       "      <td>Michael Schachner</td>\n",
       "      <td>Marques de Griñon 2010 Single Vineyard Estate ...</td>\n",
       "      <td>Graciano</td>\n",
       "      <td>Marques de Griñon</td>\n",
       "      <td>2010</td>\n",
       "      <td>( Spain ) Central Spain</td>\n",
       "    </tr>\n",
       "    <tr>\n",
       "      <th>3321</th>\n",
       "      <td>Spain</td>\n",
       "      <td>A snappy, high-acid wine that pulses with red ...</td>\n",
       "      <td>87</td>\n",
       "      <td>45.000000</td>\n",
       "      <td>Northern Spain</td>\n",
       "      <td>Rioja</td>\n",
       "      <td>unknown</td>\n",
       "      <td>Michael Schachner</td>\n",
       "      <td>Valserrano 2004  Rioja</td>\n",
       "      <td>Graciano</td>\n",
       "      <td>Valserrano</td>\n",
       "      <td>2004</td>\n",
       "      <td>( Spain ) Northern Spain</td>\n",
       "    </tr>\n",
       "    <tr>\n",
       "      <th>6557</th>\n",
       "      <td>US</td>\n",
       "      <td>Cherry aromas and flavors and a velvety textur...</td>\n",
       "      <td>85</td>\n",
       "      <td>25.000000</td>\n",
       "      <td>California</td>\n",
       "      <td>Lodi</td>\n",
       "      <td>Central Valley</td>\n",
       "      <td>Jim Gordon</td>\n",
       "      <td>Ripken 2011 El Matador Graciano (Lodi)</td>\n",
       "      <td>Graciano</td>\n",
       "      <td>Ripken</td>\n",
       "      <td>2011</td>\n",
       "      <td>( US ) California</td>\n",
       "    </tr>\n",
       "    <tr>\n",
       "      <th>8370</th>\n",
       "      <td>Spain</td>\n",
       "      <td>Lazy raisiny aromas reflect a very warm vintag...</td>\n",
       "      <td>87</td>\n",
       "      <td>75.000000</td>\n",
       "      <td>Northern Spain</td>\n",
       "      <td>Rioja</td>\n",
       "      <td>unknown</td>\n",
       "      <td>Michael Schachner</td>\n",
       "      <td>Livius 2009  Rioja</td>\n",
       "      <td>Graciano</td>\n",
       "      <td>Livius</td>\n",
       "      <td>2009</td>\n",
       "      <td>( Spain ) Northern Spain</td>\n",
       "    </tr>\n",
       "    <tr>\n",
       "      <th>10032</th>\n",
       "      <td>Spain</td>\n",
       "      <td>Aromas of graphite, asphalt, floral berry, bla...</td>\n",
       "      <td>89</td>\n",
       "      <td>19.000000</td>\n",
       "      <td>Northern Spain</td>\n",
       "      <td>Rioja</td>\n",
       "      <td>unknown</td>\n",
       "      <td>Michael Schachner</td>\n",
       "      <td>Viña Herminia 2009 Vendimia Seleccionada  (Rioja)</td>\n",
       "      <td>Graciano</td>\n",
       "      <td>Viña Herminia</td>\n",
       "      <td>2009</td>\n",
       "      <td>( Spain ) Northern Spain</td>\n",
       "    </tr>\n",
       "    <tr>\n",
       "      <th>10111</th>\n",
       "      <td>US</td>\n",
       "      <td>Livermore Valley-based Fenestra loves to sourc...</td>\n",
       "      <td>87</td>\n",
       "      <td>25.000000</td>\n",
       "      <td>California</td>\n",
       "      <td>Lodi</td>\n",
       "      <td>Central Valley</td>\n",
       "      <td>Virginie Boone</td>\n",
       "      <td>Fenestra 2009 Graciano (Lodi)</td>\n",
       "      <td>Graciano</td>\n",
       "      <td>Fenestra</td>\n",
       "      <td>2009</td>\n",
       "      <td>( US ) California</td>\n",
       "    </tr>\n",
       "    <tr>\n",
       "      <th>23515</th>\n",
       "      <td>US</td>\n",
       "      <td>Aromas like new leather and wet earth, then fl...</td>\n",
       "      <td>86</td>\n",
       "      <td>28.000000</td>\n",
       "      <td>California</td>\n",
       "      <td>Lodi</td>\n",
       "      <td>Central Valley</td>\n",
       "      <td>Jim Gordon</td>\n",
       "      <td>Fenestra 2011 Graciano (Lodi)</td>\n",
       "      <td>Graciano</td>\n",
       "      <td>Fenestra</td>\n",
       "      <td>2011</td>\n",
       "      <td>( US ) California</td>\n",
       "    </tr>\n",
       "    <tr>\n",
       "      <th>27301</th>\n",
       "      <td>Spain</td>\n",
       "      <td>Heavy char and cedar aromas sit atop green-lea...</td>\n",
       "      <td>88</td>\n",
       "      <td>25.000000</td>\n",
       "      <td>Northern Spain</td>\n",
       "      <td>Rioja</td>\n",
       "      <td>unknown</td>\n",
       "      <td>Michael Schachner</td>\n",
       "      <td>Bodegas Muriel 2011 JME  (Rioja)</td>\n",
       "      <td>Graciano</td>\n",
       "      <td>Bodegas Muriel</td>\n",
       "      <td>2011</td>\n",
       "      <td>( Spain ) Northern Spain</td>\n",
       "    </tr>\n",
       "    <tr>\n",
       "      <th>29621</th>\n",
       "      <td>US</td>\n",
       "      <td>There's some nice weight and spice here in thi...</td>\n",
       "      <td>86</td>\n",
       "      <td>28.000000</td>\n",
       "      <td>California</td>\n",
       "      <td>Clements Hills</td>\n",
       "      <td>Central Valley</td>\n",
       "      <td>Virginie Boone</td>\n",
       "      <td>Riaza 2010 Terra Alta Vineyard Graciano (Cleme...</td>\n",
       "      <td>Graciano</td>\n",
       "      <td>Riaza</td>\n",
       "      <td>2010</td>\n",
       "      <td>( US ) California</td>\n",
       "    </tr>\n",
       "    <tr>\n",
       "      <th>30569</th>\n",
       "      <td>Spain</td>\n",
       "      <td>Heavy char and cedar aromas sit atop green-lea...</td>\n",
       "      <td>88</td>\n",
       "      <td>25.000000</td>\n",
       "      <td>Northern Spain</td>\n",
       "      <td>Rioja</td>\n",
       "      <td>unknown</td>\n",
       "      <td>Michael Schachner</td>\n",
       "      <td>Bodegas Muriel 2011 JME  (Rioja)</td>\n",
       "      <td>Graciano</td>\n",
       "      <td>Bodegas Muriel</td>\n",
       "      <td>2011</td>\n",
       "      <td>( Spain ) Northern Spain</td>\n",
       "    </tr>\n",
       "    <tr>\n",
       "      <th>32718</th>\n",
       "      <td>Spain</td>\n",
       "      <td>This opaque Graciano from Toledo weighs in at ...</td>\n",
       "      <td>89</td>\n",
       "      <td>40.000000</td>\n",
       "      <td>Spain Other</td>\n",
       "      <td>Spain</td>\n",
       "      <td>unknown</td>\n",
       "      <td>Michael Schachner</td>\n",
       "      <td>Carmen Lopez Delgado 2013 Latitud 40 Graciano ...</td>\n",
       "      <td>Graciano</td>\n",
       "      <td>Carmen Lopez Delgado</td>\n",
       "      <td>2013</td>\n",
       "      <td>( Spain ) Spain Other</td>\n",
       "    </tr>\n",
       "    <tr>\n",
       "      <th>32937</th>\n",
       "      <td>Spain</td>\n",
       "      <td>Contino gives its single-vineyard Graciano all...</td>\n",
       "      <td>87</td>\n",
       "      <td>147.000000</td>\n",
       "      <td>Northern Spain</td>\n",
       "      <td>Rioja</td>\n",
       "      <td>unknown</td>\n",
       "      <td>Michael Schachner</td>\n",
       "      <td>Contino 2005 Single Vineyard  (Rioja)</td>\n",
       "      <td>Graciano</td>\n",
       "      <td>Contino</td>\n",
       "      <td>2005</td>\n",
       "      <td>( Spain ) Northern Spain</td>\n",
       "    </tr>\n",
       "    <tr>\n",
       "      <th>33234</th>\n",
       "      <td>Spain</td>\n",
       "      <td>Clove and licorice gum drop aromas are oaky an...</td>\n",
       "      <td>85</td>\n",
       "      <td>15.000000</td>\n",
       "      <td>Northern Spain</td>\n",
       "      <td>Navarra</td>\n",
       "      <td>unknown</td>\n",
       "      <td>Michael Schachner</td>\n",
       "      <td>Zorzal 2011 Viña Zorzal Graciano (Navarra)</td>\n",
       "      <td>Graciano</td>\n",
       "      <td>Zorzal</td>\n",
       "      <td>2011</td>\n",
       "      <td>( Spain ) Northern Spain</td>\n",
       "    </tr>\n",
       "    <tr>\n",
       "      <th>35602</th>\n",
       "      <td>Spain</td>\n",
       "      <td>Varietal Graciano will never fit into the mold...</td>\n",
       "      <td>91</td>\n",
       "      <td>138.000000</td>\n",
       "      <td>Northern Spain</td>\n",
       "      <td>Rioja</td>\n",
       "      <td>unknown</td>\n",
       "      <td>Michael Schachner</td>\n",
       "      <td>Contino 2004 Single Vineyard  (Rioja)</td>\n",
       "      <td>Graciano</td>\n",
       "      <td>Contino</td>\n",
       "      <td>2004</td>\n",
       "      <td>( Spain ) Northern Spain</td>\n",
       "    </tr>\n",
       "    <tr>\n",
       "      <th>39634</th>\n",
       "      <td>Spain</td>\n",
       "      <td>A huge Graciano is what this is. Hailing from ...</td>\n",
       "      <td>91</td>\n",
       "      <td>60.000000</td>\n",
       "      <td>Spain Other</td>\n",
       "      <td>Spain</td>\n",
       "      <td>unknown</td>\n",
       "      <td>Michael Schachner</td>\n",
       "      <td>Carmen Lopez Delgado 2013 Latitud 40+ Graciano...</td>\n",
       "      <td>Graciano</td>\n",
       "      <td>Carmen Lopez Delgado</td>\n",
       "      <td>2013</td>\n",
       "      <td>( Spain ) Spain Other</td>\n",
       "    </tr>\n",
       "    <tr>\n",
       "      <th>41685</th>\n",
       "      <td>Spain</td>\n",
       "      <td>Aromas of graphite, asphalt, floral berry, bla...</td>\n",
       "      <td>89</td>\n",
       "      <td>19.000000</td>\n",
       "      <td>Northern Spain</td>\n",
       "      <td>Rioja</td>\n",
       "      <td>unknown</td>\n",
       "      <td>Michael Schachner</td>\n",
       "      <td>Viña Herminia 2009 Vendimia Seleccionada  (Rioja)</td>\n",
       "      <td>Graciano</td>\n",
       "      <td>Viña Herminia</td>\n",
       "      <td>2009</td>\n",
       "      <td>( Spain ) Northern Spain</td>\n",
       "    </tr>\n",
       "    <tr>\n",
       "      <th>47706</th>\n",
       "      <td>US</td>\n",
       "      <td>This wine captivates with its exotic aroma pro...</td>\n",
       "      <td>92</td>\n",
       "      <td>30.000000</td>\n",
       "      <td>Washington</td>\n",
       "      <td>Snipes Mountain</td>\n",
       "      <td>Columbia Valley</td>\n",
       "      <td>Sean P. Sullivan</td>\n",
       "      <td>Idilico 2012 Reserva Upland Vineyard Graciano ...</td>\n",
       "      <td>Graciano</td>\n",
       "      <td>Idilico</td>\n",
       "      <td>2012</td>\n",
       "      <td>( US ) Washington</td>\n",
       "    </tr>\n",
       "    <tr>\n",
       "      <th>56902</th>\n",
       "      <td>US</td>\n",
       "      <td>A Spanish grape variety produced this tempting...</td>\n",
       "      <td>91</td>\n",
       "      <td>28.000000</td>\n",
       "      <td>California</td>\n",
       "      <td>Clements Hills</td>\n",
       "      <td>Central Valley</td>\n",
       "      <td>Jim Gordon</td>\n",
       "      <td>Quinta Cruz 2010 Bokisch Vineyard Graciano (Cl...</td>\n",
       "      <td>Graciano</td>\n",
       "      <td>Quinta Cruz</td>\n",
       "      <td>2010</td>\n",
       "      <td>( US ) California</td>\n",
       "    </tr>\n",
       "    <tr>\n",
       "      <th>61381</th>\n",
       "      <td>US</td>\n",
       "      <td>This surprisingly rich, concentrated and full-...</td>\n",
       "      <td>91</td>\n",
       "      <td>38.000000</td>\n",
       "      <td>California</td>\n",
       "      <td>Shenandoah Valley (CA)</td>\n",
       "      <td>Sierra Foothills</td>\n",
       "      <td>Jim Gordon</td>\n",
       "      <td>Helwig 2013 Graciano (Shenandoah Valley (CA))</td>\n",
       "      <td>Graciano</td>\n",
       "      <td>Helwig</td>\n",
       "      <td>2013</td>\n",
       "      <td>( US ) California</td>\n",
       "    </tr>\n",
       "    <tr>\n",
       "      <th>64236</th>\n",
       "      <td>US</td>\n",
       "      <td>This is quite a nice find: an excellent wine f...</td>\n",
       "      <td>90</td>\n",
       "      <td>36.000000</td>\n",
       "      <td>California</td>\n",
       "      <td>Calaveras County</td>\n",
       "      <td>Sierra Foothills</td>\n",
       "      <td>Jim Gordon</td>\n",
       "      <td>Metate Hill Vineyards 2009 Graciano (Calaveras...</td>\n",
       "      <td>Graciano</td>\n",
       "      <td>Metate Hill Vineyards</td>\n",
       "      <td>2009</td>\n",
       "      <td>( US ) California</td>\n",
       "    </tr>\n",
       "    <tr>\n",
       "      <th>73780</th>\n",
       "      <td>Spain</td>\n",
       "      <td>Jammy aromas of red berries, red licorice stic...</td>\n",
       "      <td>87</td>\n",
       "      <td>11.000000</td>\n",
       "      <td>Northern Spain</td>\n",
       "      <td>Rioja</td>\n",
       "      <td>unknown</td>\n",
       "      <td>Michael Schachner</td>\n",
       "      <td>Rio Madre 2012  Rioja</td>\n",
       "      <td>Graciano</td>\n",
       "      <td>Rio Madre</td>\n",
       "      <td>2012</td>\n",
       "      <td>( Spain ) Northern Spain</td>\n",
       "    </tr>\n",
       "    <tr>\n",
       "      <th>74200</th>\n",
       "      <td>Spain</td>\n",
       "      <td>Plum, blackberry and dusty earth aromas set up...</td>\n",
       "      <td>89</td>\n",
       "      <td>28.215275</td>\n",
       "      <td>Northern Spain</td>\n",
       "      <td>Rioja</td>\n",
       "      <td>unknown</td>\n",
       "      <td>Michael Schachner</td>\n",
       "      <td>Bodegas Valdemar 2010 Inspiración Valdemar Las...</td>\n",
       "      <td>Graciano</td>\n",
       "      <td>Bodegas Valdemar</td>\n",
       "      <td>2010</td>\n",
       "      <td>( Spain ) Northern Spain</td>\n",
       "    </tr>\n",
       "    <tr>\n",
       "      <th>76349</th>\n",
       "      <td>Spain</td>\n",
       "      <td>Vanilla, pencil eraser and red-berry aromas se...</td>\n",
       "      <td>88</td>\n",
       "      <td>21.000000</td>\n",
       "      <td>Northern Spain</td>\n",
       "      <td>Rioja</td>\n",
       "      <td>unknown</td>\n",
       "      <td>Michael Schachner</td>\n",
       "      <td>Casa Primicia 2008 Gr  (Rioja)</td>\n",
       "      <td>Graciano</td>\n",
       "      <td>Casa Primicia</td>\n",
       "      <td>2008</td>\n",
       "      <td>( Spain ) Northern Spain</td>\n",
       "    </tr>\n",
       "    <tr>\n",
       "      <th>79491</th>\n",
       "      <td>Spain</td>\n",
       "      <td>Muddled, murky initial aromas of earth and loa...</td>\n",
       "      <td>86</td>\n",
       "      <td>13.000000</td>\n",
       "      <td>Northern Spain</td>\n",
       "      <td>Navarra</td>\n",
       "      <td>unknown</td>\n",
       "      <td>Michael Schachner</td>\n",
       "      <td>Zorzal 2011 Graciano (Navarra)</td>\n",
       "      <td>Graciano</td>\n",
       "      <td>Zorzal</td>\n",
       "      <td>2011</td>\n",
       "      <td>( Spain ) Northern Spain</td>\n",
       "    </tr>\n",
       "    <tr>\n",
       "      <th>79529</th>\n",
       "      <td>Spain</td>\n",
       "      <td>Ripe black-fruit aromas include earthy notes a...</td>\n",
       "      <td>91</td>\n",
       "      <td>35.000000</td>\n",
       "      <td>Northern Spain</td>\n",
       "      <td>Navarra</td>\n",
       "      <td>unknown</td>\n",
       "      <td>Michael Schachner</td>\n",
       "      <td>Inurrieta 2012 Laderas de Inurrieta Graciano (...</td>\n",
       "      <td>Graciano</td>\n",
       "      <td>Inurrieta</td>\n",
       "      <td>2012</td>\n",
       "      <td>( Spain ) Northern Spain</td>\n",
       "    </tr>\n",
       "    <tr>\n",
       "      <th>79551</th>\n",
       "      <td>Spain</td>\n",
       "      <td>Black-fruit aromas include oaky notes of bakin...</td>\n",
       "      <td>91</td>\n",
       "      <td>30.000000</td>\n",
       "      <td>Northern Spain</td>\n",
       "      <td>Rioja</td>\n",
       "      <td>unknown</td>\n",
       "      <td>Michael Schachner</td>\n",
       "      <td>Casado Morales 2011 EME Monovarietal Alavesa  ...</td>\n",
       "      <td>Graciano</td>\n",
       "      <td>Casado Morales</td>\n",
       "      <td>2011</td>\n",
       "      <td>( Spain ) Northern Spain</td>\n",
       "    </tr>\n",
       "    <tr>\n",
       "      <th>83702</th>\n",
       "      <td>Spain</td>\n",
       "      <td>From a superb vintage, it delivers a big dose ...</td>\n",
       "      <td>89</td>\n",
       "      <td>34.000000</td>\n",
       "      <td>Northern Spain</td>\n",
       "      <td>Navarra</td>\n",
       "      <td>unknown</td>\n",
       "      <td>Michael Schachner</td>\n",
       "      <td>Inurrieta 2010 Laderas de Inurrieta Graciano (...</td>\n",
       "      <td>Graciano</td>\n",
       "      <td>Inurrieta</td>\n",
       "      <td>2010</td>\n",
       "      <td>( Spain ) Northern Spain</td>\n",
       "    </tr>\n",
       "    <tr>\n",
       "      <th>84781</th>\n",
       "      <td>Spain</td>\n",
       "      <td>Judged against other modern, very ripe 2009 Ri...</td>\n",
       "      <td>90</td>\n",
       "      <td>130.000000</td>\n",
       "      <td>Northern Spain</td>\n",
       "      <td>Rioja</td>\n",
       "      <td>unknown</td>\n",
       "      <td>Michael Schachner</td>\n",
       "      <td>Contino 2009 Single Vineyard  (Rioja)</td>\n",
       "      <td>Graciano</td>\n",
       "      <td>Contino</td>\n",
       "      <td>2009</td>\n",
       "      <td>( Spain ) Northern Spain</td>\n",
       "    </tr>\n",
       "    <tr>\n",
       "      <th>87483</th>\n",
       "      <td>Spain</td>\n",
       "      <td>Intense and frisky, with mild green-herbal aro...</td>\n",
       "      <td>85</td>\n",
       "      <td>95.000000</td>\n",
       "      <td>Northern Spain</td>\n",
       "      <td>Rioja</td>\n",
       "      <td>unknown</td>\n",
       "      <td>Michael Schachner</td>\n",
       "      <td>Bodegas Valdemar 2005 Inspiración Valdemar  (R...</td>\n",
       "      <td>Graciano</td>\n",
       "      <td>Bodegas Valdemar</td>\n",
       "      <td>2005</td>\n",
       "      <td>( Spain ) Northern Spain</td>\n",
       "    </tr>\n",
       "    <tr>\n",
       "      <th>90534</th>\n",
       "      <td>Spain</td>\n",
       "      <td>Lush ripe aromas of earthy black fruits and gr...</td>\n",
       "      <td>92</td>\n",
       "      <td>50.000000</td>\n",
       "      <td>Central Spain</td>\n",
       "      <td>Dominio de Valdepusa</td>\n",
       "      <td>unknown</td>\n",
       "      <td>Michael Schachner</td>\n",
       "      <td>Marques de Griñon 2011 Single Vineyard Estate ...</td>\n",
       "      <td>Graciano</td>\n",
       "      <td>Marques de Griñon</td>\n",
       "      <td>2011</td>\n",
       "      <td>( Spain ) Central Spain</td>\n",
       "    </tr>\n",
       "    <tr>\n",
       "      <th>92361</th>\n",
       "      <td>Spain</td>\n",
       "      <td>Cool rooty grassy aromas are up front. This fe...</td>\n",
       "      <td>84</td>\n",
       "      <td>15.000000</td>\n",
       "      <td>Northern Spain</td>\n",
       "      <td>Rioja</td>\n",
       "      <td>unknown</td>\n",
       "      <td>Michael Schachner</td>\n",
       "      <td>Burgo Viejo 2015  Rioja</td>\n",
       "      <td>Graciano</td>\n",
       "      <td>Burgo Viejo</td>\n",
       "      <td>2015</td>\n",
       "      <td>( Spain ) Northern Spain</td>\n",
       "    </tr>\n",
       "    <tr>\n",
       "      <th>93195</th>\n",
       "      <td>Spain</td>\n",
       "      <td>Balsamic aromas are matched by high-toned blue...</td>\n",
       "      <td>86</td>\n",
       "      <td>120.000000</td>\n",
       "      <td>Northern Spain</td>\n",
       "      <td>Rioja</td>\n",
       "      <td>unknown</td>\n",
       "      <td>Michael Schachner</td>\n",
       "      <td>Dinastía Vivanco 2008 Colección Vivanco Parcel...</td>\n",
       "      <td>Graciano</td>\n",
       "      <td>Dinastía Vivanco</td>\n",
       "      <td>2008</td>\n",
       "      <td>( Spain ) Northern Spain</td>\n",
       "    </tr>\n",
       "    <tr>\n",
       "      <th>94218</th>\n",
       "      <td>US</td>\n",
       "      <td>Graciano is just getting started in Washington...</td>\n",
       "      <td>92</td>\n",
       "      <td>32.000000</td>\n",
       "      <td>Washington</td>\n",
       "      <td>Snipes Mountain</td>\n",
       "      <td>Columbia Valley</td>\n",
       "      <td>Sean P. Sullivan</td>\n",
       "      <td>Pomum 2011 Reserva Graciano (Snipes Mountain)</td>\n",
       "      <td>Graciano</td>\n",
       "      <td>Pomum</td>\n",
       "      <td>2011</td>\n",
       "      <td>( US ) Washington</td>\n",
       "    </tr>\n",
       "    <tr>\n",
       "      <th>96718</th>\n",
       "      <td>US</td>\n",
       "      <td>Fruity, dusty and soft, a dark cherry and plum...</td>\n",
       "      <td>92</td>\n",
       "      <td>21.000000</td>\n",
       "      <td>California</td>\n",
       "      <td>Mokelumne River</td>\n",
       "      <td>Central Valley</td>\n",
       "      <td>Virginie Boone</td>\n",
       "      <td>Bokisch 2008 Las Cerezas Vineyard Graciano (Mo...</td>\n",
       "      <td>Graciano</td>\n",
       "      <td>Bokisch</td>\n",
       "      <td>2008</td>\n",
       "      <td>( US ) California</td>\n",
       "    </tr>\n",
       "    <tr>\n",
       "      <th>102945</th>\n",
       "      <td>US</td>\n",
       "      <td>Touches of wood smoke and cardamom give an exo...</td>\n",
       "      <td>91</td>\n",
       "      <td>28.000000</td>\n",
       "      <td>California</td>\n",
       "      <td>Lodi</td>\n",
       "      <td>Central Valley</td>\n",
       "      <td>Jim Gordon</td>\n",
       "      <td>Fenestra 2012 Graciano (Lodi)</td>\n",
       "      <td>Graciano</td>\n",
       "      <td>Fenestra</td>\n",
       "      <td>2012</td>\n",
       "      <td>( US ) California</td>\n",
       "    </tr>\n",
       "    <tr>\n",
       "      <th>107746</th>\n",
       "      <td>US</td>\n",
       "      <td>This might be one of the most interesting wine...</td>\n",
       "      <td>94</td>\n",
       "      <td>48.000000</td>\n",
       "      <td>California</td>\n",
       "      <td>Lodi</td>\n",
       "      <td>Central Valley</td>\n",
       "      <td>Virginie Boone</td>\n",
       "      <td>Sheldon 2009 Ripken Vineyard Graciano (Lodi)</td>\n",
       "      <td>Graciano</td>\n",
       "      <td>Sheldon</td>\n",
       "      <td>2009</td>\n",
       "      <td>( US ) California</td>\n",
       "    </tr>\n",
       "    <tr>\n",
       "      <th>111066</th>\n",
       "      <td>Spain</td>\n",
       "      <td>Dark in color, with plum, berry and medicinal ...</td>\n",
       "      <td>87</td>\n",
       "      <td>10.000000</td>\n",
       "      <td>Northern Spain</td>\n",
       "      <td>Rioja</td>\n",
       "      <td>unknown</td>\n",
       "      <td>Michael Schachner</td>\n",
       "      <td>Rio Madre 2010  Rioja</td>\n",
       "      <td>Graciano</td>\n",
       "      <td>Rio Madre</td>\n",
       "      <td>2010</td>\n",
       "      <td>( Spain ) Northern Spain</td>\n",
       "    </tr>\n",
       "    <tr>\n",
       "      <th>111447</th>\n",
       "      <td>Spain</td>\n",
       "      <td>Rooty aromas come with a caustic side, somethi...</td>\n",
       "      <td>82</td>\n",
       "      <td>20.000000</td>\n",
       "      <td>Northern Spain</td>\n",
       "      <td>Rioja</td>\n",
       "      <td>unknown</td>\n",
       "      <td>Michael Schachner</td>\n",
       "      <td>Viña Ijalba 2007  Rioja</td>\n",
       "      <td>Graciano</td>\n",
       "      <td>Viña Ijalba</td>\n",
       "      <td>2007</td>\n",
       "      <td>( Spain ) Northern Spain</td>\n",
       "    </tr>\n",
       "    <tr>\n",
       "      <th>113152</th>\n",
       "      <td>Spain</td>\n",
       "      <td>Compact cherry, plum and cassis aromas are nic...</td>\n",
       "      <td>87</td>\n",
       "      <td>40.000000</td>\n",
       "      <td>Northern Spain</td>\n",
       "      <td>Rioja</td>\n",
       "      <td>unknown</td>\n",
       "      <td>Michael Schachner</td>\n",
       "      <td>Bodegas Ondalan 2014 100 Abades  (Rioja)</td>\n",
       "      <td>Graciano</td>\n",
       "      <td>Bodegas Ondalan</td>\n",
       "      <td>2014</td>\n",
       "      <td>( Spain ) Northern Spain</td>\n",
       "    </tr>\n",
       "    <tr>\n",
       "      <th>123703</th>\n",
       "      <td>US</td>\n",
       "      <td>Rare in Oregon (or anywhere this side of the A...</td>\n",
       "      <td>90</td>\n",
       "      <td>30.000000</td>\n",
       "      <td>Oregon</td>\n",
       "      <td>Umpqua Valley</td>\n",
       "      <td>Southern Oregon</td>\n",
       "      <td>Paul Gregutt</td>\n",
       "      <td>Abacela 2014 Barrel Select Graciano (Umpqua Va...</td>\n",
       "      <td>Graciano</td>\n",
       "      <td>Abacela</td>\n",
       "      <td>2014</td>\n",
       "      <td>( US ) Oregon</td>\n",
       "    </tr>\n",
       "    <tr>\n",
       "      <th>128341</th>\n",
       "      <td>Spain</td>\n",
       "      <td>Prune and lead pencil are the key aromas, and ...</td>\n",
       "      <td>88</td>\n",
       "      <td>115.000000</td>\n",
       "      <td>Northern Spain</td>\n",
       "      <td>Rioja</td>\n",
       "      <td>unknown</td>\n",
       "      <td>Michael Schachner</td>\n",
       "      <td>Dinastía Vivanco 2006 Colección Vivanco Parcel...</td>\n",
       "      <td>Graciano</td>\n",
       "      <td>Dinastía Vivanco</td>\n",
       "      <td>2006</td>\n",
       "      <td>( Spain ) Northern Spain</td>\n",
       "    </tr>\n",
       "    <tr>\n",
       "      <th>129728</th>\n",
       "      <td>Spain</td>\n",
       "      <td>Bold oak on the nose places aromas of hickory ...</td>\n",
       "      <td>90</td>\n",
       "      <td>140.000000</td>\n",
       "      <td>Northern Spain</td>\n",
       "      <td>Rioja</td>\n",
       "      <td>unknown</td>\n",
       "      <td>Michael Schachner</td>\n",
       "      <td>Contino 2011  Rioja</td>\n",
       "      <td>Graciano</td>\n",
       "      <td>Contino</td>\n",
       "      <td>2011</td>\n",
       "      <td>( Spain ) Northern Spain</td>\n",
       "    </tr>\n",
       "    <tr>\n",
       "      <th>129766</th>\n",
       "      <td>Spain</td>\n",
       "      <td>Jammy aromas of red berries, red licorice stic...</td>\n",
       "      <td>87</td>\n",
       "      <td>11.000000</td>\n",
       "      <td>Northern Spain</td>\n",
       "      <td>Rioja</td>\n",
       "      <td>unknown</td>\n",
       "      <td>Michael Schachner</td>\n",
       "      <td>Rio Madre 2012  Rioja</td>\n",
       "      <td>Graciano</td>\n",
       "      <td>Rio Madre</td>\n",
       "      <td>2012</td>\n",
       "      <td>( Spain ) Northern Spain</td>\n",
       "    </tr>\n",
       "  </tbody>\n",
       "</table>\n",
       "</div>"
      ],
      "text/plain": [
       "       country                                        description  points  \\\n",
       "154      Spain  Ripe aromas of raisin, black plum and horsehid...      91   \n",
       "3321     Spain  A snappy, high-acid wine that pulses with red ...      87   \n",
       "6557        US  Cherry aromas and flavors and a velvety textur...      85   \n",
       "8370     Spain  Lazy raisiny aromas reflect a very warm vintag...      87   \n",
       "10032    Spain  Aromas of graphite, asphalt, floral berry, bla...      89   \n",
       "10111       US  Livermore Valley-based Fenestra loves to sourc...      87   \n",
       "23515       US  Aromas like new leather and wet earth, then fl...      86   \n",
       "27301    Spain  Heavy char and cedar aromas sit atop green-lea...      88   \n",
       "29621       US  There's some nice weight and spice here in thi...      86   \n",
       "30569    Spain  Heavy char and cedar aromas sit atop green-lea...      88   \n",
       "32718    Spain  This opaque Graciano from Toledo weighs in at ...      89   \n",
       "32937    Spain  Contino gives its single-vineyard Graciano all...      87   \n",
       "33234    Spain  Clove and licorice gum drop aromas are oaky an...      85   \n",
       "35602    Spain  Varietal Graciano will never fit into the mold...      91   \n",
       "39634    Spain  A huge Graciano is what this is. Hailing from ...      91   \n",
       "41685    Spain  Aromas of graphite, asphalt, floral berry, bla...      89   \n",
       "47706       US  This wine captivates with its exotic aroma pro...      92   \n",
       "56902       US  A Spanish grape variety produced this tempting...      91   \n",
       "61381       US  This surprisingly rich, concentrated and full-...      91   \n",
       "64236       US  This is quite a nice find: an excellent wine f...      90   \n",
       "73780    Spain  Jammy aromas of red berries, red licorice stic...      87   \n",
       "74200    Spain  Plum, blackberry and dusty earth aromas set up...      89   \n",
       "76349    Spain  Vanilla, pencil eraser and red-berry aromas se...      88   \n",
       "79491    Spain  Muddled, murky initial aromas of earth and loa...      86   \n",
       "79529    Spain  Ripe black-fruit aromas include earthy notes a...      91   \n",
       "79551    Spain  Black-fruit aromas include oaky notes of bakin...      91   \n",
       "83702    Spain  From a superb vintage, it delivers a big dose ...      89   \n",
       "84781    Spain  Judged against other modern, very ripe 2009 Ri...      90   \n",
       "87483    Spain  Intense and frisky, with mild green-herbal aro...      85   \n",
       "90534    Spain  Lush ripe aromas of earthy black fruits and gr...      92   \n",
       "92361    Spain  Cool rooty grassy aromas are up front. This fe...      84   \n",
       "93195    Spain  Balsamic aromas are matched by high-toned blue...      86   \n",
       "94218       US  Graciano is just getting started in Washington...      92   \n",
       "96718       US  Fruity, dusty and soft, a dark cherry and plum...      92   \n",
       "102945      US  Touches of wood smoke and cardamom give an exo...      91   \n",
       "107746      US  This might be one of the most interesting wine...      94   \n",
       "111066   Spain  Dark in color, with plum, berry and medicinal ...      87   \n",
       "111447   Spain  Rooty aromas come with a caustic side, somethi...      82   \n",
       "113152   Spain  Compact cherry, plum and cassis aromas are nic...      87   \n",
       "123703      US  Rare in Oregon (or anywhere this side of the A...      90   \n",
       "128341   Spain  Prune and lead pencil are the key aromas, and ...      88   \n",
       "129728   Spain  Bold oak on the nose places aromas of hickory ...      90   \n",
       "129766   Spain  Jammy aromas of red berries, red licorice stic...      87   \n",
       "\n",
       "             price        province                region_1          region_2  \\\n",
       "154      50.000000   Central Spain    Dominio de Valdepusa           unknown   \n",
       "3321     45.000000  Northern Spain                   Rioja           unknown   \n",
       "6557     25.000000      California                    Lodi    Central Valley   \n",
       "8370     75.000000  Northern Spain                   Rioja           unknown   \n",
       "10032    19.000000  Northern Spain                   Rioja           unknown   \n",
       "10111    25.000000      California                    Lodi    Central Valley   \n",
       "23515    28.000000      California                    Lodi    Central Valley   \n",
       "27301    25.000000  Northern Spain                   Rioja           unknown   \n",
       "29621    28.000000      California          Clements Hills    Central Valley   \n",
       "30569    25.000000  Northern Spain                   Rioja           unknown   \n",
       "32718    40.000000     Spain Other                   Spain           unknown   \n",
       "32937   147.000000  Northern Spain                   Rioja           unknown   \n",
       "33234    15.000000  Northern Spain                 Navarra           unknown   \n",
       "35602   138.000000  Northern Spain                   Rioja           unknown   \n",
       "39634    60.000000     Spain Other                   Spain           unknown   \n",
       "41685    19.000000  Northern Spain                   Rioja           unknown   \n",
       "47706    30.000000      Washington         Snipes Mountain   Columbia Valley   \n",
       "56902    28.000000      California          Clements Hills    Central Valley   \n",
       "61381    38.000000      California  Shenandoah Valley (CA)  Sierra Foothills   \n",
       "64236    36.000000      California        Calaveras County  Sierra Foothills   \n",
       "73780    11.000000  Northern Spain                   Rioja           unknown   \n",
       "74200    28.215275  Northern Spain                   Rioja           unknown   \n",
       "76349    21.000000  Northern Spain                   Rioja           unknown   \n",
       "79491    13.000000  Northern Spain                 Navarra           unknown   \n",
       "79529    35.000000  Northern Spain                 Navarra           unknown   \n",
       "79551    30.000000  Northern Spain                   Rioja           unknown   \n",
       "83702    34.000000  Northern Spain                 Navarra           unknown   \n",
       "84781   130.000000  Northern Spain                   Rioja           unknown   \n",
       "87483    95.000000  Northern Spain                   Rioja           unknown   \n",
       "90534    50.000000   Central Spain    Dominio de Valdepusa           unknown   \n",
       "92361    15.000000  Northern Spain                   Rioja           unknown   \n",
       "93195   120.000000  Northern Spain                   Rioja           unknown   \n",
       "94218    32.000000      Washington         Snipes Mountain   Columbia Valley   \n",
       "96718    21.000000      California         Mokelumne River    Central Valley   \n",
       "102945   28.000000      California                    Lodi    Central Valley   \n",
       "107746   48.000000      California                    Lodi    Central Valley   \n",
       "111066   10.000000  Northern Spain                   Rioja           unknown   \n",
       "111447   20.000000  Northern Spain                   Rioja           unknown   \n",
       "113152   40.000000  Northern Spain                   Rioja           unknown   \n",
       "123703   30.000000          Oregon           Umpqua Valley   Southern Oregon   \n",
       "128341  115.000000  Northern Spain                   Rioja           unknown   \n",
       "129728  140.000000  Northern Spain                   Rioja           unknown   \n",
       "129766   11.000000  Northern Spain                   Rioja           unknown   \n",
       "\n",
       "              taster_name                                              title  \\\n",
       "154     Michael Schachner  Marques de Griñon 2010 Single Vineyard Estate ...   \n",
       "3321    Michael Schachner                             Valserrano 2004  Rioja   \n",
       "6557           Jim Gordon             Ripken 2011 El Matador Graciano (Lodi)   \n",
       "8370    Michael Schachner                                 Livius 2009  Rioja   \n",
       "10032   Michael Schachner  Viña Herminia 2009 Vendimia Seleccionada  (Rioja)   \n",
       "10111      Virginie Boone                      Fenestra 2009 Graciano (Lodi)   \n",
       "23515          Jim Gordon                      Fenestra 2011 Graciano (Lodi)   \n",
       "27301   Michael Schachner                   Bodegas Muriel 2011 JME  (Rioja)   \n",
       "29621      Virginie Boone  Riaza 2010 Terra Alta Vineyard Graciano (Cleme...   \n",
       "30569   Michael Schachner                   Bodegas Muriel 2011 JME  (Rioja)   \n",
       "32718   Michael Schachner  Carmen Lopez Delgado 2013 Latitud 40 Graciano ...   \n",
       "32937   Michael Schachner              Contino 2005 Single Vineyard  (Rioja)   \n",
       "33234   Michael Schachner         Zorzal 2011 Viña Zorzal Graciano (Navarra)   \n",
       "35602   Michael Schachner              Contino 2004 Single Vineyard  (Rioja)   \n",
       "39634   Michael Schachner  Carmen Lopez Delgado 2013 Latitud 40+ Graciano...   \n",
       "41685   Michael Schachner  Viña Herminia 2009 Vendimia Seleccionada  (Rioja)   \n",
       "47706    Sean P. Sullivan  Idilico 2012 Reserva Upland Vineyard Graciano ...   \n",
       "56902          Jim Gordon  Quinta Cruz 2010 Bokisch Vineyard Graciano (Cl...   \n",
       "61381          Jim Gordon      Helwig 2013 Graciano (Shenandoah Valley (CA))   \n",
       "64236          Jim Gordon  Metate Hill Vineyards 2009 Graciano (Calaveras...   \n",
       "73780   Michael Schachner                              Rio Madre 2012  Rioja   \n",
       "74200   Michael Schachner  Bodegas Valdemar 2010 Inspiración Valdemar Las...   \n",
       "76349   Michael Schachner                     Casa Primicia 2008 Gr  (Rioja)   \n",
       "79491   Michael Schachner                     Zorzal 2011 Graciano (Navarra)   \n",
       "79529   Michael Schachner  Inurrieta 2012 Laderas de Inurrieta Graciano (...   \n",
       "79551   Michael Schachner  Casado Morales 2011 EME Monovarietal Alavesa  ...   \n",
       "83702   Michael Schachner  Inurrieta 2010 Laderas de Inurrieta Graciano (...   \n",
       "84781   Michael Schachner              Contino 2009 Single Vineyard  (Rioja)   \n",
       "87483   Michael Schachner  Bodegas Valdemar 2005 Inspiración Valdemar  (R...   \n",
       "90534   Michael Schachner  Marques de Griñon 2011 Single Vineyard Estate ...   \n",
       "92361   Michael Schachner                            Burgo Viejo 2015  Rioja   \n",
       "93195   Michael Schachner  Dinastía Vivanco 2008 Colección Vivanco Parcel...   \n",
       "94218    Sean P. Sullivan      Pomum 2011 Reserva Graciano (Snipes Mountain)   \n",
       "96718      Virginie Boone  Bokisch 2008 Las Cerezas Vineyard Graciano (Mo...   \n",
       "102945         Jim Gordon                      Fenestra 2012 Graciano (Lodi)   \n",
       "107746     Virginie Boone       Sheldon 2009 Ripken Vineyard Graciano (Lodi)   \n",
       "111066  Michael Schachner                              Rio Madre 2010  Rioja   \n",
       "111447  Michael Schachner                            Viña Ijalba 2007  Rioja   \n",
       "113152  Michael Schachner           Bodegas Ondalan 2014 100 Abades  (Rioja)   \n",
       "123703       Paul Gregutt  Abacela 2014 Barrel Select Graciano (Umpqua Va...   \n",
       "128341  Michael Schachner  Dinastía Vivanco 2006 Colección Vivanco Parcel...   \n",
       "129728  Michael Schachner                                Contino 2011  Rioja   \n",
       "129766  Michael Schachner                              Rio Madre 2012  Rioja   \n",
       "\n",
       "         variety                 winery  year         provinceOfCountry  \n",
       "154     Graciano      Marques de Griñon  2010   ( Spain ) Central Spain  \n",
       "3321    Graciano             Valserrano  2004  ( Spain ) Northern Spain  \n",
       "6557    Graciano                 Ripken  2011         ( US ) California  \n",
       "8370    Graciano                 Livius  2009  ( Spain ) Northern Spain  \n",
       "10032   Graciano          Viña Herminia  2009  ( Spain ) Northern Spain  \n",
       "10111   Graciano               Fenestra  2009         ( US ) California  \n",
       "23515   Graciano               Fenestra  2011         ( US ) California  \n",
       "27301   Graciano         Bodegas Muriel  2011  ( Spain ) Northern Spain  \n",
       "29621   Graciano                  Riaza  2010         ( US ) California  \n",
       "30569   Graciano         Bodegas Muriel  2011  ( Spain ) Northern Spain  \n",
       "32718   Graciano   Carmen Lopez Delgado  2013     ( Spain ) Spain Other  \n",
       "32937   Graciano                Contino  2005  ( Spain ) Northern Spain  \n",
       "33234   Graciano                 Zorzal  2011  ( Spain ) Northern Spain  \n",
       "35602   Graciano                Contino  2004  ( Spain ) Northern Spain  \n",
       "39634   Graciano   Carmen Lopez Delgado  2013     ( Spain ) Spain Other  \n",
       "41685   Graciano          Viña Herminia  2009  ( Spain ) Northern Spain  \n",
       "47706   Graciano                Idilico  2012         ( US ) Washington  \n",
       "56902   Graciano            Quinta Cruz  2010         ( US ) California  \n",
       "61381   Graciano                 Helwig  2013         ( US ) California  \n",
       "64236   Graciano  Metate Hill Vineyards  2009         ( US ) California  \n",
       "73780   Graciano              Rio Madre  2012  ( Spain ) Northern Spain  \n",
       "74200   Graciano       Bodegas Valdemar  2010  ( Spain ) Northern Spain  \n",
       "76349   Graciano          Casa Primicia  2008  ( Spain ) Northern Spain  \n",
       "79491   Graciano                 Zorzal  2011  ( Spain ) Northern Spain  \n",
       "79529   Graciano              Inurrieta  2012  ( Spain ) Northern Spain  \n",
       "79551   Graciano         Casado Morales  2011  ( Spain ) Northern Spain  \n",
       "83702   Graciano              Inurrieta  2010  ( Spain ) Northern Spain  \n",
       "84781   Graciano                Contino  2009  ( Spain ) Northern Spain  \n",
       "87483   Graciano       Bodegas Valdemar  2005  ( Spain ) Northern Spain  \n",
       "90534   Graciano      Marques de Griñon  2011   ( Spain ) Central Spain  \n",
       "92361   Graciano            Burgo Viejo  2015  ( Spain ) Northern Spain  \n",
       "93195   Graciano       Dinastía Vivanco  2008  ( Spain ) Northern Spain  \n",
       "94218   Graciano                  Pomum  2011         ( US ) Washington  \n",
       "96718   Graciano                Bokisch  2008         ( US ) California  \n",
       "102945  Graciano               Fenestra  2012         ( US ) California  \n",
       "107746  Graciano                Sheldon  2009         ( US ) California  \n",
       "111066  Graciano              Rio Madre  2010  ( Spain ) Northern Spain  \n",
       "111447  Graciano            Viña Ijalba  2007  ( Spain ) Northern Spain  \n",
       "113152  Graciano        Bodegas Ondalan  2014  ( Spain ) Northern Spain  \n",
       "123703  Graciano                Abacela  2014             ( US ) Oregon  \n",
       "128341  Graciano       Dinastía Vivanco  2006  ( Spain ) Northern Spain  \n",
       "129728  Graciano                Contino  2011  ( Spain ) Northern Spain  \n",
       "129766  Graciano              Rio Madre  2012  ( Spain ) Northern Spain  "
      ]
     },
     "execution_count": 92,
     "metadata": {},
     "output_type": "execute_result"
    }
   ],
   "source": [
    "wine_df[wine_df['variety'].str.contains('Graciano')]"
   ]
  },
  {
   "cell_type": "markdown",
   "metadata": {},
   "source": [
    "đôi khi tên của loại rượu vang chính là loaại nho làm nên - maà nho thì có thể trồng ở nhiều vùng khác nhau.\n",
    "\n",
    "- Ở 1 khu vực thì 1 loại nho có thể dùng làm nhiều loại rượu không"
   ]
  },
  {
   "cell_type": "code",
   "execution_count": null,
   "metadata": {},
   "outputs": [],
   "source": [
    "wine_df[wine_df['variety']=='']"
   ]
  },
  {
   "cell_type": "code",
   "execution_count": 96,
   "metadata": {},
   "outputs": [
    {
     "data": {
      "text/html": [
       "<div>\n",
       "<style scoped>\n",
       "    .dataframe tbody tr th:only-of-type {\n",
       "        vertical-align: middle;\n",
       "    }\n",
       "\n",
       "    .dataframe tbody tr th {\n",
       "        vertical-align: top;\n",
       "    }\n",
       "\n",
       "    .dataframe thead th {\n",
       "        text-align: right;\n",
       "    }\n",
       "</style>\n",
       "<table border=\"1\" class=\"dataframe\">\n",
       "  <thead>\n",
       "    <tr style=\"text-align: right;\">\n",
       "      <th></th>\n",
       "      <th>country</th>\n",
       "      <th>description</th>\n",
       "      <th>points</th>\n",
       "      <th>price</th>\n",
       "      <th>province</th>\n",
       "      <th>region_1</th>\n",
       "      <th>region_2</th>\n",
       "      <th>taster_name</th>\n",
       "      <th>title</th>\n",
       "      <th>variety</th>\n",
       "      <th>winery</th>\n",
       "      <th>year</th>\n",
       "      <th>provinceOfCountry</th>\n",
       "    </tr>\n",
       "  </thead>\n",
       "  <tbody>\n",
       "    <tr>\n",
       "      <th>10</th>\n",
       "      <td>US</td>\n",
       "      <td>Soft, supple plum envelopes an oaky structure ...</td>\n",
       "      <td>87</td>\n",
       "      <td>19.0</td>\n",
       "      <td>California</td>\n",
       "      <td>Napa Valley</td>\n",
       "      <td>Napa</td>\n",
       "      <td>Virginie Boone</td>\n",
       "      <td>Kirkland Signature 2011 Mountain Cuvée Caberne...</td>\n",
       "      <td>Cabernet Sauvignon</td>\n",
       "      <td>Kirkland Signature</td>\n",
       "      <td>2011</td>\n",
       "      <td>( US ) California</td>\n",
       "    </tr>\n",
       "    <tr>\n",
       "      <th>12</th>\n",
       "      <td>US</td>\n",
       "      <td>Slightly reduced, this wine offers a chalky, t...</td>\n",
       "      <td>87</td>\n",
       "      <td>34.0</td>\n",
       "      <td>California</td>\n",
       "      <td>Alexander Valley</td>\n",
       "      <td>Sonoma</td>\n",
       "      <td>Virginie Boone</td>\n",
       "      <td>Louis M. Martini 2012 Cabernet Sauvignon (Alex...</td>\n",
       "      <td>Cabernet Sauvignon</td>\n",
       "      <td>Louis M. Martini</td>\n",
       "      <td>2012</td>\n",
       "      <td>( US ) California</td>\n",
       "    </tr>\n",
       "    <tr>\n",
       "      <th>60</th>\n",
       "      <td>US</td>\n",
       "      <td>Syrupy and dense, this wine is jammy in plum a...</td>\n",
       "      <td>86</td>\n",
       "      <td>100.0</td>\n",
       "      <td>California</td>\n",
       "      <td>Napa Valley</td>\n",
       "      <td>Napa</td>\n",
       "      <td>Virginie Boone</td>\n",
       "      <td>Okapi 2013 Estate Cabernet Sauvignon (Napa Val...</td>\n",
       "      <td>Cabernet Sauvignon</td>\n",
       "      <td>Okapi</td>\n",
       "      <td>2013</td>\n",
       "      <td>( US ) California</td>\n",
       "    </tr>\n",
       "    <tr>\n",
       "      <th>71</th>\n",
       "      <td>US</td>\n",
       "      <td>Big oak defines this robustly dense and extrac...</td>\n",
       "      <td>86</td>\n",
       "      <td>40.0</td>\n",
       "      <td>California</td>\n",
       "      <td>Alexander Valley</td>\n",
       "      <td>Sonoma</td>\n",
       "      <td>Virginie Boone</td>\n",
       "      <td>Eco Terreno 2013 Old Vine Cabernet Sauvignon (...</td>\n",
       "      <td>Cabernet Sauvignon</td>\n",
       "      <td>Eco Terreno</td>\n",
       "      <td>2013</td>\n",
       "      <td>( US ) California</td>\n",
       "    </tr>\n",
       "    <tr>\n",
       "      <th>73</th>\n",
       "      <td>US</td>\n",
       "      <td>Juicy plum, raspberry and pencil lead lead the...</td>\n",
       "      <td>86</td>\n",
       "      <td>75.0</td>\n",
       "      <td>California</td>\n",
       "      <td>Howell Mountain</td>\n",
       "      <td>Napa</td>\n",
       "      <td>Virginie Boone</td>\n",
       "      <td>Hindsight 2013 Bella Vetta Vineyard Cabernet S...</td>\n",
       "      <td>Cabernet Sauvignon</td>\n",
       "      <td>Hindsight</td>\n",
       "      <td>2013</td>\n",
       "      <td>( US ) California</td>\n",
       "    </tr>\n",
       "    <tr>\n",
       "      <th>...</th>\n",
       "      <td>...</td>\n",
       "      <td>...</td>\n",
       "      <td>...</td>\n",
       "      <td>...</td>\n",
       "      <td>...</td>\n",
       "      <td>...</td>\n",
       "      <td>...</td>\n",
       "      <td>...</td>\n",
       "      <td>...</td>\n",
       "      <td>...</td>\n",
       "      <td>...</td>\n",
       "      <td>...</td>\n",
       "      <td>...</td>\n",
       "    </tr>\n",
       "    <tr>\n",
       "      <th>129832</th>\n",
       "      <td>US</td>\n",
       "      <td>Very ripe, soft and sugary sweet, this Cab has...</td>\n",
       "      <td>86</td>\n",
       "      <td>60.0</td>\n",
       "      <td>California</td>\n",
       "      <td>Diamond Mountain District</td>\n",
       "      <td>Napa</td>\n",
       "      <td>unknown</td>\n",
       "      <td>Coniglio 2004 Cabernet Sauvignon (Diamond Moun...</td>\n",
       "      <td>Cabernet Sauvignon</td>\n",
       "      <td>Coniglio</td>\n",
       "      <td>2004</td>\n",
       "      <td>( US ) California</td>\n",
       "    </tr>\n",
       "    <tr>\n",
       "      <th>129890</th>\n",
       "      <td>US</td>\n",
       "      <td>Chocolate, mocha and coconut notes highlight t...</td>\n",
       "      <td>91</td>\n",
       "      <td>100.0</td>\n",
       "      <td>California</td>\n",
       "      <td>Calistoga</td>\n",
       "      <td>Napa</td>\n",
       "      <td>Virginie Boone</td>\n",
       "      <td>Jax 2013 Estate Block 3 Cabernet Sauvignon (Ca...</td>\n",
       "      <td>Cabernet Sauvignon</td>\n",
       "      <td>Jax</td>\n",
       "      <td>2013</td>\n",
       "      <td>( US ) California</td>\n",
       "    </tr>\n",
       "    <tr>\n",
       "      <th>129905</th>\n",
       "      <td>US</td>\n",
       "      <td>Pencil shaving and graphite notes lend a class...</td>\n",
       "      <td>91</td>\n",
       "      <td>35.0</td>\n",
       "      <td>California</td>\n",
       "      <td>Napa Valley</td>\n",
       "      <td>Napa</td>\n",
       "      <td>Virginie Boone</td>\n",
       "      <td>Conn Creek 2013 Cabernet Sauvignon (Napa Valley)</td>\n",
       "      <td>Cabernet Sauvignon</td>\n",
       "      <td>Conn Creek</td>\n",
       "      <td>2013</td>\n",
       "      <td>( US ) California</td>\n",
       "    </tr>\n",
       "    <tr>\n",
       "      <th>129913</th>\n",
       "      <td>US</td>\n",
       "      <td>Fritz has made tremendous progress with Cab ov...</td>\n",
       "      <td>91</td>\n",
       "      <td>35.0</td>\n",
       "      <td>California</td>\n",
       "      <td>Dry Creek Valley</td>\n",
       "      <td>Sonoma</td>\n",
       "      <td>unknown</td>\n",
       "      <td>Fritz 2005 Cabernet Sauvignon (Dry Creek Valley)</td>\n",
       "      <td>Cabernet Sauvignon</td>\n",
       "      <td>Fritz</td>\n",
       "      <td>2005</td>\n",
       "      <td>( US ) California</td>\n",
       "    </tr>\n",
       "    <tr>\n",
       "      <th>129941</th>\n",
       "      <td>US</td>\n",
       "      <td>This is classic in herbaceous aromas and flavo...</td>\n",
       "      <td>90</td>\n",
       "      <td>35.0</td>\n",
       "      <td>California</td>\n",
       "      <td>Sonoma County</td>\n",
       "      <td>Sonoma</td>\n",
       "      <td>Virginie Boone</td>\n",
       "      <td>Arrowood 2010 Cabernet Sauvignon (Sonoma County)</td>\n",
       "      <td>Cabernet Sauvignon</td>\n",
       "      <td>Arrowood</td>\n",
       "      <td>2010</td>\n",
       "      <td>( US ) California</td>\n",
       "    </tr>\n",
       "  </tbody>\n",
       "</table>\n",
       "<p>5693 rows × 13 columns</p>\n",
       "</div>"
      ],
      "text/plain": [
       "       country                                        description  points  \\\n",
       "10          US  Soft, supple plum envelopes an oaky structure ...      87   \n",
       "12          US  Slightly reduced, this wine offers a chalky, t...      87   \n",
       "60          US  Syrupy and dense, this wine is jammy in plum a...      86   \n",
       "71          US  Big oak defines this robustly dense and extrac...      86   \n",
       "73          US  Juicy plum, raspberry and pencil lead lead the...      86   \n",
       "...        ...                                                ...     ...   \n",
       "129832      US  Very ripe, soft and sugary sweet, this Cab has...      86   \n",
       "129890      US  Chocolate, mocha and coconut notes highlight t...      91   \n",
       "129905      US  Pencil shaving and graphite notes lend a class...      91   \n",
       "129913      US  Fritz has made tremendous progress with Cab ov...      91   \n",
       "129941      US  This is classic in herbaceous aromas and flavo...      90   \n",
       "\n",
       "        price    province                   region_1 region_2     taster_name  \\\n",
       "10       19.0  California                Napa Valley     Napa  Virginie Boone   \n",
       "12       34.0  California           Alexander Valley   Sonoma  Virginie Boone   \n",
       "60      100.0  California                Napa Valley     Napa  Virginie Boone   \n",
       "71       40.0  California           Alexander Valley   Sonoma  Virginie Boone   \n",
       "73       75.0  California            Howell Mountain     Napa  Virginie Boone   \n",
       "...       ...         ...                        ...      ...             ...   \n",
       "129832   60.0  California  Diamond Mountain District     Napa         unknown   \n",
       "129890  100.0  California                  Calistoga     Napa  Virginie Boone   \n",
       "129905   35.0  California                Napa Valley     Napa  Virginie Boone   \n",
       "129913   35.0  California           Dry Creek Valley   Sonoma         unknown   \n",
       "129941   35.0  California              Sonoma County   Sonoma  Virginie Boone   \n",
       "\n",
       "                                                    title             variety  \\\n",
       "10      Kirkland Signature 2011 Mountain Cuvée Caberne...  Cabernet Sauvignon   \n",
       "12      Louis M. Martini 2012 Cabernet Sauvignon (Alex...  Cabernet Sauvignon   \n",
       "60      Okapi 2013 Estate Cabernet Sauvignon (Napa Val...  Cabernet Sauvignon   \n",
       "71      Eco Terreno 2013 Old Vine Cabernet Sauvignon (...  Cabernet Sauvignon   \n",
       "73      Hindsight 2013 Bella Vetta Vineyard Cabernet S...  Cabernet Sauvignon   \n",
       "...                                                   ...                 ...   \n",
       "129832  Coniglio 2004 Cabernet Sauvignon (Diamond Moun...  Cabernet Sauvignon   \n",
       "129890  Jax 2013 Estate Block 3 Cabernet Sauvignon (Ca...  Cabernet Sauvignon   \n",
       "129905   Conn Creek 2013 Cabernet Sauvignon (Napa Valley)  Cabernet Sauvignon   \n",
       "129913   Fritz 2005 Cabernet Sauvignon (Dry Creek Valley)  Cabernet Sauvignon   \n",
       "129941   Arrowood 2010 Cabernet Sauvignon (Sonoma County)  Cabernet Sauvignon   \n",
       "\n",
       "                    winery  year  provinceOfCountry  \n",
       "10      Kirkland Signature  2011  ( US ) California  \n",
       "12        Louis M. Martini  2012  ( US ) California  \n",
       "60                   Okapi  2013  ( US ) California  \n",
       "71             Eco Terreno  2013  ( US ) California  \n",
       "73               Hindsight  2013  ( US ) California  \n",
       "...                    ...   ...                ...  \n",
       "129832            Coniglio  2004  ( US ) California  \n",
       "129890                 Jax  2013  ( US ) California  \n",
       "129905          Conn Creek  2013  ( US ) California  \n",
       "129913               Fritz  2005  ( US ) California  \n",
       "129941            Arrowood  2010  ( US ) California  \n",
       "\n",
       "[5693 rows x 13 columns]"
      ]
     },
     "execution_count": 96,
     "metadata": {},
     "output_type": "execute_result"
    }
   ],
   "source": [
    "wine_df[(wine_df['province']=='California') & (wine_df['variety'] == 'Cabernet Sauvignon')]"
   ]
  },
  {
   "cell_type": "code",
   "execution_count": 97,
   "metadata": {},
   "outputs": [
    {
     "data": {
      "text/plain": [
       "118839"
      ]
     },
     "execution_count": 97,
     "metadata": {},
     "output_type": "execute_result"
    }
   ],
   "source": [
    "wine_df.title.nunique()"
   ]
  },
  {
   "cell_type": "code",
   "execution_count": 99,
   "metadata": {},
   "outputs": [
    {
     "data": {
      "text/plain": [
       "Gloria Ferrer NV Sonoma Brut Sparkling (Sonoma County)                          11\n",
       "Korbel NV Brut Sparkling (California)                                            9\n",
       "Segura Viudas NV Extra Dry Sparkling (Cava)                                      8\n",
       "Gloria Ferrer NV Blanc de Noirs Sparkling (Carneros)                             7\n",
       "Segura Viudas NV Aria Estate Extra Dry Sparkling (Cava)                          7\n",
       "                                                                                ..\n",
       "Domaine Bott-Geyl 2012 Galets Oligocène Pinot Noir (Alsace)                      1\n",
       "Millbrook 2013 Proprietor's Special Reserve Chardonnay (Hudson River Region)     1\n",
       "Penley Estate 2010 Reserve Cabernet Sauvignon (Coonawarra)                       1\n",
       "Muga 2008 Barrel Fermented Viura (Rioja)                                         1\n",
       "Lorenzi Estate 2009 Heritage Red Red (Temecula Valley)                           1\n",
       "Name: title, Length: 118839, dtype: int64"
      ]
     },
     "execution_count": 99,
     "metadata": {},
     "output_type": "execute_result"
    }
   ],
   "source": [
    "wine_df.title.value_counts(ascending = False)"
   ]
  },
  {
   "cell_type": "code",
   "execution_count": 100,
   "metadata": {},
   "outputs": [
    {
     "data": {
      "text/html": [
       "<div>\n",
       "<style scoped>\n",
       "    .dataframe tbody tr th:only-of-type {\n",
       "        vertical-align: middle;\n",
       "    }\n",
       "\n",
       "    .dataframe tbody tr th {\n",
       "        vertical-align: top;\n",
       "    }\n",
       "\n",
       "    .dataframe thead th {\n",
       "        text-align: right;\n",
       "    }\n",
       "</style>\n",
       "<table border=\"1\" class=\"dataframe\">\n",
       "  <thead>\n",
       "    <tr style=\"text-align: right;\">\n",
       "      <th></th>\n",
       "      <th>country</th>\n",
       "      <th>description</th>\n",
       "      <th>points</th>\n",
       "      <th>price</th>\n",
       "      <th>province</th>\n",
       "      <th>region_1</th>\n",
       "      <th>region_2</th>\n",
       "      <th>taster_name</th>\n",
       "      <th>title</th>\n",
       "      <th>variety</th>\n",
       "      <th>winery</th>\n",
       "      <th>year</th>\n",
       "      <th>provinceOfCountry</th>\n",
       "    </tr>\n",
       "  </thead>\n",
       "  <tbody>\n",
       "    <tr>\n",
       "      <th>3209</th>\n",
       "      <td>US</td>\n",
       "      <td>Creamy, lush and somewhat robust, this dry spa...</td>\n",
       "      <td>90</td>\n",
       "      <td>22.0</td>\n",
       "      <td>California</td>\n",
       "      <td>Sonoma County</td>\n",
       "      <td>Sonoma</td>\n",
       "      <td>Virginie Boone</td>\n",
       "      <td>Gloria Ferrer NV Sonoma Brut Sparkling (Sonoma...</td>\n",
       "      <td>Sparkling Blend</td>\n",
       "      <td>Gloria Ferrer</td>\n",
       "      <td>2005</td>\n",
       "      <td>( US ) California</td>\n",
       "    </tr>\n",
       "    <tr>\n",
       "      <th>4399</th>\n",
       "      <td>US</td>\n",
       "      <td>Made predominantly from Pinot Noir, this is an...</td>\n",
       "      <td>88</td>\n",
       "      <td>22.0</td>\n",
       "      <td>California</td>\n",
       "      <td>Sonoma County</td>\n",
       "      <td>Sonoma</td>\n",
       "      <td>Virginie Boone</td>\n",
       "      <td>Gloria Ferrer NV Sonoma Brut Sparkling (Sonoma...</td>\n",
       "      <td>Sparkling Blend</td>\n",
       "      <td>Gloria Ferrer</td>\n",
       "      <td>2016</td>\n",
       "      <td>( US ) California</td>\n",
       "    </tr>\n",
       "    <tr>\n",
       "      <th>27773</th>\n",
       "      <td>US</td>\n",
       "      <td>A wonderfully drinkable sparkling wine that ap...</td>\n",
       "      <td>90</td>\n",
       "      <td>20.0</td>\n",
       "      <td>California</td>\n",
       "      <td>Sonoma County</td>\n",
       "      <td>Sonoma</td>\n",
       "      <td>unknown</td>\n",
       "      <td>Gloria Ferrer NV Sonoma Brut Sparkling (Sonoma...</td>\n",
       "      <td>Sparkling Blend</td>\n",
       "      <td>Gloria Ferrer</td>\n",
       "      <td>2009</td>\n",
       "      <td>( US ) California</td>\n",
       "    </tr>\n",
       "    <tr>\n",
       "      <th>63179</th>\n",
       "      <td>US</td>\n",
       "      <td>Made from mostly Pinot Noir grapes, with an ad...</td>\n",
       "      <td>92</td>\n",
       "      <td>22.0</td>\n",
       "      <td>California</td>\n",
       "      <td>Sonoma County</td>\n",
       "      <td>Sonoma</td>\n",
       "      <td>Virginie Boone</td>\n",
       "      <td>Gloria Ferrer NV Sonoma Brut Sparkling (Sonoma...</td>\n",
       "      <td>Sparkling Blend</td>\n",
       "      <td>Gloria Ferrer</td>\n",
       "      <td>2012</td>\n",
       "      <td>( US ) California</td>\n",
       "    </tr>\n",
       "    <tr>\n",
       "      <th>65584</th>\n",
       "      <td>US</td>\n",
       "      <td>Made from mostly Pinot Noir grapes, with an ad...</td>\n",
       "      <td>92</td>\n",
       "      <td>22.0</td>\n",
       "      <td>California</td>\n",
       "      <td>Sonoma County</td>\n",
       "      <td>Sonoma</td>\n",
       "      <td>Virginie Boone</td>\n",
       "      <td>Gloria Ferrer NV Sonoma Brut Sparkling (Sonoma...</td>\n",
       "      <td>Sparkling Blend</td>\n",
       "      <td>Gloria Ferrer</td>\n",
       "      <td>2012</td>\n",
       "      <td>( US ) California</td>\n",
       "    </tr>\n",
       "    <tr>\n",
       "      <th>81563</th>\n",
       "      <td>US</td>\n",
       "      <td>This wine shows lots of finesse for the price....</td>\n",
       "      <td>89</td>\n",
       "      <td>24.0</td>\n",
       "      <td>California</td>\n",
       "      <td>Sonoma County</td>\n",
       "      <td>Sonoma</td>\n",
       "      <td>unknown</td>\n",
       "      <td>Gloria Ferrer NV Sonoma Brut Sparkling (Sonoma...</td>\n",
       "      <td>Sparkling Blend</td>\n",
       "      <td>Gloria Ferrer</td>\n",
       "      <td>2010</td>\n",
       "      <td>( US ) California</td>\n",
       "    </tr>\n",
       "    <tr>\n",
       "      <th>90689</th>\n",
       "      <td>US</td>\n",
       "      <td>Creamy, lush and somewhat robust, this dry spa...</td>\n",
       "      <td>90</td>\n",
       "      <td>22.0</td>\n",
       "      <td>California</td>\n",
       "      <td>Sonoma County</td>\n",
       "      <td>Sonoma</td>\n",
       "      <td>Virginie Boone</td>\n",
       "      <td>Gloria Ferrer NV Sonoma Brut Sparkling (Sonoma...</td>\n",
       "      <td>Sparkling Blend</td>\n",
       "      <td>Gloria Ferrer</td>\n",
       "      <td>2014</td>\n",
       "      <td>( US ) California</td>\n",
       "    </tr>\n",
       "    <tr>\n",
       "      <th>94321</th>\n",
       "      <td>US</td>\n",
       "      <td>A bit rough and scouring in texture, this tast...</td>\n",
       "      <td>85</td>\n",
       "      <td>20.0</td>\n",
       "      <td>California</td>\n",
       "      <td>Sonoma County</td>\n",
       "      <td>Sonoma</td>\n",
       "      <td>unknown</td>\n",
       "      <td>Gloria Ferrer NV Sonoma Brut Sparkling (Sonoma...</td>\n",
       "      <td>Sparkling Blend</td>\n",
       "      <td>Gloria Ferrer</td>\n",
       "      <td>2011</td>\n",
       "      <td>( US ) California</td>\n",
       "    </tr>\n",
       "    <tr>\n",
       "      <th>100738</th>\n",
       "      <td>US</td>\n",
       "      <td>A good, dry and elegant bubbly. Shows crisp fl...</td>\n",
       "      <td>89</td>\n",
       "      <td>20.0</td>\n",
       "      <td>California</td>\n",
       "      <td>Sonoma County</td>\n",
       "      <td>Sonoma</td>\n",
       "      <td>unknown</td>\n",
       "      <td>Gloria Ferrer NV Sonoma Brut Sparkling (Sonoma...</td>\n",
       "      <td>Sparkling Blend</td>\n",
       "      <td>Gloria Ferrer</td>\n",
       "      <td>2008</td>\n",
       "      <td>( US ) California</td>\n",
       "    </tr>\n",
       "    <tr>\n",
       "      <th>109001</th>\n",
       "      <td>US</td>\n",
       "      <td>From almost 92% Pinot Noir with the remainder ...</td>\n",
       "      <td>88</td>\n",
       "      <td>22.0</td>\n",
       "      <td>California</td>\n",
       "      <td>Sonoma County</td>\n",
       "      <td>Sonoma</td>\n",
       "      <td>Virginie Boone</td>\n",
       "      <td>Gloria Ferrer NV Sonoma Brut Sparkling (Sonoma...</td>\n",
       "      <td>Sparkling Blend</td>\n",
       "      <td>Gloria Ferrer</td>\n",
       "      <td>2011</td>\n",
       "      <td>( US ) California</td>\n",
       "    </tr>\n",
       "    <tr>\n",
       "      <th>122207</th>\n",
       "      <td>US</td>\n",
       "      <td>This bubbly is rich in cherry and raspberry fr...</td>\n",
       "      <td>86</td>\n",
       "      <td>20.0</td>\n",
       "      <td>California</td>\n",
       "      <td>Sonoma County</td>\n",
       "      <td>Sonoma</td>\n",
       "      <td>unknown</td>\n",
       "      <td>Gloria Ferrer NV Sonoma Brut Sparkling (Sonoma...</td>\n",
       "      <td>Sparkling Blend</td>\n",
       "      <td>Gloria Ferrer</td>\n",
       "      <td>2004</td>\n",
       "      <td>( US ) California</td>\n",
       "    </tr>\n",
       "  </tbody>\n",
       "</table>\n",
       "</div>"
      ],
      "text/plain": [
       "       country                                        description  points  \\\n",
       "3209        US  Creamy, lush and somewhat robust, this dry spa...      90   \n",
       "4399        US  Made predominantly from Pinot Noir, this is an...      88   \n",
       "27773       US  A wonderfully drinkable sparkling wine that ap...      90   \n",
       "63179       US  Made from mostly Pinot Noir grapes, with an ad...      92   \n",
       "65584       US  Made from mostly Pinot Noir grapes, with an ad...      92   \n",
       "81563       US  This wine shows lots of finesse for the price....      89   \n",
       "90689       US  Creamy, lush and somewhat robust, this dry spa...      90   \n",
       "94321       US  A bit rough and scouring in texture, this tast...      85   \n",
       "100738      US  A good, dry and elegant bubbly. Shows crisp fl...      89   \n",
       "109001      US  From almost 92% Pinot Noir with the remainder ...      88   \n",
       "122207      US  This bubbly is rich in cherry and raspberry fr...      86   \n",
       "\n",
       "        price    province       region_1 region_2     taster_name  \\\n",
       "3209     22.0  California  Sonoma County   Sonoma  Virginie Boone   \n",
       "4399     22.0  California  Sonoma County   Sonoma  Virginie Boone   \n",
       "27773    20.0  California  Sonoma County   Sonoma         unknown   \n",
       "63179    22.0  California  Sonoma County   Sonoma  Virginie Boone   \n",
       "65584    22.0  California  Sonoma County   Sonoma  Virginie Boone   \n",
       "81563    24.0  California  Sonoma County   Sonoma         unknown   \n",
       "90689    22.0  California  Sonoma County   Sonoma  Virginie Boone   \n",
       "94321    20.0  California  Sonoma County   Sonoma         unknown   \n",
       "100738   20.0  California  Sonoma County   Sonoma         unknown   \n",
       "109001   22.0  California  Sonoma County   Sonoma  Virginie Boone   \n",
       "122207   20.0  California  Sonoma County   Sonoma         unknown   \n",
       "\n",
       "                                                    title          variety  \\\n",
       "3209    Gloria Ferrer NV Sonoma Brut Sparkling (Sonoma...  Sparkling Blend   \n",
       "4399    Gloria Ferrer NV Sonoma Brut Sparkling (Sonoma...  Sparkling Blend   \n",
       "27773   Gloria Ferrer NV Sonoma Brut Sparkling (Sonoma...  Sparkling Blend   \n",
       "63179   Gloria Ferrer NV Sonoma Brut Sparkling (Sonoma...  Sparkling Blend   \n",
       "65584   Gloria Ferrer NV Sonoma Brut Sparkling (Sonoma...  Sparkling Blend   \n",
       "81563   Gloria Ferrer NV Sonoma Brut Sparkling (Sonoma...  Sparkling Blend   \n",
       "90689   Gloria Ferrer NV Sonoma Brut Sparkling (Sonoma...  Sparkling Blend   \n",
       "94321   Gloria Ferrer NV Sonoma Brut Sparkling (Sonoma...  Sparkling Blend   \n",
       "100738  Gloria Ferrer NV Sonoma Brut Sparkling (Sonoma...  Sparkling Blend   \n",
       "109001  Gloria Ferrer NV Sonoma Brut Sparkling (Sonoma...  Sparkling Blend   \n",
       "122207  Gloria Ferrer NV Sonoma Brut Sparkling (Sonoma...  Sparkling Blend   \n",
       "\n",
       "               winery  year  provinceOfCountry  \n",
       "3209    Gloria Ferrer  2005  ( US ) California  \n",
       "4399    Gloria Ferrer  2016  ( US ) California  \n",
       "27773   Gloria Ferrer  2009  ( US ) California  \n",
       "63179   Gloria Ferrer  2012  ( US ) California  \n",
       "65584   Gloria Ferrer  2012  ( US ) California  \n",
       "81563   Gloria Ferrer  2010  ( US ) California  \n",
       "90689   Gloria Ferrer  2014  ( US ) California  \n",
       "94321   Gloria Ferrer  2011  ( US ) California  \n",
       "100738  Gloria Ferrer  2008  ( US ) California  \n",
       "109001  Gloria Ferrer  2011  ( US ) California  \n",
       "122207  Gloria Ferrer  2004  ( US ) California  "
      ]
     },
     "execution_count": 100,
     "metadata": {},
     "output_type": "execute_result"
    }
   ],
   "source": [
    "wine_df[wine_df['title'] == 'Gloria Ferrer NV Sonoma Brut Sparkling (Sonoma County)']"
   ]
  },
  {
   "cell_type": "code",
   "execution_count": 104,
   "metadata": {},
   "outputs": [
    {
     "data": {
      "text/plain": [
       "array(['2013', '2011', '2012', '2010', '2007', '2009', '2008', '2014',\n",
       "       '2015', '2016', '2004', '2003', '2006', '2001', '2005', '2002',\n",
       "       '1887', '2000', '1999', '1991', '1997', '1996', '1877', '2017',\n",
       "       '1995', '1872', '1637', '1868', '1898', '1492', '1998', '7200',\n",
       "       '1852', '1994', '1992', '1840', '1929', '1912', '1875', '1976',\n",
       "       '1964', '1848', '1870', '1856', '1983', '1967', '1990', '1988',\n",
       "       '1827', '1860', '1850', '1000', '1980', '1987', '1989', '1993',\n",
       "       '1969', '1882', '1935', '1503', '1821', '1973', '1978', '1965',\n",
       "       '1968', '1947', '1963', '1070', '1985', '1927', '1904', '1847',\n",
       "       '1982', '1986', '1752', '1789', '1607', '1621', '1919', '1957',\n",
       "       '1966', '1984', '1961', '1845', '1952', '1150', '1941', '1974',\n",
       "       '3000', '1934', '1945'], dtype=object)"
      ]
     },
     "execution_count": 104,
     "metadata": {},
     "output_type": "execute_result"
    }
   ],
   "source": [
    "wine_df['year'].unique()"
   ]
  },
  {
   "cell_type": "code",
   "execution_count": 105,
   "metadata": {},
   "outputs": [
    {
     "data": {
      "text/html": [
       "<div>\n",
       "<style scoped>\n",
       "    .dataframe tbody tr th:only-of-type {\n",
       "        vertical-align: middle;\n",
       "    }\n",
       "\n",
       "    .dataframe tbody tr th {\n",
       "        vertical-align: top;\n",
       "    }\n",
       "\n",
       "    .dataframe thead th {\n",
       "        text-align: right;\n",
       "    }\n",
       "</style>\n",
       "<table border=\"1\" class=\"dataframe\">\n",
       "  <thead>\n",
       "    <tr style=\"text-align: right;\">\n",
       "      <th></th>\n",
       "      <th>country</th>\n",
       "      <th>description</th>\n",
       "      <th>points</th>\n",
       "      <th>price</th>\n",
       "      <th>province</th>\n",
       "      <th>region_1</th>\n",
       "      <th>region_2</th>\n",
       "      <th>taster_name</th>\n",
       "      <th>title</th>\n",
       "      <th>variety</th>\n",
       "      <th>winery</th>\n",
       "      <th>year</th>\n",
       "      <th>provinceOfCountry</th>\n",
       "    </tr>\n",
       "  </thead>\n",
       "  <tbody>\n",
       "    <tr>\n",
       "      <th>53228</th>\n",
       "      <td>US</td>\n",
       "      <td>Flavors of green hay, tart juniper berry and g...</td>\n",
       "      <td>88</td>\n",
       "      <td>25.0</td>\n",
       "      <td>California</td>\n",
       "      <td>Rutherford</td>\n",
       "      <td>Napa</td>\n",
       "      <td>unknown</td>\n",
       "      <td>1070 Green 2011 Sauvignon Blanc (Rutherford)</td>\n",
       "      <td>Sauvignon Blanc</td>\n",
       "      <td>1070 Green</td>\n",
       "      <td>1070</td>\n",
       "      <td>( US ) California</td>\n",
       "    </tr>\n",
       "  </tbody>\n",
       "</table>\n",
       "</div>"
      ],
      "text/plain": [
       "      country                                        description  points  \\\n",
       "53228      US  Flavors of green hay, tart juniper berry and g...      88   \n",
       "\n",
       "       price    province    region_1 region_2 taster_name  \\\n",
       "53228   25.0  California  Rutherford     Napa     unknown   \n",
       "\n",
       "                                              title          variety  \\\n",
       "53228  1070 Green 2011 Sauvignon Blanc (Rutherford)  Sauvignon Blanc   \n",
       "\n",
       "           winery  year  provinceOfCountry  \n",
       "53228  1070 Green  1070  ( US ) California  "
      ]
     },
     "execution_count": 105,
     "metadata": {},
     "output_type": "execute_result"
    }
   ],
   "source": [
    "wine_df[wine_df['year'] == '1070']"
   ]
  },
  {
   "cell_type": "code",
   "execution_count": null,
   "metadata": {},
   "outputs": [],
   "source": []
  }
 ],
 "metadata": {
  "kernelspec": {
   "display_name": "Python 3",
   "language": "python",
   "name": "python3"
  },
  "language_info": {
   "codemirror_mode": {
    "name": "ipython",
    "version": 3
   },
   "file_extension": ".py",
   "mimetype": "text/x-python",
   "name": "python",
   "nbconvert_exporter": "python",
   "pygments_lexer": "ipython3",
   "version": "3.7.6"
  },
  "toc": {
   "base_numbering": 1,
   "nav_menu": {},
   "number_sections": false,
   "sideBar": true,
   "skip_h1_title": false,
   "title_cell": "Table of Contents",
   "title_sidebar": "Contents",
   "toc_cell": false,
   "toc_position": {},
   "toc_section_display": true,
   "toc_window_display": false
  }
 },
 "nbformat": 4,
 "nbformat_minor": 4
}
