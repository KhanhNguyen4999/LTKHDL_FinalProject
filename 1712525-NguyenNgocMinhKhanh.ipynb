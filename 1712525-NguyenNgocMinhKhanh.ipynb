{
 "cells": [
  {
   "cell_type": "markdown",
   "metadata": {},
   "source": [
    "# Đồ án cuối kì\n",
    "\n",
    "MSSV: 1712525\n",
    "\n",
    "Họ và tên: Nguyễn Ngọc Minh Khánh"
   ]
  },
  {
   "cell_type": "markdown",
   "metadata": {},
   "source": [
    "# Import thư viện"
   ]
  },
  {
   "cell_type": "code",
   "execution_count": 1,
   "metadata": {},
   "outputs": [],
   "source": [
    "import pandas as pd\n",
    "import warnings\n",
    "import seaborn as sns\n",
    "import numpy as np\n",
    "import matplotlib.pyplot as plt\n",
    "import re\n",
    "warnings.filterwarnings('ignore')\n",
    "\n",
    "plt.style.use('fivethirtyeight')\n",
    "plt.rcParams['figure.figsize'] = 22, 15\n",
    "plt.rcParams['xtick.labelsize']=15\n",
    "plt.rcParams['ytick.labelsize']=15"
   ]
  },
  {
   "cell_type": "markdown",
   "metadata": {},
   "source": [
    "---"
   ]
  },
  {
   "cell_type": "markdown",
   "metadata": {},
   "source": [
    "# Lấy dữ liệu\n",
    "\n",
    "Dữ liệu được dùng trong đồ án cuối kì này là file winemag-data-130k-v2.csv. Đây là dữ liệu về đánh giá điểm và nhận xét về chất lượng của các loại rượu thuộc nhiều khu vực, nhiều quốc gia. Dữ liệu được lấy từ dataset \"wine-reviews\" trên kaggle. Dữ liệu gốc có thể lấy [tại đây](https://www.kaggle.com/zynicide/wine-reviews) "
   ]
  },
  {
   "cell_type": "markdown",
   "metadata": {},
   "source": [
    "---"
   ]
  },
  {
   "cell_type": "markdown",
   "metadata": {},
   "source": [
    "# Khám phá dữ liệu"
   ]
  },
  {
   "cell_type": "markdown",
   "metadata": {},
   "source": [
    "## Đọc dữ liệu từ file csv vào dataframe"
   ]
  },
  {
   "cell_type": "code",
   "execution_count": 122,
   "metadata": {},
   "outputs": [
    {
     "data": {
      "text/html": [
       "<div>\n",
       "<style scoped>\n",
       "    .dataframe tbody tr th:only-of-type {\n",
       "        vertical-align: middle;\n",
       "    }\n",
       "\n",
       "    .dataframe tbody tr th {\n",
       "        vertical-align: top;\n",
       "    }\n",
       "\n",
       "    .dataframe thead th {\n",
       "        text-align: right;\n",
       "    }\n",
       "</style>\n",
       "<table border=\"1\" class=\"dataframe\">\n",
       "  <thead>\n",
       "    <tr style=\"text-align: right;\">\n",
       "      <th></th>\n",
       "      <th>Unnamed: 0</th>\n",
       "      <th>country</th>\n",
       "      <th>description</th>\n",
       "      <th>designation</th>\n",
       "      <th>points</th>\n",
       "      <th>price</th>\n",
       "      <th>province</th>\n",
       "      <th>region_1</th>\n",
       "      <th>region_2</th>\n",
       "      <th>taster_name</th>\n",
       "      <th>taster_twitter_handle</th>\n",
       "      <th>title</th>\n",
       "      <th>variety</th>\n",
       "      <th>winery</th>\n",
       "    </tr>\n",
       "  </thead>\n",
       "  <tbody>\n",
       "    <tr>\n",
       "      <th>0</th>\n",
       "      <td>0</td>\n",
       "      <td>Italy</td>\n",
       "      <td>Aromas include tropical fruit, broom, brimston...</td>\n",
       "      <td>Vulkà Bianco</td>\n",
       "      <td>87</td>\n",
       "      <td>NaN</td>\n",
       "      <td>Sicily &amp; Sardinia</td>\n",
       "      <td>Etna</td>\n",
       "      <td>NaN</td>\n",
       "      <td>Kerin O’Keefe</td>\n",
       "      <td>@kerinokeefe</td>\n",
       "      <td>Nicosia 2013 Vulkà Bianco  (Etna)</td>\n",
       "      <td>White Blend</td>\n",
       "      <td>Nicosia</td>\n",
       "    </tr>\n",
       "    <tr>\n",
       "      <th>1</th>\n",
       "      <td>1</td>\n",
       "      <td>Portugal</td>\n",
       "      <td>This is ripe and fruity, a wine that is smooth...</td>\n",
       "      <td>Avidagos</td>\n",
       "      <td>87</td>\n",
       "      <td>15.0</td>\n",
       "      <td>Douro</td>\n",
       "      <td>NaN</td>\n",
       "      <td>NaN</td>\n",
       "      <td>Roger Voss</td>\n",
       "      <td>@vossroger</td>\n",
       "      <td>Quinta dos Avidagos 2011 Avidagos Red (Douro)</td>\n",
       "      <td>Portuguese Red</td>\n",
       "      <td>Quinta dos Avidagos</td>\n",
       "    </tr>\n",
       "    <tr>\n",
       "      <th>2</th>\n",
       "      <td>2</td>\n",
       "      <td>US</td>\n",
       "      <td>Tart and snappy, the flavors of lime flesh and...</td>\n",
       "      <td>NaN</td>\n",
       "      <td>87</td>\n",
       "      <td>14.0</td>\n",
       "      <td>Oregon</td>\n",
       "      <td>Willamette Valley</td>\n",
       "      <td>Willamette Valley</td>\n",
       "      <td>Paul Gregutt</td>\n",
       "      <td>@paulgwine</td>\n",
       "      <td>Rainstorm 2013 Pinot Gris (Willamette Valley)</td>\n",
       "      <td>Pinot Gris</td>\n",
       "      <td>Rainstorm</td>\n",
       "    </tr>\n",
       "    <tr>\n",
       "      <th>3</th>\n",
       "      <td>3</td>\n",
       "      <td>US</td>\n",
       "      <td>Pineapple rind, lemon pith and orange blossom ...</td>\n",
       "      <td>Reserve Late Harvest</td>\n",
       "      <td>87</td>\n",
       "      <td>13.0</td>\n",
       "      <td>Michigan</td>\n",
       "      <td>Lake Michigan Shore</td>\n",
       "      <td>NaN</td>\n",
       "      <td>Alexander Peartree</td>\n",
       "      <td>NaN</td>\n",
       "      <td>St. Julian 2013 Reserve Late Harvest Riesling ...</td>\n",
       "      <td>Riesling</td>\n",
       "      <td>St. Julian</td>\n",
       "    </tr>\n",
       "    <tr>\n",
       "      <th>4</th>\n",
       "      <td>4</td>\n",
       "      <td>US</td>\n",
       "      <td>Much like the regular bottling from 2012, this...</td>\n",
       "      <td>Vintner's Reserve Wild Child Block</td>\n",
       "      <td>87</td>\n",
       "      <td>65.0</td>\n",
       "      <td>Oregon</td>\n",
       "      <td>Willamette Valley</td>\n",
       "      <td>Willamette Valley</td>\n",
       "      <td>Paul Gregutt</td>\n",
       "      <td>@paulgwine</td>\n",
       "      <td>Sweet Cheeks 2012 Vintner's Reserve Wild Child...</td>\n",
       "      <td>Pinot Noir</td>\n",
       "      <td>Sweet Cheeks</td>\n",
       "    </tr>\n",
       "  </tbody>\n",
       "</table>\n",
       "</div>"
      ],
      "text/plain": [
       "   Unnamed: 0   country                                        description  \\\n",
       "0           0     Italy  Aromas include tropical fruit, broom, brimston...   \n",
       "1           1  Portugal  This is ripe and fruity, a wine that is smooth...   \n",
       "2           2        US  Tart and snappy, the flavors of lime flesh and...   \n",
       "3           3        US  Pineapple rind, lemon pith and orange blossom ...   \n",
       "4           4        US  Much like the regular bottling from 2012, this...   \n",
       "\n",
       "                          designation  points  price           province  \\\n",
       "0                        Vulkà Bianco      87    NaN  Sicily & Sardinia   \n",
       "1                            Avidagos      87   15.0              Douro   \n",
       "2                                 NaN      87   14.0             Oregon   \n",
       "3                Reserve Late Harvest      87   13.0           Michigan   \n",
       "4  Vintner's Reserve Wild Child Block      87   65.0             Oregon   \n",
       "\n",
       "              region_1           region_2         taster_name  \\\n",
       "0                 Etna                NaN       Kerin O’Keefe   \n",
       "1                  NaN                NaN          Roger Voss   \n",
       "2    Willamette Valley  Willamette Valley        Paul Gregutt   \n",
       "3  Lake Michigan Shore                NaN  Alexander Peartree   \n",
       "4    Willamette Valley  Willamette Valley        Paul Gregutt   \n",
       "\n",
       "  taster_twitter_handle                                              title  \\\n",
       "0          @kerinokeefe                  Nicosia 2013 Vulkà Bianco  (Etna)   \n",
       "1            @vossroger      Quinta dos Avidagos 2011 Avidagos Red (Douro)   \n",
       "2           @paulgwine       Rainstorm 2013 Pinot Gris (Willamette Valley)   \n",
       "3                   NaN  St. Julian 2013 Reserve Late Harvest Riesling ...   \n",
       "4           @paulgwine   Sweet Cheeks 2012 Vintner's Reserve Wild Child...   \n",
       "\n",
       "          variety               winery  \n",
       "0     White Blend              Nicosia  \n",
       "1  Portuguese Red  Quinta dos Avidagos  \n",
       "2      Pinot Gris            Rainstorm  \n",
       "3        Riesling           St. Julian  \n",
       "4      Pinot Noir         Sweet Cheeks  "
      ]
     },
     "execution_count": 122,
     "metadata": {},
     "output_type": "execute_result"
    }
   ],
   "source": [
    "wine_df = pd.read_csv('winemag-data-130k-v2.csv')\n",
    "wine_df.head()"
   ]
  },
  {
   "cell_type": "markdown",
   "metadata": {},
   "source": [
    "## Số lượng dòng và cột của dữ liệu"
   ]
  },
  {
   "cell_type": "code",
   "execution_count": 123,
   "metadata": {},
   "outputs": [
    {
     "name": "stdout",
     "output_type": "stream",
     "text": [
      "Số lượng dòng:  129971\n",
      "Số lượng cột:  14\n"
     ]
    }
   ],
   "source": [
    "num_rows = wine_df.shape[0]\n",
    "num_cols = wine_df.shape[1]\n",
    "print('Số lượng dòng: ', num_rows)\n",
    "print('Số lượng cột: ', num_cols)"
   ]
  },
  {
   "cell_type": "markdown",
   "metadata": {},
   "source": [
    "**Giải thích**:\n",
    "\n",
    "Mỗi dòng có là chứa 1 phần nhận xét (description) và đánh giá điểm (point) của 1 tác giả cho 1 loại rượu cụ thể. Nên cũng có thể có 1 loại rượu được đánh giá bởi nhiều tác giả khác nhau.\n",
    "\n",
    "1 loại rượu thì có thể được phân biệt với nhau nếu khác nhau về 1 trong những yếu tố như loại nho làm rượu, nhà sản suất, năm sản suất, vùng sản suất. Nên để phân biệt giữa các loại rượu với nhau ta dùng phần `title`."
   ]
  },
  {
   "cell_type": "markdown",
   "metadata": {},
   "source": [
    "## Mô tả ý nghĩa của mỗi dòng và cột"
   ]
  },
  {
   "cell_type": "markdown",
   "metadata": {},
   "source": [
    "Mỗi dòng là nhận xét, đánh giá điểm số và các thông tin khác của 1 loại rượu ở 1 vùng cụ thể.\n",
    "\n",
    "Dưới đây là phần mô tả của tác giả về ý nghĩa của các cột trong file winemag-data-130k-v2.csv:\n",
    "\n",
    "+ **Points**: the number of points WineEnthusiast rated the wine on a scale of 1-100 (though they say they only post reviews for wines that score >=80)\n",
    "+ **Title**: the title of the wine review, which often contains the vintage if you're interested in extracting that feature\n",
    "+ **Variety**: the type of grapes used to make the wine (ie Pinot Noir)\n",
    "+ **Description**: a few sentences from a sommelier describing the wine's taste, smell, look, feel, etc.\n",
    "+ **Country**: the country that the wine is from\n",
    "+ **Province**: the province or state that the wine is from\n",
    "+ **Region 1**: the wine growing area in a province or state (ie Napa)\n",
    "+ **Region 2**: sometimes there are more specific regions specified within a wine growing area (ie Rutherford inside the Napa Valley), but this value can sometimes be blank\n",
    "+ **Winery**: the winery that made the wine\n",
    "+ **Designation**: the vineyard within the winery where the grapes that made the wine are from\n",
    "+ **Price**: the cost for a bottle of the wine\n",
    "+ **Taster Name**: name of the person who tasted and reviewed the wine\n",
    "+ **Taster Twitter Handle**: Twitter handle for the person who tasted ane reviewed the wine"
   ]
  },
  {
   "cell_type": "markdown",
   "metadata": {},
   "source": [
    "## Kiểu dữ liệu và số lượng giá trị khác rỗng của mỗi cột"
   ]
  },
  {
   "cell_type": "code",
   "execution_count": 124,
   "metadata": {},
   "outputs": [
    {
     "name": "stdout",
     "output_type": "stream",
     "text": [
      "<class 'pandas.core.frame.DataFrame'>\n",
      "RangeIndex: 129971 entries, 0 to 129970\n",
      "Data columns (total 13 columns):\n",
      " #   Column                 Non-Null Count   Dtype  \n",
      "---  ------                 --------------   -----  \n",
      " 0   country                129908 non-null  object \n",
      " 1   description            129971 non-null  object \n",
      " 2   designation            92506 non-null   object \n",
      " 3   points                 129971 non-null  int64  \n",
      " 4   price                  120975 non-null  float64\n",
      " 5   province               129908 non-null  object \n",
      " 6   region_1               108724 non-null  object \n",
      " 7   region_2               50511 non-null   object \n",
      " 8   taster_name            103727 non-null  object \n",
      " 9   taster_twitter_handle  98758 non-null   object \n",
      " 10  title                  129971 non-null  object \n",
      " 11  variety                129970 non-null  object \n",
      " 12  winery                 129971 non-null  object \n",
      "dtypes: float64(1), int64(1), object(11)\n",
      "memory usage: 12.9+ MB\n"
     ]
    }
   ],
   "source": [
    "wine_df.drop(columns='Unnamed: 0', inplace = True)\n",
    "wine_df.info()"
   ]
  },
  {
   "cell_type": "markdown",
   "metadata": {},
   "source": [
    "Các cột dạng categorical là: country, description, designation, province, region_1, region_2, taster_name, taster_twitter_handle, title, variety, winery.\n",
    "Các cột còn là là point và price mang giá trị thuộc numerical"
   ]
  },
  {
   "cell_type": "markdown",
   "metadata": {},
   "source": [
    "## Số lượng giá trị thiếu cũng mỗi cột"
   ]
  },
  {
   "cell_type": "code",
   "execution_count": 125,
   "metadata": {},
   "outputs": [
    {
     "data": {
      "text/plain": [
       "country                     63\n",
       "description                  0\n",
       "designation              37465\n",
       "points                       0\n",
       "price                     8996\n",
       "province                    63\n",
       "region_1                 21247\n",
       "region_2                 79460\n",
       "taster_name              26244\n",
       "taster_twitter_handle    31213\n",
       "title                        0\n",
       "variety                      1\n",
       "winery                       0\n",
       "dtype: int64"
      ]
     },
     "execution_count": 125,
     "metadata": {},
     "output_type": "execute_result"
    }
   ],
   "source": [
    "wine_df.isnull().sum()"
   ]
  },
  {
   "cell_type": "markdown",
   "metadata": {},
   "source": [
    "## Một số thống kê mô tả đơn giản"
   ]
  },
  {
   "cell_type": "code",
   "execution_count": 126,
   "metadata": {},
   "outputs": [
    {
     "data": {
      "text/html": [
       "<div>\n",
       "<style scoped>\n",
       "    .dataframe tbody tr th:only-of-type {\n",
       "        vertical-align: middle;\n",
       "    }\n",
       "\n",
       "    .dataframe tbody tr th {\n",
       "        vertical-align: top;\n",
       "    }\n",
       "\n",
       "    .dataframe thead th {\n",
       "        text-align: right;\n",
       "    }\n",
       "</style>\n",
       "<table border=\"1\" class=\"dataframe\">\n",
       "  <thead>\n",
       "    <tr style=\"text-align: right;\">\n",
       "      <th></th>\n",
       "      <th>points</th>\n",
       "      <th>price</th>\n",
       "    </tr>\n",
       "  </thead>\n",
       "  <tbody>\n",
       "    <tr>\n",
       "      <th>count</th>\n",
       "      <td>129971.000000</td>\n",
       "      <td>120975.000000</td>\n",
       "    </tr>\n",
       "    <tr>\n",
       "      <th>mean</th>\n",
       "      <td>88.447138</td>\n",
       "      <td>35.363389</td>\n",
       "    </tr>\n",
       "    <tr>\n",
       "      <th>std</th>\n",
       "      <td>3.039730</td>\n",
       "      <td>41.022218</td>\n",
       "    </tr>\n",
       "    <tr>\n",
       "      <th>min</th>\n",
       "      <td>80.000000</td>\n",
       "      <td>4.000000</td>\n",
       "    </tr>\n",
       "    <tr>\n",
       "      <th>25%</th>\n",
       "      <td>86.000000</td>\n",
       "      <td>17.000000</td>\n",
       "    </tr>\n",
       "    <tr>\n",
       "      <th>50%</th>\n",
       "      <td>88.000000</td>\n",
       "      <td>25.000000</td>\n",
       "    </tr>\n",
       "    <tr>\n",
       "      <th>75%</th>\n",
       "      <td>91.000000</td>\n",
       "      <td>42.000000</td>\n",
       "    </tr>\n",
       "    <tr>\n",
       "      <th>max</th>\n",
       "      <td>100.000000</td>\n",
       "      <td>3300.000000</td>\n",
       "    </tr>\n",
       "  </tbody>\n",
       "</table>\n",
       "</div>"
      ],
      "text/plain": [
       "              points          price\n",
       "count  129971.000000  120975.000000\n",
       "mean       88.447138      35.363389\n",
       "std         3.039730      41.022218\n",
       "min        80.000000       4.000000\n",
       "25%        86.000000      17.000000\n",
       "50%        88.000000      25.000000\n",
       "75%        91.000000      42.000000\n",
       "max       100.000000    3300.000000"
      ]
     },
     "execution_count": 126,
     "metadata": {},
     "output_type": "execute_result"
    }
   ],
   "source": [
    "wine_df.describe()"
   ]
  },
  {
   "cell_type": "markdown",
   "metadata": {},
   "source": [
    "Nhìn vào thống kê trên:\n",
    "+ Points: miền giá trị của thuộc tính points là [80, 100], trung bình là 88.45\n",
    "+ Price: miền giá trị là từ [4, 3300] ( đô la mỹ), với giá trung bình là 41 đô"
   ]
  },
  {
   "cell_type": "code",
   "execution_count": 127,
   "metadata": {},
   "outputs": [
    {
     "data": {
      "text/plain": [
       "<matplotlib.axes._subplots.AxesSubplot at 0x1df81977e48>"
      ]
     },
     "execution_count": 127,
     "metadata": {},
     "output_type": "execute_result"
    },
    {
     "data": {
      "image/png": "[encoded data removed]",
      "text/plain": [
       "<Figure size 1584x1080 with 1 Axes>"
      ]
     },
     "metadata": {},
     "output_type": "display_data"
    }
   ],
   "source": [
    "sns.distplot(wine_df['price'])"
   ]
  },
  {
   "cell_type": "markdown",
   "metadata": {},
   "source": [
    "- Phần lớn các loại rượu đều có mức giá dưới 200 đô, nhưng vẫn có 1 vàn chai rượu có giá rất cao trên 3000 đô."
   ]
  },
  {
   "cell_type": "code",
   "execution_count": 128,
   "metadata": {},
   "outputs": [
    {
     "name": "stdout",
     "output_type": "stream",
     "text": [
      "Số lượng quốc gia khảo sát:  43\n"
     ]
    }
   ],
   "source": [
    "num_country = wine_df['country'].nunique()\n",
    "print(\"Số lượng quốc gia khảo sát: \", num_country)"
   ]
  },
  {
   "cell_type": "markdown",
   "metadata": {},
   "source": [
    "## Làm rõ hơn ý nghĩa của các cột country, province, region_1, region_2, title\n"
   ]
  },
  {
   "cell_type": "markdown",
   "metadata": {},
   "source": [
    "Theo mô tả của tác giả: \n",
    "- **Country**: the country that the wine is from\n",
    "- **Province**: the province or state that the wine is from\n",
    "- **Region 1**: the wine growing area in a province or state (ie Napa)\n",
    "- **Region 2**: sometimes there are more specific regions specified within a wine growing area (ie Rutherford inside the Napa -Valley), but this value can sometimes be blank\n",
    "+ **Title**: the title of the wine review, which often contains the vintage if you're interested in extracting that feature"
   ]
  },
  {
   "cell_type": "markdown",
   "metadata": {},
   "source": [
    "Như vậy, country là đơn vị lớn nhất chỉ 1 quốc gia, country thì gồm nhiều province. Province thì bao gồm nhiều region_1, còn region1 thì bao gồm nhiều region_2 (vùng, địa điểm cụ thể thuộc về region_1), có nhiều mẫu giá trị ở region_2 giống với region_1 hoặc là không có giá trị. Ở đây việc kiểm tra các Province có bị overlap với nhau hay không cũng không mang nhiều ý nghĩa ( tức là 1 region vừa thuộc province này vừa thuộc province kia ).\n",
    "\n",
    "Title theo như nhận thấy thì chứa rất nhiều thông tin, bao gồm: loại nho để làm rượu, nhà sản suất, và mình nghĩ thời gian có trong title là thời gian sản suất rượu.\n"
   ]
  },
  {
   "cell_type": "markdown",
   "metadata": {},
   "source": [
    "---"
   ]
  },
  {
   "cell_type": "markdown",
   "metadata": {},
   "source": [
    "# Tiền xử lí dữ liệu trước khi thực hiện các bước khám phá dữ liệu kế tiếp"
   ]
  },
  {
   "cell_type": "markdown",
   "metadata": {},
   "source": [
    "## Xóa các thuộc tính không mang nhiều ý nghĩa hoặc các giá trị gây khó trong phân tích"
   ]
  },
  {
   "cell_type": "markdown",
   "metadata": {},
   "source": [
    " - Thuộc tính designation: có số lượng các giá trị khác nhau( không bao gồm NaN) là rất lớn.Những thuộc tính này cũng không mang lại nhiều ý nghĩa cho việc phân tích nên ta đơn giản là xóa thuộc tính này đi.\n",
    " - Thuộc tính taster_twitter_handle: thuộc tính này không mang ý nghĩa trong bài phân tích nên ta đơn giản xóa đi."
   ]
  },
  {
   "cell_type": "code",
   "execution_count": 129,
   "metadata": {},
   "outputs": [
    {
     "name": "stdout",
     "output_type": "stream",
     "text": [
      "Số lượng các giá trị khác nhau của thuộc tính designation là:  37979\n"
     ]
    }
   ],
   "source": [
    "print(\"Số lượng các giá trị khác nhau của thuộc tính designation là: \",  wine_df['designation'].nunique())"
   ]
  },
  {
   "cell_type": "code",
   "execution_count": 130,
   "metadata": {},
   "outputs": [],
   "source": [
    "wine_df.drop(columns=['designation', 'taster_twitter_handle'], inplace = True)"
   ]
  },
  {
   "cell_type": "markdown",
   "metadata": {},
   "source": [
    " Nếu kiểm tra lại trong dữ liệu thì chỉ có 1 mẫu thuộc về Ai Cập và giá trị ở price của nó cũng là NaN. Nên ở đây ta không biết nên cập nhật giá của loại rượu ở quốc gia này như thế nào nên để đơn giản cho việc xử lí bên dưới ta xóa luôn dòng thuộc về Ai Cập."
   ]
  },
  {
   "cell_type": "code",
   "execution_count": 131,
   "metadata": {},
   "outputs": [
    {
     "data": {
      "text/html": [
       "<div>\n",
       "<style scoped>\n",
       "    .dataframe tbody tr th:only-of-type {\n",
       "        vertical-align: middle;\n",
       "    }\n",
       "\n",
       "    .dataframe tbody tr th {\n",
       "        vertical-align: top;\n",
       "    }\n",
       "\n",
       "    .dataframe thead th {\n",
       "        text-align: right;\n",
       "    }\n",
       "</style>\n",
       "<table border=\"1\" class=\"dataframe\">\n",
       "  <thead>\n",
       "    <tr style=\"text-align: right;\">\n",
       "      <th></th>\n",
       "      <th>country</th>\n",
       "      <th>description</th>\n",
       "      <th>points</th>\n",
       "      <th>price</th>\n",
       "      <th>province</th>\n",
       "      <th>region_1</th>\n",
       "      <th>region_2</th>\n",
       "      <th>taster_name</th>\n",
       "      <th>title</th>\n",
       "      <th>variety</th>\n",
       "      <th>winery</th>\n",
       "    </tr>\n",
       "  </thead>\n",
       "  <tbody>\n",
       "    <tr>\n",
       "      <th>110246</th>\n",
       "      <td>Egypt</td>\n",
       "      <td>Ripe pear, apple and tropical fruit in the nos...</td>\n",
       "      <td>84</td>\n",
       "      <td>NaN</td>\n",
       "      <td>Egypt</td>\n",
       "      <td>NaN</td>\n",
       "      <td>NaN</td>\n",
       "      <td>Susan Kostrzewa</td>\n",
       "      <td>Sahara Vineyards 2008 Caspar Blanc de Noirs Gr...</td>\n",
       "      <td>Grenache</td>\n",
       "      <td>Sahara Vineyards</td>\n",
       "    </tr>\n",
       "  </tbody>\n",
       "</table>\n",
       "</div>"
      ],
      "text/plain": [
       "       country                                        description  points  \\\n",
       "110246   Egypt  Ripe pear, apple and tropical fruit in the nos...      84   \n",
       "\n",
       "        price province region_1 region_2      taster_name  \\\n",
       "110246    NaN    Egypt      NaN      NaN  Susan Kostrzewa   \n",
       "\n",
       "                                                    title   variety  \\\n",
       "110246  Sahara Vineyards 2008 Caspar Blanc de Noirs Gr...  Grenache   \n",
       "\n",
       "                  winery  \n",
       "110246  Sahara Vineyards  "
      ]
     },
     "execution_count": 131,
     "metadata": {},
     "output_type": "execute_result"
    }
   ],
   "source": [
    "wine_df[wine_df['country']=='Egypt']"
   ]
  },
  {
   "cell_type": "code",
   "execution_count": 132,
   "metadata": {},
   "outputs": [],
   "source": [
    "wine_df = wine_df[wine_df['country']!='Egypt'].reset_index(drop = True)\n",
    "num_rows -= 1 # cập nhật lại giá trị"
   ]
  },
  {
   "cell_type": "markdown",
   "metadata": {},
   "source": [
    "## Xử lí với các giá trị thiếu"
   ]
  },
  {
   "cell_type": "markdown",
   "metadata": {},
   "source": [
    "Như bước phân tích trên ta thấy có nhiều cột mang nhiều giá trị thiếu:\n",
    "\n",
    "- Các xử lí đối với các cột categorical:\n",
    "    + Các thuộc tính categorical dùng giá trị 'unknown' để điền vào các giá trị còn thiếu.  Ở đây không nên sử dụng phương pháp back fill, vì có thể điền tên khu vực của 1 quốc gia này cho khu vực của 1 quốc gia khác.\n",
    "    \n",
    "- Các xử lí đối với thuộc tính numerical:\n",
    "    + Thuộc tính price: ta tiến hành điền giá trị trung bình của các loại rượu thuộc cùng quốc gia cho các giá trị thiếu:"
   ]
  },
  {
   "cell_type": "markdown",
   "metadata": {},
   "source": [
    "Xử lí với các thuộc tính categorical"
   ]
  },
  {
   "cell_type": "code",
   "execution_count": 133,
   "metadata": {},
   "outputs": [],
   "source": [
    "cat_name = ['country', 'region_1', 'region_2', 'taster_name', 'province', 'variety']\n",
    "for name in cat_name:\n",
    "    wine_df[name].fillna('unknown', inplace = True)"
   ]
  },
  {
   "cell_type": "markdown",
   "metadata": {},
   "source": [
    "Xử lí với các thuộc tính numerical"
   ]
  },
  {
   "cell_type": "code",
   "execution_count": 170,
   "metadata": {},
   "outputs": [],
   "source": [
    "isnull_price = wine_df['price'].isnull()\n",
    "mean_price_wine_byCountry = wine_df.groupby('country')['price'].agg('mean')\n",
    "wine_df['price'] = [mean_price_wine_byCountry[wine_df.iloc[i][0]] if isnull_price[i]\n",
    "                                                                  else wine_df.iloc[i]['price'] for i in range(num_rows)]"
   ]
  },
  {
   "cell_type": "markdown",
   "metadata": {},
   "source": [
    "## Kiểm tra lại kết quả của việc xử lí"
   ]
  },
  {
   "cell_type": "code",
   "execution_count": 171,
   "metadata": {},
   "outputs": [
    {
     "data": {
      "text/plain": [
       "country        0\n",
       "description    0\n",
       "points         0\n",
       "price          0\n",
       "province       0\n",
       "region_1       0\n",
       "region_2       0\n",
       "taster_name    0\n",
       "title          0\n",
       "variety        0\n",
       "winery         0\n",
       "dtype: int64"
      ]
     },
     "execution_count": 171,
     "metadata": {},
     "output_type": "execute_result"
    }
   ],
   "source": [
    "wine_df.isnull().sum()"
   ]
  },
  {
   "cell_type": "markdown",
   "metadata": {},
   "source": [
    "---"
   ]
  },
  {
   "cell_type": "markdown",
   "metadata": {},
   "source": [
    "# Featuring engineering"
   ]
  },
  {
   "cell_type": "markdown",
   "metadata": {},
   "source": [
    "## Việc thực hiện các bài đánh giá diễn ra trong khoảng gian nào? cùng năm hay thuộc các năm khác nhau?"
   ]
  },
  {
   "cell_type": "markdown",
   "metadata": {},
   "source": [
    "Ở đây ta vẫn chưa biết được việc đánh giá các loại rượu diễn ra ở trong cùng 1 năm hay ở nhiều năm khác nhau. Vậy nơi nào cho biết thời gian diễn ra năm đánh giá?\n",
    "\n",
    "- Nếu để ý kĩ, ta sẽ thấy năm đánh giá nằm trong thuộc tính title. Nhưng trong phần title có thể xuất hiện các giá trị số mà đó không phải là năm sản suất như ví dụ sau, giá trị 1789 là trong tên '1789 Wines' - 1 nhà sản xuất rượu. Và ở đây năm sản suất là 2007."
   ]
  },
  {
   "cell_type": "code",
   "execution_count": 172,
   "metadata": {},
   "outputs": [
    {
     "data": {
      "text/plain": [
       "title      1789 Wines 2007 Pinot Noir (Chehalem Mountains)\n",
       "variety                                         Pinot Noir\n",
       "winery                                          1789 Wines\n",
       "Name: 68586, dtype: object"
      ]
     },
     "execution_count": 172,
     "metadata": {},
     "output_type": "execute_result"
    }
   ],
   "source": [
    "wine_df.iloc[68586, 8:11]"
   ]
  },
  {
   "cell_type": "markdown",
   "metadata": {},
   "source": [
    "- Hoặc trong những mẫu dưới thì `title` thì năm là 2014, 2013, 2012, 2011. Còn số 1105 là 1 phần của tên loại rượu, và như mình nói ở trên thì những loại rượu có thể phân biệt bởi năm sản suất."
   ]
  },
  {
   "cell_type": "code",
   "execution_count": 201,
   "metadata": {},
   "outputs": [
    {
     "data": {
      "text/html": [
       "<div>\n",
       "<style scoped>\n",
       "    .dataframe tbody tr th:only-of-type {\n",
       "        vertical-align: middle;\n",
       "    }\n",
       "\n",
       "    .dataframe tbody tr th {\n",
       "        vertical-align: top;\n",
       "    }\n",
       "\n",
       "    .dataframe thead th {\n",
       "        text-align: right;\n",
       "    }\n",
       "</style>\n",
       "<table border=\"1\" class=\"dataframe\">\n",
       "  <thead>\n",
       "    <tr style=\"text-align: right;\">\n",
       "      <th></th>\n",
       "      <th>country</th>\n",
       "      <th>description</th>\n",
       "      <th>points</th>\n",
       "      <th>price</th>\n",
       "      <th>province</th>\n",
       "      <th>region_1</th>\n",
       "      <th>region_2</th>\n",
       "      <th>taster_name</th>\n",
       "      <th>title</th>\n",
       "      <th>variety</th>\n",
       "      <th>winery</th>\n",
       "    </tr>\n",
       "  </thead>\n",
       "  <tbody>\n",
       "    <tr>\n",
       "      <th>213</th>\n",
       "      <td>US</td>\n",
       "      <td>This blend of 60% Petite Sirah, 21% Syrah, 7% ...</td>\n",
       "      <td>90</td>\n",
       "      <td>48.0</td>\n",
       "      <td>California</td>\n",
       "      <td>Paso Robles</td>\n",
       "      <td>Central Coast</td>\n",
       "      <td>Matt Kettmann</td>\n",
       "      <td>MCV 2014 1105 Red (Paso Robles)</td>\n",
       "      <td>Red Blend</td>\n",
       "      <td>MCV</td>\n",
       "    </tr>\n",
       "    <tr>\n",
       "      <th>32788</th>\n",
       "      <td>US</td>\n",
       "      <td>Deep, dark blueberry fruit meets with beef cha...</td>\n",
       "      <td>90</td>\n",
       "      <td>48.0</td>\n",
       "      <td>California</td>\n",
       "      <td>Paso Robles</td>\n",
       "      <td>Central Coast</td>\n",
       "      <td>Matt Kettmann</td>\n",
       "      <td>MCV 2013 1105 Red (Paso Robles)</td>\n",
       "      <td>Red Blend</td>\n",
       "      <td>MCV</td>\n",
       "    </tr>\n",
       "    <tr>\n",
       "      <th>88344</th>\n",
       "      <td>US</td>\n",
       "      <td>Based on Petite Sirah, with small amounts of S...</td>\n",
       "      <td>90</td>\n",
       "      <td>36.0</td>\n",
       "      <td>California</td>\n",
       "      <td>Paso Robles</td>\n",
       "      <td>Central Coast</td>\n",
       "      <td>unknown</td>\n",
       "      <td>MCV 2011 1105 Red (Paso Robles)</td>\n",
       "      <td>Red Blend</td>\n",
       "      <td>MCV</td>\n",
       "    </tr>\n",
       "    <tr>\n",
       "      <th>119717</th>\n",
       "      <td>US</td>\n",
       "      <td>This Petite Sirah-led blend, which also featur...</td>\n",
       "      <td>88</td>\n",
       "      <td>40.0</td>\n",
       "      <td>California</td>\n",
       "      <td>Paso Robles</td>\n",
       "      <td>Central Coast</td>\n",
       "      <td>Matt Kettmann</td>\n",
       "      <td>MCV 2012 1105 Red (Paso Robles)</td>\n",
       "      <td>Red Blend</td>\n",
       "      <td>MCV</td>\n",
       "    </tr>\n",
       "  </tbody>\n",
       "</table>\n",
       "</div>"
      ],
      "text/plain": [
       "       country                                        description  points  \\\n",
       "213         US  This blend of 60% Petite Sirah, 21% Syrah, 7% ...      90   \n",
       "32788       US  Deep, dark blueberry fruit meets with beef cha...      90   \n",
       "88344       US  Based on Petite Sirah, with small amounts of S...      90   \n",
       "119717      US  This Petite Sirah-led blend, which also featur...      88   \n",
       "\n",
       "        price    province     region_1       region_2    taster_name  \\\n",
       "213      48.0  California  Paso Robles  Central Coast  Matt Kettmann   \n",
       "32788    48.0  California  Paso Robles  Central Coast  Matt Kettmann   \n",
       "88344    36.0  California  Paso Robles  Central Coast        unknown   \n",
       "119717   40.0  California  Paso Robles  Central Coast  Matt Kettmann   \n",
       "\n",
       "                                  title    variety winery  \n",
       "213     MCV 2014 1105 Red (Paso Robles)  Red Blend    MCV  \n",
       "32788   MCV 2013 1105 Red (Paso Robles)  Red Blend    MCV  \n",
       "88344   MCV 2011 1105 Red (Paso Robles)  Red Blend    MCV  \n",
       "119717  MCV 2012 1105 Red (Paso Robles)  Red Blend    MCV  "
      ]
     },
     "execution_count": 201,
     "metadata": {},
     "output_type": "execute_result"
    }
   ],
   "source": [
    "wine_df[wine_df['title'].str.contains('1105', '2014')]"
   ]
  },
  {
   "cell_type": "markdown",
   "metadata": {},
   "source": [
    "- Hoặc có những mẫu, trong title không chứa giá trị số"
   ]
  },
  {
   "cell_type": "code",
   "execution_count": 206,
   "metadata": {},
   "outputs": [
    {
     "data": {
      "text/plain": [
       "title      Roland Champion NV Brut Rosé  (Champagne)\n",
       "variety                              Champagne Blend\n",
       "winery                               Roland Champion\n",
       "Name: 63, dtype: object"
      ]
     },
     "execution_count": 206,
     "metadata": {},
     "output_type": "execute_result"
    }
   ],
   "source": [
    "wine_df.iloc[63, 8:11]"
   ]
  },
  {
   "cell_type": "markdown",
   "metadata": {},
   "source": [
    "Vậy ta sẽ tiến hành các bước xử lí sau:\n",
    "\n",
    "- Bước 1: Lấy được mảng các giá trị số có 4 chữ số trong phần `title` và đặt tên là **number_in_title**.\n",
    "- Bước 2: Lấy mảng các giá trị số nếu có xuất hiện trong `winery` và đặt tên là **number_in_winery** .\n",
    "- Bước 3: \n",
    "    + Giữ lại các giá trị có trong title nhưng không có trong winery\n",
    "    + Nếu number_in_title chứa nhiều hơn 2 giá trị, mặc định lấy giá trị lớn nhất làm năm sản suất.\n",
    "    + Điền các giát trị rỗng bằng năm sản suất của mẫu liền trên."
   ]
  },
  {
   "cell_type": "markdown",
   "metadata": {},
   "source": [
    "Bước 1, 2:"
   ]
  },
  {
   "cell_type": "code",
   "execution_count": 175,
   "metadata": {},
   "outputs": [
    {
     "data": {
      "text/plain": [
       "0         [2013]\n",
       "1         [2011]\n",
       "2         [2013]\n",
       "3         [2013]\n",
       "4         [2012]\n",
       "           ...  \n",
       "129965    [2013]\n",
       "129966    [2004]\n",
       "129967    [2013]\n",
       "129968    [2012]\n",
       "129969    [2012]\n",
       "Name: title, Length: 129970, dtype: object"
      ]
     },
     "execution_count": 175,
     "metadata": {},
     "output_type": "execute_result"
    }
   ],
   "source": [
    "number_in_title = wine_df['title'].apply(lambda x: re.findall(r'\\d{4}', x))\n",
    "number_in_winery = wine_df['winery'].apply(lambda x: re.findall(r'\\d{4}', x))"
   ]
  },
  {
   "cell_type": "markdown",
   "metadata": {},
   "source": [
    "Bước 3:"
   ]
  },
  {
   "cell_type": "code",
   "execution_count": 257,
   "metadata": {},
   "outputs": [],
   "source": [
    "kq = [list(set(number_in_title[i]) - set(number_in_winery[i])) if number_in_winery[i]!=None\n",
    "                                                            else number_in_title[i] for i in range(num_rows)]\n"
   ]
  },
  {
   "cell_type": "code",
   "execution_count": 276,
   "metadata": {},
   "outputs": [],
   "source": [
    "year = []\n",
    "for idx, v in enumerate(kq):\n",
    "    if len(v)==1:\n",
    "        year.append(v[0])\n",
    "        continue\n",
    "    if len(v)>1:\n",
    "        arr = []\n",
    "        for y in v:\n",
    "            if y<='2020':\n",
    "                arr.append(y)\n",
    "        year.append(max(arr))\n",
    "        continue\n",
    "    if len(v)==0:\n",
    "        year.append(new[idx-1])"
   ]
  },
  {
   "cell_type": "code",
   "execution_count": 277,
   "metadata": {},
   "outputs": [],
   "source": [
    "wine_df['year'] = year"
   ]
  },
  {
   "cell_type": "markdown",
   "metadata": {},
   "source": [
    "- Kiểm tra lại sau bước chuẩn hóa"
   ]
  },
  {
   "cell_type": "code",
   "execution_count": 273,
   "metadata": {},
   "outputs": [
    {
     "name": "stdout",
     "output_type": "stream",
     "text": [
      "Tổng số mẫu Null:  0\n",
      "Miền giá trị trong year:  ['2013' '2011' '2012' '2010' '2007' '2009' '2008' '2014' '2015' '2016'\n",
      " '2004' '2003' '2006' '2001' '2005' '2002' '1887' '2000' '1999' '1991'\n",
      " '1997' '1996' '2017' '1995' '1872' '1998' '1994' '1992' '1976' '1964'\n",
      " '1983' '1967' '1990' '1988' '1827' '1980' '1987' '1989' '1993' '1969'\n",
      " '1882' '1935' '1503' '1821' '1973' '1978' '1965' '1968' '1947' '1963'\n",
      " '1985' '1927' '1904' '1868' '1847' '1982' '1986' '1607' '1919' '1957'\n",
      " '1966' '1984' '1961' '1952' '1941' '1974' '1934' '1945']\n"
     ]
    }
   ],
   "source": [
    "print(\"Tổng số mẫu Null: \", wine_df['year'].isnull().sum())\n",
    "print(\"Miền giá trị trong year: \",  wine_df['year'].unique())"
   ]
  },
  {
   "cell_type": "markdown",
   "metadata": {},
   "source": [
    "- Sau bước chuẩn hóa: thì vẫn còn vài mẫu mình nghĩ mang giá trị không đúng, có thể giá trị ở đây không phải năm sản suất mà là tên loại rượu thôi."
   ]
  },
  {
   "cell_type": "code",
   "execution_count": 278,
   "metadata": {},
   "outputs": [
    {
     "data": {
      "text/html": [
       "<div>\n",
       "<style scoped>\n",
       "    .dataframe tbody tr th:only-of-type {\n",
       "        vertical-align: middle;\n",
       "    }\n",
       "\n",
       "    .dataframe tbody tr th {\n",
       "        vertical-align: top;\n",
       "    }\n",
       "\n",
       "    .dataframe thead th {\n",
       "        text-align: right;\n",
       "    }\n",
       "</style>\n",
       "<table border=\"1\" class=\"dataframe\">\n",
       "  <thead>\n",
       "    <tr style=\"text-align: right;\">\n",
       "      <th></th>\n",
       "      <th>country</th>\n",
       "      <th>description</th>\n",
       "      <th>points</th>\n",
       "      <th>price</th>\n",
       "      <th>province</th>\n",
       "      <th>region_1</th>\n",
       "      <th>region_2</th>\n",
       "      <th>taster_name</th>\n",
       "      <th>title</th>\n",
       "      <th>variety</th>\n",
       "      <th>winery</th>\n",
       "      <th>year</th>\n",
       "    </tr>\n",
       "  </thead>\n",
       "  <tbody>\n",
       "    <tr>\n",
       "      <th>71238</th>\n",
       "      <td>Italy</td>\n",
       "      <td>Lively and fresh, this off-dry wine doles out ...</td>\n",
       "      <td>87</td>\n",
       "      <td>17.0</td>\n",
       "      <td>Veneto</td>\n",
       "      <td>Prosecco</td>\n",
       "      <td>unknown</td>\n",
       "      <td>Kerin O’Keefe</td>\n",
       "      <td>Albino Armani NV 1607 Extra Dry  (Prosecco)</td>\n",
       "      <td>Glera</td>\n",
       "      <td>Albino Armani</td>\n",
       "      <td>1607</td>\n",
       "    </tr>\n",
       "  </tbody>\n",
       "</table>\n",
       "</div>"
      ],
      "text/plain": [
       "      country                                        description  points  \\\n",
       "71238   Italy  Lively and fresh, this off-dry wine doles out ...      87   \n",
       "\n",
       "       price province  region_1 region_2    taster_name  \\\n",
       "71238   17.0   Veneto  Prosecco  unknown  Kerin O’Keefe   \n",
       "\n",
       "                                             title variety         winery  \\\n",
       "71238  Albino Armani NV 1607 Extra Dry  (Prosecco)   Glera  Albino Armani   \n",
       "\n",
       "       year  \n",
       "71238  1607  "
      ]
     },
     "execution_count": 278,
     "metadata": {},
     "output_type": "execute_result"
    }
   ],
   "source": [
    "wine_df[wine_df['title'].str.contains('1607')]"
   ]
  },
  {
   "cell_type": "markdown",
   "metadata": {},
   "source": [
    "## Xử dụng kĩ thuật back fill để điền các giá trị thiếu trong thuộc tính year"
   ]
  },
  {
   "cell_type": "code",
   "execution_count": null,
   "metadata": {},
   "outputs": [],
   "source": [
    "wine_df.iloc[68586,:]"
   ]
  },
  {
   "cell_type": "markdown",
   "metadata": {},
   "source": [
    "kĩ thuật điền giá trị thiếu bằng giá trị khác null liền sau gần nhất"
   ]
  },
  {
   "cell_type": "code",
   "execution_count": null,
   "metadata": {},
   "outputs": [],
   "source": [
    "print(\"Số lượng giá trị thiếu trong thuộc tính năm là:\", wine_df.year.isnull().sum())"
   ]
  },
  {
   "cell_type": "code",
   "execution_count": null,
   "metadata": {},
   "outputs": [],
   "source": [
    "wine_df['year'].fillna(method = 'bfill', inplace = True)\n",
    "print(\"Số lượng giá trị thiếu trong thuộc tính năm là:\", wine_df.year.isnull().sum())"
   ]
  },
  {
   "cell_type": "markdown",
   "metadata": {
    "heading_collapsed": true
   },
   "source": [
    "## Tạo thêm thuộc tính provinceOfCountry\n",
    "\n",
    "- Là việc kết hợp 2 thuộc tính province và country. Thuộc tích được tạo mới phục vụ tốt hơn cho việc trực quan"
   ]
  },
  {
   "cell_type": "code",
   "execution_count": null,
   "metadata": {
    "hidden": true
   },
   "outputs": [],
   "source": [
    "wine_df['provinceOfCountry'] = '( ' + wine_df['country'] + ' ) ' + wine_df['province']\n",
    "wine_df['provinceOfCountry'].head()"
   ]
  },
  {
   "cell_type": "markdown",
   "metadata": {
    "hidden": true
   },
   "source": [
    "---"
   ]
  },
  {
   "cell_type": "markdown",
   "metadata": {},
   "source": [
    "# Đưa ra các câu hỏi cần trả lời"
   ]
  },
  {
   "cell_type": "markdown",
   "metadata": {},
   "source": [
    "Sau khi có cái nhìn tổng quát và hiểu hơn về dữ liệu, giờ đây mình bắt đầu thấy tò mò và đặt nhiều câu hỏi trong đầu. May thay những câu hỏi này đều có thể giải quyết thông qua dữ liệu.\n",
    "\n",
    "**1**. Những tỉnh thành nào có nhiều khu vực sản suất rượu nhất và mức giá rượu trung bình , điểm số trung bình xuất xứ từ các tỉnh thành này.\n",
    "\n",
    "\n",
    "**2**. Những quốc gia nào có nhiều tỉnh thành sản suất rượu nhất và mức giá rượu trung bình, điểm số trung bình xuất xứ từ quốc gia này.\n",
    "\n",
    "**3** Những nhà sản suất rượu vang nào nổi tiếng nhất thế giới (Masseto, Fontodi...)\n",
    "\n",
    "**3**. 20 loại rượu được ưa chuộng nhất và giá của chúng. \n",
    "\n",
    "**3**. 20 loại nho được ưa chuộng nhất và giá của chúng. \n",
    "\n",
    "**4**. Mối quan hệ giữa điểm số và số lượng từ trong phần đánh giá. \n",
    "\n",
    "\n",
    "**5**. Những từ ngữ được dùng nhiều nhất để đánh giá về top 100 loại rượu được ưu chuộng nhất.\n",
    "\n",
    "\n",
    "**6**. So sánh các loại rượu nổi tiếng được trồng giữa các quốc gia.( không biết 1 loại rượu có thể xuất hiện ở nhiều quốc gia hay không ) Sangiovese\n",
    "\n",
    "**7**. 5 tác giả nào có nhiều bài review nhất và khoảng điểm họ cho trong bài review của mình."
   ]
  },
  {
   "cell_type": "markdown",
   "metadata": {},
   "source": [
    "# Phân tích dữ liệu để trả lời cho các câu hỏi"
   ]
  },
  {
   "cell_type": "markdown",
   "metadata": {},
   "source": [
    "`Trước khi đi vào trả lời các câu hỏi về rượu nho. Chúng ta hãy nạp thêm 1 ít kiến thức về rượu nho nào.`\n",
    "\n",
    " - Với mỗi quốc gia làm rượu vang, thì mỗi nước có công thức và vùng đất nào đó thích hợp cho việc trồng nho làm rượu. Rượu vang được làm từ những trái nho. Ở đây, nho được chọn làm rượu vang là những trái có tiêu chuẩn riêng như trái nhỏ, ngọt, có da dày và chứa hạt. Có rất nhiều rất nhiều loại nho dùng làm rượu thương mại đã được xác định, nhưng chỉ có khoản 150 loại được trồng làm rượu vang trên thế giới.\n",
    "\n",
    "Rượu vang là gì?\n",
    "\n",
    "- <font color = 'blue'>Độ ngon</font> của 1 chai rượu thường được quyết định bởi 3 yếu tố:\n",
    "    + Giống nho\n",
    "    + Vùng trồng nho\n",
    "    + Quy trình sản suất\n",
    "    \n",
    " \n",
    "<font color='blue'> Giống nho </font>:  có rất nhiều giống nho được sử dụng làm rượu vang, mỗi giống sẽ có màu, mùi vị khác nhau. \n",
    "    \n",
    "- Các vùng trồng nho nổi tiếng trên thế giới:\n",
    " + Nước Italia : Tuscany\n",
    " + Nước Tây Ban Nha: vùng rượu vang Rioja\n",
    " + Nước Pháp:Vùng rượu vang Bordeaux"
   ]
  },
  {
   "cell_type": "markdown",
   "metadata": {},
   "source": [
    "## 1.  Những tỉnh thành nào có nhiều khu vực sản suất rượu nhất và mức giá rượu , điểm số trung bình xuất xứ từ các tỉnh thành này."
   ]
  },
  {
   "cell_type": "markdown",
   "metadata": {},
   "source": [
    "<font color='blue'>Độ ngon</font> của 1 chai rượu vang được quyết định bởi loại nho làm nên. Tuy nhiên có thể nói thổ nhưỡng, và khí hậu tại vùng trồng nho là yếu tố quyết định để tạo nên rượu vang với hương vị hoàn hảo. Tại mỗi vùng trồng nho đều có hàm lượng khoáng chất nuôi dưỡng cây nho và khí hậu đặc trưng. Có những loại nho chỉ có thể phát triển trên những mảnh đất đặc thù mà không thể tạo ra trên những mảnh đất khác.\n",
    "\n",
    "--> **Đó là lí do đầu tiên để chúng ta tiến hành phân tích những vùng trồng nho nổi tiếng nhất thế giới.**"
   ]
  },
  {
   "cell_type": "code",
   "execution_count": null,
   "metadata": {},
   "outputs": [],
   "source": [
    "best_place_for_wine = wine_df.groupby('provinceOfCountry')['region_1'].nunique().sort_values(ascending = False)\n",
    "best_place_for_wine"
   ]
  },
  {
   "cell_type": "code",
   "execution_count": null,
   "metadata": {},
   "outputs": [],
   "source": [
    "best_place_for_wine[:15].plot.barh(use_index = True)\n",
    "plt.xlabel('Tổng số vườn nho ( khu vực)', fontsize = 30)\n",
    "plt.ylabel('Tỉnh',fontsize = 30)\n",
    "plt.title('Những tỉnh có nhiều khu vực sản suât rượu nho nhất', fontsize = 30)"
   ]
  },
  {
   "cell_type": "markdown",
   "metadata": {},
   "source": [
    "**Nhận xét:**\n",
    "\n",
    "- Tỉnh ( bang ) có nhiều khu vực trồng nho nhất thế giới là California ở Mỹ, với số lượng vườn nho ở lên tới 175. Xếp sau là Burgundy của Pháp và những tỉnh thuộc Ý. Nếu chúng ta tìm hiểu thì sẽ biết đây là những nơi xuất xứ của những loại rượu vang trứ danh, thuộc các nước nổi tiếng với ngành công nghiệp rượu nho."
   ]
  },
  {
   "cell_type": "markdown",
   "metadata": {
    "heading_collapsed": true
   },
   "source": [
    "### Chúng ta thường nghe về những chai rượu cực kì mắc tiền, vậy chúng xuất xứ từ đâu?"
   ]
  },
  {
   "cell_type": "code",
   "execution_count": null,
   "metadata": {
    "hidden": true
   },
   "outputs": [],
   "source": [
    "price_in_best_place = wine_df.groupby('provinceOfCountry')['price'].agg('max').sort_values(ascending = False)\n",
    "price_in_best_place[:15].plot.barh(use_index = True)\n",
    "plt.xlabel('Price', fontsize=30)\n",
    "plt.ylabel('Province', fontsize = 30)\n",
    "plt.title('The regions that produce the first-class wines', fontsize = 30)"
   ]
  },
  {
   "cell_type": "markdown",
   "metadata": {
    "hidden": true
   },
   "source": [
    "**Nhận xét:**\n",
    "\n",
    "- Biểu đồ trên cho ta biết những vùng nào chuyên sản xuất những loại rượu vang xa xỉ và có chất lượng nhất thế giới. Những chai rượu vang có giá hàng nghìn đô, đến từ các vùng trồng nho nổi tiếng của Pháp, Mỹ, Ý, Úc, Bồ Đào Nha..."
   ]
  },
  {
   "cell_type": "markdown",
   "metadata": {
    "hidden": true
   },
   "source": [
    "*** chèn hình ***"
   ]
  },
  {
   "cell_type": "markdown",
   "metadata": {},
   "source": [
    "### Những vùng nào có thể trồng được nhiều loại nho nhất? Variety là loại nho dùng để làm rượu"
   ]
  },
  {
   "cell_type": "code",
   "execution_count": null,
   "metadata": {},
   "outputs": [],
   "source": [
    "variety_of_wine_best_place = wine_df.groupby('provinceOfCountry')['variety'].nunique().sort_values(ascending = False)\n",
    "variety_of_wine_best_place"
   ]
  },
  {
   "cell_type": "markdown",
   "metadata": {},
   "source": [
    "**Nhìn qua thử xem California có những loại nho nào để làm rượu? Có số nào trong đó các bạn biết không?**"
   ]
  },
  {
   "cell_type": "code",
   "execution_count": null,
   "metadata": {},
   "outputs": [],
   "source": [
    "wine_df[wine_df['province']=='California']['variety'].value_counts(ascending=False).index[:10]"
   ]
  },
  {
   "cell_type": "code",
   "execution_count": null,
   "metadata": {},
   "outputs": [],
   "source": [
    "variety_of_wine_best_place[:15].plot.barh(use_index = True)\n",
    "plt.xlabel('Number of grapes', fontsize=30)\n",
    "plt.ylabel('Province', fontsize = 30)\n",
    "plt.title('The regions that have the most type of grapes', fontsize = 30)"
   ]
  },
  {
   "cell_type": "markdown",
   "metadata": {},
   "source": [
    "**Nhận xét**\n",
    "\n",
    "- Wao, những bang của Mỹ là nơi sở hữu nhiều thương hiệu rượu vang nhất. \n",
    "- Ngoài những nước ở Châu âu, Bắc mỹ thì giờ chúng ta thấy 1 đại diện ở Nam mỹ là Argentina."
   ]
  },
  {
   "cell_type": "markdown",
   "metadata": {},
   "source": [
    "### Sau khi đi qua 1 vài thông tin về mức giá, số loại rượu. Giờ chúng ta phân tích xem những khu vực nào được đánh giá cao về chất lượng rượu"
   ]
  },
  {
   "cell_type": "code",
   "execution_count": null,
   "metadata": {},
   "outputs": [],
   "source": [
    "best_place_of_points = wine_df.groupby('provinceOfCountry')['points'].agg('mean').sort_values(ascending = False)\n",
    "print(\"  10 quốc gia được đánh giá cao nhất về chất lượng rượu: \")\n",
    "best_place_of_points[:10]"
   ]
  },
  {
   "cell_type": "markdown",
   "metadata": {
    "heading_collapsed": true
   },
   "source": [
    "## 2.Những quốc gia nào có nhiều khu vực sản suất rượu nhất và mức giá rượu , điểm số trung bình xuất xứ từ các quốc gia này."
   ]
  },
  {
   "cell_type": "markdown",
   "metadata": {
    "hidden": true
   },
   "source": [
    "Nho là chịu ảnh hưởng rất lớn bởi khí hâu và đất đai, tùy khu vực mà Nho có thể cho năng suất, sản lượng và chất lượng cao cho việc làm rượu. Do đó không phải quốc gia nào cũng may mắn có nhiều khu vực để trồng nho. Qua vài thông tin trên, chúng ta cũng thấy được là những vùng trồng nho nổi tiếng thường tập trung ở các nước quốc gia Châu Âu, Bắc Mỹ, Nam Mỹ. Vậy hãy cùng phân tích một chút về các quốc gia đứng đầu ở ngành công nghiệp này nhé! "
   ]
  },
  {
   "cell_type": "markdown",
   "metadata": {
    "hidden": true
   },
   "source": [
    "### Những quốc gia có nhiều tỉnh thành sản xuất rượu nhất."
   ]
  },
  {
   "cell_type": "code",
   "execution_count": null,
   "metadata": {
    "hidden": true
   },
   "outputs": [],
   "source": [
    "top_country_with_most_region = wine_df.groupby('country')['province'].nunique().sort_values(ascending = False)\n",
    "top_country_with_most_region[:15]"
   ]
  },
  {
   "cell_type": "code",
   "execution_count": null,
   "metadata": {
    "hidden": true
   },
   "outputs": [],
   "source": [
    "top_country_with_most_region[:15].plot.barh(use_index = True)\n",
    "plt.xlabel('Number of provinces', fontsize=30)\n",
    "plt.ylabel('Country', fontsize = 30)\n",
    "plt.title('The country that have the most provinces', fontsize = 30)"
   ]
  },
  {
   "cell_type": "markdown",
   "metadata": {
    "hidden": true
   },
   "source": [
    "**Nhận xét**\n",
    "\n",
    "- Ngoài Mỹ ra thì những quóc gia còn lại đều không phải là những quốc gia có những những vùng sản xuất rượu nổi tiếng thế giới.\n",
    "- Có những quốc gia ở khu vực Châu Âu như Hy Lạp ( Greece ), Bồ Đào Nha ( Portugal ) là những quốc gia có nhiều tỉnh thành sản xuất rượu nhất. Ở châu Phi có 1 đại diện là Nam Phi với 42 tỉnh thành trồng nho. Ở Nam mỹ thì có Chi Lê. \n",
    "- Những quốc gia này rất may mắn khi có điện kiện thiên nhiên phù hợp cho việc trồng nho sản suất rượu"
   ]
  },
  {
   "cell_type": "markdown",
   "metadata": {
    "hidden": true
   },
   "source": [
    "### 10 quốc gia có mức giá rượu trung bình cao nhất"
   ]
  },
  {
   "cell_type": "code",
   "execution_count": null,
   "metadata": {
    "hidden": true
   },
   "outputs": [],
   "source": [
    "top_country_price = wine_df.groupby('country')['price'].agg('mean').sort_values(ascending = False)\n",
    "top_10_country_price[:10]"
   ]
  },
  {
   "cell_type": "code",
   "execution_count": null,
   "metadata": {
    "hidden": true
   },
   "outputs": [],
   "source": [
    "top_country_price[:10].plot.barh(use_index = True)\n",
    "plt.xlabel('Price', fontsize=30)\n",
    "plt.ylabel('Country', fontsize = 30)\n",
    "plt.title('The country that have the most price of wine', fontsize = 30)"
   ]
  },
  {
   "cell_type": "markdown",
   "metadata": {
    "hidden": true
   },
   "source": [
    "### Điểm số trung bình về rượu vang của các quốc gia "
   ]
  },
  {
   "cell_type": "code",
   "execution_count": null,
   "metadata": {
    "hidden": true
   },
   "outputs": [],
   "source": [
    "point_of_countries = wine_df.groupby('country')['points'].agg('mean').sort_values(ascending = False)\n",
    "print(\" (*)10 quốc gia được đánh giá cao nhất về chất lượng rượu: \")\n",
    "point_of_countries[:10]"
   ]
  },
  {
   "cell_type": "code",
   "execution_count": null,
   "metadata": {
    "hidden": true
   },
   "outputs": [],
   "source": [
    "print(\" (*)10 quốc gia được đánh giá cao thấp về chất lượng rượu: \")\n",
    "point_of_countries[-10:]"
   ]
  },
  {
   "cell_type": "markdown",
   "metadata": {},
   "source": [
    "## 3 Những nhà sản suất rượu vang nào nổi tiếng nhất thế giới"
   ]
  },
  {
   "cell_type": "markdown",
   "metadata": {},
   "source": [
    "- Chúng ta đã cùng tìm hiểu qua về các vùng đất nổi tiếng và phù hợp cho việc trồng nho. Đó là tiêu chí đầu tiên để làm ra 1 loại rượu ngon. Giờ chúng ta cùng đến với tiêu chí thứ 2 là cũng không kém phần quan trọng là <font color= 'red'> quy trình sản suất rượu </font>. Mỗi nhà sản suất rượu vang đều có riêng cho những công thức cho để cho ra hương vị ngon nhất. Giờ chúng ta cùng tìm hiểu những nhà sản suất rượu này là ai, thuộc quốc gia nào. "
   ]
  },
  {
   "cell_type": "code",
   "execution_count": null,
   "metadata": {},
   "outputs": [],
   "source": [
    "wine_df['winery'].value_counts()"
   ]
  },
  {
   "cell_type": "code",
   "execution_count": null,
   "metadata": {},
   "outputs": [],
   "source": [
    "wine_df[wine_df['winery'].str.contains('Mondavi')]"
   ]
  },
  {
   "cell_type": "code",
   "execution_count": null,
   "metadata": {},
   "outputs": [],
   "source": [
    "wine_df['winery'].nunique()"
   ]
  },
  {
   "cell_type": "code",
   "execution_count": null,
   "metadata": {},
   "outputs": [],
   "source": [
    "wine_df[wine_df['variety'].str.contains('Graciano')]"
   ]
  },
  {
   "cell_type": "markdown",
   "metadata": {},
   "source": [
    "đôi khi tên của loại rượu vang chính là loaại nho làm nên - maà nho thì có thể trồng ở nhiều vùng khác nhau.\n",
    "\n",
    "- Ở 1 khu vực thì 1 loại nho có thể dùng làm nhiều loại rượu không"
   ]
  },
  {
   "cell_type": "code",
   "execution_count": null,
   "metadata": {},
   "outputs": [],
   "source": [
    "wine_df[wine_df['variety']=='']"
   ]
  },
  {
   "cell_type": "code",
   "execution_count": null,
   "metadata": {},
   "outputs": [],
   "source": [
    "wine_df[(wine_df['province']=='California') & (wine_df['variety'] == 'Cabernet Sauvignon')]"
   ]
  },
  {
   "cell_type": "code",
   "execution_count": null,
   "metadata": {},
   "outputs": [],
   "source": [
    "wine_df.title.nunique()"
   ]
  },
  {
   "cell_type": "code",
   "execution_count": null,
   "metadata": {},
   "outputs": [],
   "source": [
    "wine_df.title.value_counts(ascending = False)"
   ]
  },
  {
   "cell_type": "code",
   "execution_count": null,
   "metadata": {},
   "outputs": [],
   "source": [
    "wine_df[wine_df['title'] == 'Gloria Ferrer NV Sonoma Brut Sparkling (Sonoma County)']"
   ]
  },
  {
   "cell_type": "code",
   "execution_count": null,
   "metadata": {},
   "outputs": [],
   "source": [
    "wine_df['year'].unique()"
   ]
  },
  {
   "cell_type": "code",
   "execution_count": null,
   "metadata": {},
   "outputs": [],
   "source": [
    "wine_df[wine_df['year'] == '1070']"
   ]
  },
  {
   "cell_type": "code",
   "execution_count": null,
   "metadata": {},
   "outputs": [],
   "source": []
  }
 ],
 "metadata": {
  "kernelspec": {
   "display_name": "Python 3",
   "language": "python",
   "name": "python3"
  },
  "language_info": {
   "codemirror_mode": {
    "name": "ipython",
    "version": 3
   },
   "file_extension": ".py",
   "mimetype": "text/x-python",
   "name": "python",
   "nbconvert_exporter": "python",
   "pygments_lexer": "ipython3",
   "version": "3.7.6"
  },
  "toc": {
   "base_numbering": 1,
   "nav_menu": {},
   "number_sections": false,
   "sideBar": true,
   "skip_h1_title": false,
   "title_cell": "Table of Contents",
   "title_sidebar": "Contents",
   "toc_cell": false,
   "toc_position": {},
   "toc_section_display": true,
   "toc_window_display": false
  }
 },
 "nbformat": 4,
 "nbformat_minor": 4
}
