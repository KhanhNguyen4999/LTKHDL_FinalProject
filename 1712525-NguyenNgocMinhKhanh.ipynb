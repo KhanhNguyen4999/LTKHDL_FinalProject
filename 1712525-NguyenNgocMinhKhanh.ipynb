{
 "cells": [
  {
   "cell_type": "markdown",
   "metadata": {},
   "source": [
    "# Đồ án cuối kì\n",
    "\n",
    "MSSV: 1712525\n",
    "\n",
    "Họ và tên: Nguyễn Ngọc Minh Khánh"
   ]
  },
  {
   "cell_type": "markdown",
   "metadata": {},
   "source": [
    "# Import thư viện"
   ]
  },
  {
   "cell_type": "code",
   "execution_count": 1,
   "metadata": {},
   "outputs": [],
   "source": [
    "import pandas as pd\n",
    "import warnings\n",
    "import seaborn as sns\n",
    "import numpy as np\n",
    "import matplotlib.pyplot as plt\n",
    "import re\n",
    "warnings.filterwarnings('ignore')\n",
    "\n",
    "plt.style.use('fivethirtyeight')\n",
    "plt.rcParams['figure.figsize'] = 22, 15\n",
    "plt.rcParams['xtick.labelsize']=15\n",
    "plt.rcParams['ytick.labelsize']=15"
   ]
  },
  {
   "cell_type": "markdown",
   "metadata": {},
   "source": [
    "---"
   ]
  },
  {
   "cell_type": "markdown",
   "metadata": {},
   "source": [
    "# Lấy dữ liệu\n",
    "\n",
    "Dữ liệu được dùng trong đồ án cuối kì này là file winemag-data-130k-v2.csv. Đây là dữ liệu về đánh giá điểm và nhận xét về chất lượng của các loại rượu thuộc nhiều khu vực, nhiều quốc gia. Dữ liệu được lấy từ dataset \"wine-reviews\" trên kaggle. Dữ liệu gốc có thể lấy [tại đây](https://www.kaggle.com/zynicide/wine-reviews) "
   ]
  },
  {
   "cell_type": "markdown",
   "metadata": {},
   "source": [
    "---"
   ]
  },
  {
   "cell_type": "markdown",
   "metadata": {},
   "source": [
    "# Khám phá dữ liệu"
   ]
  },
  {
   "cell_type": "markdown",
   "metadata": {},
   "source": [
    "## Đọc dữ liệu từ file csv vào dataframe"
   ]
  },
  {
   "cell_type": "code",
   "execution_count": 122,
   "metadata": {},
   "outputs": [
    {
     "data": {
      "text/html": [
       "<div>\n",
       "<style scoped>\n",
       "    .dataframe tbody tr th:only-of-type {\n",
       "        vertical-align: middle;\n",
       "    }\n",
       "\n",
       "    .dataframe tbody tr th {\n",
       "        vertical-align: top;\n",
       "    }\n",
       "\n",
       "    .dataframe thead th {\n",
       "        text-align: right;\n",
       "    }\n",
       "</style>\n",
       "<table border=\"1\" class=\"dataframe\">\n",
       "  <thead>\n",
       "    <tr style=\"text-align: right;\">\n",
       "      <th></th>\n",
       "      <th>Unnamed: 0</th>\n",
       "      <th>country</th>\n",
       "      <th>description</th>\n",
       "      <th>designation</th>\n",
       "      <th>points</th>\n",
       "      <th>price</th>\n",
       "      <th>province</th>\n",
       "      <th>region_1</th>\n",
       "      <th>region_2</th>\n",
       "      <th>taster_name</th>\n",
       "      <th>taster_twitter_handle</th>\n",
       "      <th>title</th>\n",
       "      <th>variety</th>\n",
       "      <th>winery</th>\n",
       "    </tr>\n",
       "  </thead>\n",
       "  <tbody>\n",
       "    <tr>\n",
       "      <th>0</th>\n",
       "      <td>0</td>\n",
       "      <td>Italy</td>\n",
       "      <td>Aromas include tropical fruit, broom, brimston...</td>\n",
       "      <td>Vulkà Bianco</td>\n",
       "      <td>87</td>\n",
       "      <td>NaN</td>\n",
       "      <td>Sicily &amp; Sardinia</td>\n",
       "      <td>Etna</td>\n",
       "      <td>NaN</td>\n",
       "      <td>Kerin O’Keefe</td>\n",
       "      <td>@kerinokeefe</td>\n",
       "      <td>Nicosia 2013 Vulkà Bianco  (Etna)</td>\n",
       "      <td>White Blend</td>\n",
       "      <td>Nicosia</td>\n",
       "    </tr>\n",
       "    <tr>\n",
       "      <th>1</th>\n",
       "      <td>1</td>\n",
       "      <td>Portugal</td>\n",
       "      <td>This is ripe and fruity, a wine that is smooth...</td>\n",
       "      <td>Avidagos</td>\n",
       "      <td>87</td>\n",
       "      <td>15.0</td>\n",
       "      <td>Douro</td>\n",
       "      <td>NaN</td>\n",
       "      <td>NaN</td>\n",
       "      <td>Roger Voss</td>\n",
       "      <td>@vossroger</td>\n",
       "      <td>Quinta dos Avidagos 2011 Avidagos Red (Douro)</td>\n",
       "      <td>Portuguese Red</td>\n",
       "      <td>Quinta dos Avidagos</td>\n",
       "    </tr>\n",
       "    <tr>\n",
       "      <th>2</th>\n",
       "      <td>2</td>\n",
       "      <td>US</td>\n",
       "      <td>Tart and snappy, the flavors of lime flesh and...</td>\n",
       "      <td>NaN</td>\n",
       "      <td>87</td>\n",
       "      <td>14.0</td>\n",
       "      <td>Oregon</td>\n",
       "      <td>Willamette Valley</td>\n",
       "      <td>Willamette Valley</td>\n",
       "      <td>Paul Gregutt</td>\n",
       "      <td>@paulgwine</td>\n",
       "      <td>Rainstorm 2013 Pinot Gris (Willamette Valley)</td>\n",
       "      <td>Pinot Gris</td>\n",
       "      <td>Rainstorm</td>\n",
       "    </tr>\n",
       "    <tr>\n",
       "      <th>3</th>\n",
       "      <td>3</td>\n",
       "      <td>US</td>\n",
       "      <td>Pineapple rind, lemon pith and orange blossom ...</td>\n",
       "      <td>Reserve Late Harvest</td>\n",
       "      <td>87</td>\n",
       "      <td>13.0</td>\n",
       "      <td>Michigan</td>\n",
       "      <td>Lake Michigan Shore</td>\n",
       "      <td>NaN</td>\n",
       "      <td>Alexander Peartree</td>\n",
       "      <td>NaN</td>\n",
       "      <td>St. Julian 2013 Reserve Late Harvest Riesling ...</td>\n",
       "      <td>Riesling</td>\n",
       "      <td>St. Julian</td>\n",
       "    </tr>\n",
       "    <tr>\n",
       "      <th>4</th>\n",
       "      <td>4</td>\n",
       "      <td>US</td>\n",
       "      <td>Much like the regular bottling from 2012, this...</td>\n",
       "      <td>Vintner's Reserve Wild Child Block</td>\n",
       "      <td>87</td>\n",
       "      <td>65.0</td>\n",
       "      <td>Oregon</td>\n",
       "      <td>Willamette Valley</td>\n",
       "      <td>Willamette Valley</td>\n",
       "      <td>Paul Gregutt</td>\n",
       "      <td>@paulgwine</td>\n",
       "      <td>Sweet Cheeks 2012 Vintner's Reserve Wild Child...</td>\n",
       "      <td>Pinot Noir</td>\n",
       "      <td>Sweet Cheeks</td>\n",
       "    </tr>\n",
       "  </tbody>\n",
       "</table>\n",
       "</div>"
      ],
      "text/plain": [
       "   Unnamed: 0   country                                        description  \\\n",
       "0           0     Italy  Aromas include tropical fruit, broom, brimston...   \n",
       "1           1  Portugal  This is ripe and fruity, a wine that is smooth...   \n",
       "2           2        US  Tart and snappy, the flavors of lime flesh and...   \n",
       "3           3        US  Pineapple rind, lemon pith and orange blossom ...   \n",
       "4           4        US  Much like the regular bottling from 2012, this...   \n",
       "\n",
       "                          designation  points  price           province  \\\n",
       "0                        Vulkà Bianco      87    NaN  Sicily & Sardinia   \n",
       "1                            Avidagos      87   15.0              Douro   \n",
       "2                                 NaN      87   14.0             Oregon   \n",
       "3                Reserve Late Harvest      87   13.0           Michigan   \n",
       "4  Vintner's Reserve Wild Child Block      87   65.0             Oregon   \n",
       "\n",
       "              region_1           region_2         taster_name  \\\n",
       "0                 Etna                NaN       Kerin O’Keefe   \n",
       "1                  NaN                NaN          Roger Voss   \n",
       "2    Willamette Valley  Willamette Valley        Paul Gregutt   \n",
       "3  Lake Michigan Shore                NaN  Alexander Peartree   \n",
       "4    Willamette Valley  Willamette Valley        Paul Gregutt   \n",
       "\n",
       "  taster_twitter_handle                                              title  \\\n",
       "0          @kerinokeefe                  Nicosia 2013 Vulkà Bianco  (Etna)   \n",
       "1            @vossroger      Quinta dos Avidagos 2011 Avidagos Red (Douro)   \n",
       "2           @paulgwine       Rainstorm 2013 Pinot Gris (Willamette Valley)   \n",
       "3                   NaN  St. Julian 2013 Reserve Late Harvest Riesling ...   \n",
       "4           @paulgwine   Sweet Cheeks 2012 Vintner's Reserve Wild Child...   \n",
       "\n",
       "          variety               winery  \n",
       "0     White Blend              Nicosia  \n",
       "1  Portuguese Red  Quinta dos Avidagos  \n",
       "2      Pinot Gris            Rainstorm  \n",
       "3        Riesling           St. Julian  \n",
       "4      Pinot Noir         Sweet Cheeks  "
      ]
     },
     "execution_count": 122,
     "metadata": {},
     "output_type": "execute_result"
    }
   ],
   "source": [
    "wine_df = pd.read_csv('winemag-data-130k-v2.csv')\n",
    "wine_df.head()"
   ]
  },
  {
   "cell_type": "markdown",
   "metadata": {},
   "source": [
    "## Số lượng dòng và cột của dữ liệu"
   ]
  },
  {
   "cell_type": "code",
   "execution_count": 123,
   "metadata": {},
   "outputs": [
    {
     "name": "stdout",
     "output_type": "stream",
     "text": [
      "Số lượng dòng:  129971\n",
      "Số lượng cột:  14\n"
     ]
    }
   ],
   "source": [
    "num_rows = wine_df.shape[0]\n",
    "num_cols = wine_df.shape[1]\n",
    "print('Số lượng dòng: ', num_rows)\n",
    "print('Số lượng cột: ', num_cols)"
   ]
  },
  {
   "cell_type": "markdown",
   "metadata": {},
   "source": [
    "**Giải thích**:\n",
    "\n",
    "Mỗi dòng có là chứa 1 phần nhận xét (description) và đánh giá điểm (point) của 1 tác giả cho 1 loại rượu cụ thể. Nên cũng có thể có 1 loại rượu được đánh giá bởi nhiều tác giả khác nhau.\n",
    "\n",
    "1 loại rượu thì có thể được phân biệt với nhau nếu khác nhau về 1 trong những yếu tố như loại nho làm rượu, nhà sản suất, năm sản suất, vùng sản suất. Nên để phân biệt giữa các loại rượu với nhau ta dùng phần `title`."
   ]
  },
  {
   "cell_type": "markdown",
   "metadata": {},
   "source": [
    "## Mô tả ý nghĩa của mỗi dòng và cột"
   ]
  },
  {
   "cell_type": "markdown",
   "metadata": {},
   "source": [
    "Mỗi dòng là nhận xét, đánh giá điểm số và các thông tin khác của 1 loại rượu ở 1 vùng cụ thể.\n",
    "\n",
    "Dưới đây là phần mô tả của tác giả về ý nghĩa của các cột trong file winemag-data-130k-v2.csv:\n",
    "\n",
    "+ **Points**: the number of points WineEnthusiast rated the wine on a scale of 1-100 (though they say they only post reviews for wines that score >=80)\n",
    "+ **Title**: the title of the wine review, which often contains the vintage if you're interested in extracting that feature\n",
    "+ **Variety**: the type of grapes used to make the wine (ie Pinot Noir)\n",
    "+ **Description**: a few sentences from a sommelier describing the wine's taste, smell, look, feel, etc.\n",
    "+ **Country**: the country that the wine is from\n",
    "+ **Province**: the province or state that the wine is from\n",
    "+ **Region 1**: the wine growing area in a province or state (ie Napa)\n",
    "+ **Region 2**: sometimes there are more specific regions specified within a wine growing area (ie Rutherford inside the Napa Valley), but this value can sometimes be blank\n",
    "+ **Winery**: the winery that made the wine\n",
    "+ **Designation**: the vineyard within the winery where the grapes that made the wine are from\n",
    "+ **Price**: the cost for a bottle of the wine\n",
    "+ **Taster Name**: name of the person who tasted and reviewed the wine\n",
    "+ **Taster Twitter Handle**: Twitter handle for the person who tasted ane reviewed the wine"
   ]
  },
  {
   "cell_type": "markdown",
   "metadata": {
    "heading_collapsed": true
   },
   "source": [
    "## Kiểu dữ liệu và số lượng giá trị khác rỗng của mỗi cột"
   ]
  },
  {
   "cell_type": "code",
   "execution_count": 124,
   "metadata": {
    "hidden": true
   },
   "outputs": [
    {
     "name": "stdout",
     "output_type": "stream",
     "text": [
      "<class 'pandas.core.frame.DataFrame'>\n",
      "RangeIndex: 129971 entries, 0 to 129970\n",
      "Data columns (total 13 columns):\n",
      " #   Column                 Non-Null Count   Dtype  \n",
      "---  ------                 --------------   -----  \n",
      " 0   country                129908 non-null  object \n",
      " 1   description            129971 non-null  object \n",
      " 2   designation            92506 non-null   object \n",
      " 3   points                 129971 non-null  int64  \n",
      " 4   price                  120975 non-null  float64\n",
      " 5   province               129908 non-null  object \n",
      " 6   region_1               108724 non-null  object \n",
      " 7   region_2               50511 non-null   object \n",
      " 8   taster_name            103727 non-null  object \n",
      " 9   taster_twitter_handle  98758 non-null   object \n",
      " 10  title                  129971 non-null  object \n",
      " 11  variety                129970 non-null  object \n",
      " 12  winery                 129971 non-null  object \n",
      "dtypes: float64(1), int64(1), object(11)\n",
      "memory usage: 12.9+ MB\n"
     ]
    }
   ],
   "source": [
    "wine_df.drop(columns='Unnamed: 0', inplace = True)\n",
    "wine_df.info()"
   ]
  },
  {
   "cell_type": "markdown",
   "metadata": {
    "hidden": true
   },
   "source": [
    "Các cột dạng categorical là: country, description, designation, province, region_1, region_2, taster_name, taster_twitter_handle, title, variety, winery.\n",
    "Các cột còn là là point và price mang giá trị thuộc numerical"
   ]
  },
  {
   "cell_type": "markdown",
   "metadata": {
    "heading_collapsed": true
   },
   "source": [
    "## Số lượng giá trị thiếu cũng mỗi cột"
   ]
  },
  {
   "cell_type": "code",
   "execution_count": 125,
   "metadata": {
    "hidden": true
   },
   "outputs": [
    {
     "data": {
      "text/plain": [
       "country                     63\n",
       "description                  0\n",
       "designation              37465\n",
       "points                       0\n",
       "price                     8996\n",
       "province                    63\n",
       "region_1                 21247\n",
       "region_2                 79460\n",
       "taster_name              26244\n",
       "taster_twitter_handle    31213\n",
       "title                        0\n",
       "variety                      1\n",
       "winery                       0\n",
       "dtype: int64"
      ]
     },
     "execution_count": 125,
     "metadata": {},
     "output_type": "execute_result"
    }
   ],
   "source": [
    "wine_df.isnull().sum()"
   ]
  },
  {
   "cell_type": "markdown",
   "metadata": {
    "heading_collapsed": true
   },
   "source": [
    "## Một số thống kê mô tả đơn giản"
   ]
  },
  {
   "cell_type": "code",
   "execution_count": 126,
   "metadata": {
    "hidden": true
   },
   "outputs": [
    {
     "data": {
      "text/html": [
       "<div>\n",
       "<style scoped>\n",
       "    .dataframe tbody tr th:only-of-type {\n",
       "        vertical-align: middle;\n",
       "    }\n",
       "\n",
       "    .dataframe tbody tr th {\n",
       "        vertical-align: top;\n",
       "    }\n",
       "\n",
       "    .dataframe thead th {\n",
       "        text-align: right;\n",
       "    }\n",
       "</style>\n",
       "<table border=\"1\" class=\"dataframe\">\n",
       "  <thead>\n",
       "    <tr style=\"text-align: right;\">\n",
       "      <th></th>\n",
       "      <th>points</th>\n",
       "      <th>price</th>\n",
       "    </tr>\n",
       "  </thead>\n",
       "  <tbody>\n",
       "    <tr>\n",
       "      <th>count</th>\n",
       "      <td>129971.000000</td>\n",
       "      <td>120975.000000</td>\n",
       "    </tr>\n",
       "    <tr>\n",
       "      <th>mean</th>\n",
       "      <td>88.447138</td>\n",
       "      <td>35.363389</td>\n",
       "    </tr>\n",
       "    <tr>\n",
       "      <th>std</th>\n",
       "      <td>3.039730</td>\n",
       "      <td>41.022218</td>\n",
       "    </tr>\n",
       "    <tr>\n",
       "      <th>min</th>\n",
       "      <td>80.000000</td>\n",
       "      <td>4.000000</td>\n",
       "    </tr>\n",
       "    <tr>\n",
       "      <th>25%</th>\n",
       "      <td>86.000000</td>\n",
       "      <td>17.000000</td>\n",
       "    </tr>\n",
       "    <tr>\n",
       "      <th>50%</th>\n",
       "      <td>88.000000</td>\n",
       "      <td>25.000000</td>\n",
       "    </tr>\n",
       "    <tr>\n",
       "      <th>75%</th>\n",
       "      <td>91.000000</td>\n",
       "      <td>42.000000</td>\n",
       "    </tr>\n",
       "    <tr>\n",
       "      <th>max</th>\n",
       "      <td>100.000000</td>\n",
       "      <td>3300.000000</td>\n",
       "    </tr>\n",
       "  </tbody>\n",
       "</table>\n",
       "</div>"
      ],
      "text/plain": [
       "              points          price\n",
       "count  129971.000000  120975.000000\n",
       "mean       88.447138      35.363389\n",
       "std         3.039730      41.022218\n",
       "min        80.000000       4.000000\n",
       "25%        86.000000      17.000000\n",
       "50%        88.000000      25.000000\n",
       "75%        91.000000      42.000000\n",
       "max       100.000000    3300.000000"
      ]
     },
     "execution_count": 126,
     "metadata": {},
     "output_type": "execute_result"
    }
   ],
   "source": [
    "wine_df.describe()"
   ]
  },
  {
   "cell_type": "markdown",
   "metadata": {
    "hidden": true
   },
   "source": [
    "Nhìn vào thống kê trên:\n",
    "+ Points: miền giá trị của thuộc tính points là [80, 100], trung bình là 88.45\n",
    "+ Price: miền giá trị là từ [4, 3300] ( đô la mỹ), với giá trung bình là 41 đô"
   ]
  },
  {
   "cell_type": "code",
   "execution_count": 127,
   "metadata": {
    "hidden": true
   },
   "outputs": [
    {
     "data": {
      "text/plain": [
       "<matplotlib.axes._subplots.AxesSubplot at 0x1df81977e48>"
      ]
     },
     "execution_count": 127,
     "metadata": {},
     "output_type": "execute_result"
    },
    {
     "data": {
      "image/png": "[encoded data removed]",
      "text/plain": [
       "<Figure size 1584x1080 with 1 Axes>"
      ]
     },
     "metadata": {},
     "output_type": "display_data"
    }
   ],
   "source": [
    "sns.distplot(wine_df['price'])"
   ]
  },
  {
   "cell_type": "markdown",
   "metadata": {
    "hidden": true
   },
   "source": [
    "- Phần lớn các loại rượu đều có mức giá dưới 200 đô, nhưng vẫn có 1 vàn chai rượu có giá rất cao (outlier) trên 3000 đô."
   ]
  },
  {
   "cell_type": "code",
   "execution_count": 128,
   "metadata": {
    "hidden": true
   },
   "outputs": [
    {
     "name": "stdout",
     "output_type": "stream",
     "text": [
      "Số lượng quốc gia khảo sát:  43\n"
     ]
    }
   ],
   "source": [
    "num_country = wine_df['country'].nunique()\n",
    "print(\"Số lượng quốc gia khảo sát: \", num_country)"
   ]
  },
  {
   "cell_type": "markdown",
   "metadata": {
    "heading_collapsed": true
   },
   "source": [
    "## Làm rõ hơn ý nghĩa của các cột country, province, region_1, region_2, title\n"
   ]
  },
  {
   "cell_type": "markdown",
   "metadata": {
    "hidden": true
   },
   "source": [
    "Theo mô tả của tác giả: \n",
    "- **Country**: the country that the wine is from\n",
    "- **Province**: the province or state that the wine is from\n",
    "- **Region 1**: the wine growing area in a province or state (ie Napa)\n",
    "- **Region 2**: sometimes there are more specific regions specified within a wine growing area (ie Rutherford inside the Napa -Valley), but this value can sometimes be blank\n",
    "+ **Title**: the title of the wine review, which often contains the vintage if you're interested in extracting that feature"
   ]
  },
  {
   "cell_type": "markdown",
   "metadata": {
    "hidden": true
   },
   "source": [
    "Như vậy, country là đơn vị lớn nhất chỉ 1 quốc gia, country thì gồm nhiều province. Province thì bao gồm nhiều region_1, còn region_1 thì bao gồm nhiều region_2 (vùng, địa điểm cụ thể thuộc về region_1), có nhiều mẫu giá trị ở region_2 giống với region_1 hoặc là không có giá trị. Ở đây việc kiểm tra các Province có bị overlap với nhau hay không cũng không mang nhiều ý nghĩa ( tức là 1 region vừa thuộc province này vừa thuộc province kia ).\n",
    "\n",
    "**Title** theo như nhận thấy thì chứa rất nhiều thông tin, bao gồm: loại nho để làm rượu, nhà sản suất, và mình nghĩ thời gian có trong title là thời gian sản suất rượu.\n"
   ]
  },
  {
   "cell_type": "markdown",
   "metadata": {
    "hidden": true
   },
   "source": [
    "---"
   ]
  },
  {
   "cell_type": "markdown",
   "metadata": {
    "heading_collapsed": true
   },
   "source": [
    "# Tiền xử lí dữ liệu trước khi thực hiện các bước khám phá dữ liệu kế tiếp"
   ]
  },
  {
   "cell_type": "markdown",
   "metadata": {
    "hidden": true
   },
   "source": [
    "## Xóa các thuộc tính không mang nhiều ý nghĩa hoặc các giá trị gây khó trong phân tích"
   ]
  },
  {
   "cell_type": "markdown",
   "metadata": {
    "hidden": true
   },
   "source": [
    " - Thuộc tính designation: có số lượng các giá trị khác nhau( không bao gồm NaN) là rất lớn.Những thuộc tính này cũng không mang lại nhiều ý nghĩa cho việc phân tích nên ta đơn giản là xóa thuộc tính này đi.\n",
    " - Thuộc tính taster_twitter_handle: thuộc tính này không mang ý nghĩa trong bài phân tích nên ta đơn giản xóa đi."
   ]
  },
  {
   "cell_type": "code",
   "execution_count": 129,
   "metadata": {
    "hidden": true
   },
   "outputs": [
    {
     "name": "stdout",
     "output_type": "stream",
     "text": [
      "Số lượng các giá trị khác nhau của thuộc tính designation là:  37979\n"
     ]
    }
   ],
   "source": [
    "print(\"Số lượng các giá trị khác nhau của thuộc tính designation là: \",  wine_df['designation'].nunique())"
   ]
  },
  {
   "cell_type": "code",
   "execution_count": 130,
   "metadata": {
    "hidden": true
   },
   "outputs": [],
   "source": [
    "wine_df.drop(columns=['designation', 'taster_twitter_handle'], inplace = True)"
   ]
  },
  {
   "cell_type": "markdown",
   "metadata": {
    "hidden": true
   },
   "source": [
    " Nếu kiểm tra lại trong dữ liệu thì chỉ có 1 mẫu thuộc về Ai Cập và giá trị ở price của nó cũng là NaN. Nên ở đây ta không biết nên cập nhật giá của loại rượu ở quốc gia này như thế nào nên để đơn giản cho việc xử lí bên dưới ta xóa luôn dòng thuộc về Ai Cập."
   ]
  },
  {
   "cell_type": "code",
   "execution_count": 131,
   "metadata": {
    "hidden": true
   },
   "outputs": [
    {
     "data": {
      "text/html": [
       "<div>\n",
       "<style scoped>\n",
       "    .dataframe tbody tr th:only-of-type {\n",
       "        vertical-align: middle;\n",
       "    }\n",
       "\n",
       "    .dataframe tbody tr th {\n",
       "        vertical-align: top;\n",
       "    }\n",
       "\n",
       "    .dataframe thead th {\n",
       "        text-align: right;\n",
       "    }\n",
       "</style>\n",
       "<table border=\"1\" class=\"dataframe\">\n",
       "  <thead>\n",
       "    <tr style=\"text-align: right;\">\n",
       "      <th></th>\n",
       "      <th>country</th>\n",
       "      <th>description</th>\n",
       "      <th>points</th>\n",
       "      <th>price</th>\n",
       "      <th>province</th>\n",
       "      <th>region_1</th>\n",
       "      <th>region_2</th>\n",
       "      <th>taster_name</th>\n",
       "      <th>title</th>\n",
       "      <th>variety</th>\n",
       "      <th>winery</th>\n",
       "    </tr>\n",
       "  </thead>\n",
       "  <tbody>\n",
       "    <tr>\n",
       "      <th>110246</th>\n",
       "      <td>Egypt</td>\n",
       "      <td>Ripe pear, apple and tropical fruit in the nos...</td>\n",
       "      <td>84</td>\n",
       "      <td>NaN</td>\n",
       "      <td>Egypt</td>\n",
       "      <td>NaN</td>\n",
       "      <td>NaN</td>\n",
       "      <td>Susan Kostrzewa</td>\n",
       "      <td>Sahara Vineyards 2008 Caspar Blanc de Noirs Gr...</td>\n",
       "      <td>Grenache</td>\n",
       "      <td>Sahara Vineyards</td>\n",
       "    </tr>\n",
       "  </tbody>\n",
       "</table>\n",
       "</div>"
      ],
      "text/plain": [
       "       country                                        description  points  \\\n",
       "110246   Egypt  Ripe pear, apple and tropical fruit in the nos...      84   \n",
       "\n",
       "        price province region_1 region_2      taster_name  \\\n",
       "110246    NaN    Egypt      NaN      NaN  Susan Kostrzewa   \n",
       "\n",
       "                                                    title   variety  \\\n",
       "110246  Sahara Vineyards 2008 Caspar Blanc de Noirs Gr...  Grenache   \n",
       "\n",
       "                  winery  \n",
       "110246  Sahara Vineyards  "
      ]
     },
     "execution_count": 131,
     "metadata": {},
     "output_type": "execute_result"
    }
   ],
   "source": [
    "wine_df[wine_df['country']=='Egypt']"
   ]
  },
  {
   "cell_type": "code",
   "execution_count": 132,
   "metadata": {
    "hidden": true
   },
   "outputs": [],
   "source": [
    "wine_df = wine_df[wine_df['country']!='Egypt'].reset_index(drop = True)\n",
    "num_rows -= 1 # cập nhật lại giá trị"
   ]
  },
  {
   "cell_type": "markdown",
   "metadata": {
    "hidden": true
   },
   "source": [
    "## Xử lí với các giá trị thiếu"
   ]
  },
  {
   "cell_type": "markdown",
   "metadata": {
    "hidden": true
   },
   "source": [
    "Như bước phân tích trên ta thấy có nhiều cột mang nhiều giá trị thiếu:\n",
    "\n",
    "- Các xử lí đối với các cột categorical:\n",
    "    + Các thuộc tính categorical dùng giá trị 'unknown' để điền vào các giá trị còn thiếu.  Ở đây không nên sử dụng phương pháp back fill, vì có thể điền tên khu vực của 1 quốc gia này cho khu vực của 1 quốc gia khác.\n",
    "    \n",
    "- Các xử lí đối với thuộc tính numerical:\n",
    "    + Thuộc tính price: ta tiến hành điền giá trị trung bình của các loại rượu thuộc cùng quốc gia cho các giá trị thiếu:"
   ]
  },
  {
   "cell_type": "markdown",
   "metadata": {
    "hidden": true
   },
   "source": [
    "Xử lí với các thuộc tính categorical"
   ]
  },
  {
   "cell_type": "code",
   "execution_count": 133,
   "metadata": {
    "hidden": true
   },
   "outputs": [],
   "source": [
    "cat_name = ['country', 'region_1', 'region_2', 'taster_name', 'province', 'variety']\n",
    "for name in cat_name:\n",
    "    wine_df[name].fillna('unknown', inplace = True)"
   ]
  },
  {
   "cell_type": "markdown",
   "metadata": {
    "hidden": true
   },
   "source": [
    "Xử lí với các thuộc tính numerical"
   ]
  },
  {
   "cell_type": "code",
   "execution_count": 170,
   "metadata": {
    "hidden": true
   },
   "outputs": [],
   "source": [
    "isnull_price = wine_df['price'].isnull()\n",
    "mean_price_wine_byCountry = wine_df.groupby('country')['price'].agg('mean')\n",
    "wine_df['price'] = [mean_price_wine_byCountry[wine_df.iloc[i][0]] if isnull_price[i]\n",
    "                                                                  else wine_df.iloc[i]['price'] for i in range(num_rows)]"
   ]
  },
  {
   "cell_type": "markdown",
   "metadata": {
    "hidden": true
   },
   "source": [
    "## Kiểm tra lại kết quả của việc xử lí"
   ]
  },
  {
   "cell_type": "code",
   "execution_count": 171,
   "metadata": {
    "hidden": true
   },
   "outputs": [
    {
     "data": {
      "text/plain": [
       "country        0\n",
       "description    0\n",
       "points         0\n",
       "price          0\n",
       "province       0\n",
       "region_1       0\n",
       "region_2       0\n",
       "taster_name    0\n",
       "title          0\n",
       "variety        0\n",
       "winery         0\n",
       "dtype: int64"
      ]
     },
     "execution_count": 171,
     "metadata": {},
     "output_type": "execute_result"
    }
   ],
   "source": [
    "wine_df.isnull().sum()"
   ]
  },
  {
   "cell_type": "markdown",
   "metadata": {
    "hidden": true
   },
   "source": [
    "---"
   ]
  },
  {
   "cell_type": "markdown",
   "metadata": {
    "heading_collapsed": true
   },
   "source": [
    "# Featuring engineering"
   ]
  },
  {
   "cell_type": "markdown",
   "metadata": {
    "hidden": true
   },
   "source": [
    "## Có nơi nào chứa thông tin về năm sản suất của loại rượu hay không? "
   ]
  },
  {
   "cell_type": "markdown",
   "metadata": {
    "hidden": true
   },
   "source": [
    "Ở đây ta vẫn chưa biết được việc đánh giá các loại rượu diễn ra ở trong cùng 1 năm hay ở nhiều năm khác nhau. Vậy nơi nào cho biết thời gian diễn ra năm đánh giá?\n",
    "\n",
    "- Nếu để ý kĩ, ta sẽ thấy năm đánh giá nằm trong thuộc tính title. Nhưng trong phần title có thể xuất hiện các giá trị số mà đó không phải là năm sản suất như ví dụ sau, giá trị 1789 là trong tên '1789 Wines' - 1 nhà sản xuất rượu. Và ở đây năm sản suất là 2007."
   ]
  },
  {
   "cell_type": "code",
   "execution_count": 172,
   "metadata": {
    "hidden": true
   },
   "outputs": [
    {
     "data": {
      "text/plain": [
       "title      1789 Wines 2007 Pinot Noir (Chehalem Mountains)\n",
       "variety                                         Pinot Noir\n",
       "winery                                          1789 Wines\n",
       "Name: 68586, dtype: object"
      ]
     },
     "execution_count": 172,
     "metadata": {},
     "output_type": "execute_result"
    }
   ],
   "source": [
    "wine_df.iloc[68586, 8:11]"
   ]
  },
  {
   "cell_type": "markdown",
   "metadata": {
    "hidden": true
   },
   "source": [
    "- Hoặc trong những mẫu dưới thì `title` thì năm là 2014, 2013, 2012, 2011. Còn số 1105 là 1 phần của tên loại rượu, và như mình nói ở trên thì những loại rượu có thể phân biệt bởi năm sản suất."
   ]
  },
  {
   "cell_type": "code",
   "execution_count": 201,
   "metadata": {
    "hidden": true
   },
   "outputs": [
    {
     "data": {
      "text/html": [
       "<div>\n",
       "<style scoped>\n",
       "    .dataframe tbody tr th:only-of-type {\n",
       "        vertical-align: middle;\n",
       "    }\n",
       "\n",
       "    .dataframe tbody tr th {\n",
       "        vertical-align: top;\n",
       "    }\n",
       "\n",
       "    .dataframe thead th {\n",
       "        text-align: right;\n",
       "    }\n",
       "</style>\n",
       "<table border=\"1\" class=\"dataframe\">\n",
       "  <thead>\n",
       "    <tr style=\"text-align: right;\">\n",
       "      <th></th>\n",
       "      <th>country</th>\n",
       "      <th>description</th>\n",
       "      <th>points</th>\n",
       "      <th>price</th>\n",
       "      <th>province</th>\n",
       "      <th>region_1</th>\n",
       "      <th>region_2</th>\n",
       "      <th>taster_name</th>\n",
       "      <th>title</th>\n",
       "      <th>variety</th>\n",
       "      <th>winery</th>\n",
       "    </tr>\n",
       "  </thead>\n",
       "  <tbody>\n",
       "    <tr>\n",
       "      <th>213</th>\n",
       "      <td>US</td>\n",
       "      <td>This blend of 60% Petite Sirah, 21% Syrah, 7% ...</td>\n",
       "      <td>90</td>\n",
       "      <td>48.0</td>\n",
       "      <td>California</td>\n",
       "      <td>Paso Robles</td>\n",
       "      <td>Central Coast</td>\n",
       "      <td>Matt Kettmann</td>\n",
       "      <td>MCV 2014 1105 Red (Paso Robles)</td>\n",
       "      <td>Red Blend</td>\n",
       "      <td>MCV</td>\n",
       "    </tr>\n",
       "    <tr>\n",
       "      <th>32788</th>\n",
       "      <td>US</td>\n",
       "      <td>Deep, dark blueberry fruit meets with beef cha...</td>\n",
       "      <td>90</td>\n",
       "      <td>48.0</td>\n",
       "      <td>California</td>\n",
       "      <td>Paso Robles</td>\n",
       "      <td>Central Coast</td>\n",
       "      <td>Matt Kettmann</td>\n",
       "      <td>MCV 2013 1105 Red (Paso Robles)</td>\n",
       "      <td>Red Blend</td>\n",
       "      <td>MCV</td>\n",
       "    </tr>\n",
       "    <tr>\n",
       "      <th>88344</th>\n",
       "      <td>US</td>\n",
       "      <td>Based on Petite Sirah, with small amounts of S...</td>\n",
       "      <td>90</td>\n",
       "      <td>36.0</td>\n",
       "      <td>California</td>\n",
       "      <td>Paso Robles</td>\n",
       "      <td>Central Coast</td>\n",
       "      <td>unknown</td>\n",
       "      <td>MCV 2011 1105 Red (Paso Robles)</td>\n",
       "      <td>Red Blend</td>\n",
       "      <td>MCV</td>\n",
       "    </tr>\n",
       "    <tr>\n",
       "      <th>119717</th>\n",
       "      <td>US</td>\n",
       "      <td>This Petite Sirah-led blend, which also featur...</td>\n",
       "      <td>88</td>\n",
       "      <td>40.0</td>\n",
       "      <td>California</td>\n",
       "      <td>Paso Robles</td>\n",
       "      <td>Central Coast</td>\n",
       "      <td>Matt Kettmann</td>\n",
       "      <td>MCV 2012 1105 Red (Paso Robles)</td>\n",
       "      <td>Red Blend</td>\n",
       "      <td>MCV</td>\n",
       "    </tr>\n",
       "  </tbody>\n",
       "</table>\n",
       "</div>"
      ],
      "text/plain": [
       "       country                                        description  points  \\\n",
       "213         US  This blend of 60% Petite Sirah, 21% Syrah, 7% ...      90   \n",
       "32788       US  Deep, dark blueberry fruit meets with beef cha...      90   \n",
       "88344       US  Based on Petite Sirah, with small amounts of S...      90   \n",
       "119717      US  This Petite Sirah-led blend, which also featur...      88   \n",
       "\n",
       "        price    province     region_1       region_2    taster_name  \\\n",
       "213      48.0  California  Paso Robles  Central Coast  Matt Kettmann   \n",
       "32788    48.0  California  Paso Robles  Central Coast  Matt Kettmann   \n",
       "88344    36.0  California  Paso Robles  Central Coast        unknown   \n",
       "119717   40.0  California  Paso Robles  Central Coast  Matt Kettmann   \n",
       "\n",
       "                                  title    variety winery  \n",
       "213     MCV 2014 1105 Red (Paso Robles)  Red Blend    MCV  \n",
       "32788   MCV 2013 1105 Red (Paso Robles)  Red Blend    MCV  \n",
       "88344   MCV 2011 1105 Red (Paso Robles)  Red Blend    MCV  \n",
       "119717  MCV 2012 1105 Red (Paso Robles)  Red Blend    MCV  "
      ]
     },
     "execution_count": 201,
     "metadata": {},
     "output_type": "execute_result"
    }
   ],
   "source": [
    "wine_df[wine_df['title'].str.contains('1105', '2014')]"
   ]
  },
  {
   "cell_type": "markdown",
   "metadata": {
    "hidden": true
   },
   "source": [
    "- Hoặc có những mẫu, trong title không chứa giá trị số"
   ]
  },
  {
   "cell_type": "code",
   "execution_count": 206,
   "metadata": {
    "hidden": true
   },
   "outputs": [
    {
     "data": {
      "text/plain": [
       "title      Roland Champion NV Brut Rosé  (Champagne)\n",
       "variety                              Champagne Blend\n",
       "winery                               Roland Champion\n",
       "Name: 63, dtype: object"
      ]
     },
     "execution_count": 206,
     "metadata": {},
     "output_type": "execute_result"
    }
   ],
   "source": [
    "wine_df.iloc[63, 8:11]"
   ]
  },
  {
   "cell_type": "markdown",
   "metadata": {
    "hidden": true
   },
   "source": [
    "Vậy ta sẽ tiến hành các bước xử lí sau:\n",
    "\n",
    "- Bước 1: Lấy được mảng các giá trị số có 4 chữ số trong phần `title` và đặt tên là **number_in_title**.\n",
    "- Bước 2: Lấy mảng các giá trị số nếu có xuất hiện trong `winery` và đặt tên là **number_in_winery** .\n",
    "- Bước 3: \n",
    "    + Giữ lại các giá trị có trong title nhưng không có trong winery\n",
    "    + Nếu number_in_title chứa nhiều hơn 2 giá trị, mặc định lấy giá trị lớn nhất mà hợp lệ (nhỏ hơn năm 2020 - tại có nhiều giá trị rất lớn ).\n",
    "    + Điền các giá trị rỗng bằng năm sản suất của mẫu liền trên."
   ]
  },
  {
   "cell_type": "markdown",
   "metadata": {
    "hidden": true
   },
   "source": [
    "Bước 1, 2:"
   ]
  },
  {
   "cell_type": "code",
   "execution_count": 175,
   "metadata": {
    "hidden": true
   },
   "outputs": [
    {
     "data": {
      "text/plain": [
       "0         [2013]\n",
       "1         [2011]\n",
       "2         [2013]\n",
       "3         [2013]\n",
       "4         [2012]\n",
       "           ...  \n",
       "129965    [2013]\n",
       "129966    [2004]\n",
       "129967    [2013]\n",
       "129968    [2012]\n",
       "129969    [2012]\n",
       "Name: title, Length: 129970, dtype: object"
      ]
     },
     "execution_count": 175,
     "metadata": {},
     "output_type": "execute_result"
    }
   ],
   "source": [
    "number_in_title = wine_df['title'].apply(lambda x: re.findall(r'\\d{4}', x))\n",
    "number_in_winery = wine_df['winery'].apply(lambda x: re.findall(r'\\d{4}', x))"
   ]
  },
  {
   "cell_type": "markdown",
   "metadata": {
    "hidden": true
   },
   "source": [
    "Bước 3:"
   ]
  },
  {
   "cell_type": "code",
   "execution_count": 257,
   "metadata": {
    "hidden": true
   },
   "outputs": [],
   "source": [
    "kq = [list(set(number_in_title[i]) - set(number_in_winery[i])) if number_in_winery[i]!=None\n",
    "                                                            else number_in_title[i] for i in range(num_rows)]"
   ]
  },
  {
   "cell_type": "code",
   "execution_count": 276,
   "metadata": {
    "hidden": true
   },
   "outputs": [],
   "source": [
    "year = []\n",
    "for idx, v in enumerate(kq):\n",
    "    if len(v)==1:\n",
    "        year.append(v[0])\n",
    "        continue\n",
    "    if len(v)>1:\n",
    "        arr = []\n",
    "        for y in v:\n",
    "            if y<='2020':\n",
    "                arr.append(y)\n",
    "        year.append(max(arr))\n",
    "        continue\n",
    "    if len(v)==0:\n",
    "        year.append(new[idx-1])"
   ]
  },
  {
   "cell_type": "code",
   "execution_count": 277,
   "metadata": {
    "hidden": true
   },
   "outputs": [],
   "source": [
    "wine_df['year'] = year"
   ]
  },
  {
   "cell_type": "markdown",
   "metadata": {
    "hidden": true
   },
   "source": [
    "- Kiểm tra lại sau bước chuẩn hóa"
   ]
  },
  {
   "cell_type": "code",
   "execution_count": 280,
   "metadata": {
    "hidden": true
   },
   "outputs": [
    {
     "name": "stdout",
     "output_type": "stream",
     "text": [
      "Tổng số mẫu Null của thuộc tính year:  0\n",
      "\n",
      "Miền giá trị trong year:  ['2013' '2011' '2012' '2010' '2007' '2009' '2008' '2014' '2015' '2016'\n",
      " '2004' '2003' '2006' '2001' '2005' '2002' '1887' '2000' '1999' '1991'\n",
      " '1997' '1996' '2017' '1995' '1872' '1998' '1994' '1992' '1976' '1964'\n",
      " '1983' '1967' '1990' '1988' '1827' '1980' '1987' '1989' '1993' '1969'\n",
      " '1882' '1935' '1503' '1821' '1973' '1978' '1965' '1968' '1947' '1963'\n",
      " '1985' '1927' '1904' '1868' '1847' '1982' '1986' '1607' '1919' '1957'\n",
      " '1966' '1984' '1961' '1952' '1941' '1974' '1934' '1945']\n"
     ]
    }
   ],
   "source": [
    "print(\"Tổng số mẫu Null của thuộc tính year: \", wine_df['year'].isnull().sum())\n",
    "print(\"\\nMiền giá trị trong year: \",  wine_df['year'].unique())"
   ]
  },
  {
   "cell_type": "markdown",
   "metadata": {
    "hidden": true
   },
   "source": [
    "- Sau bước chuẩn hóa: thì vẫn còn vài mẫu mình nghĩ mang giá trị không đúng, có thể giá trị ở đây không phải năm sản suất mà là tên loại rượu thôi."
   ]
  },
  {
   "cell_type": "code",
   "execution_count": 281,
   "metadata": {
    "hidden": true
   },
   "outputs": [
    {
     "data": {
      "text/html": [
       "<div>\n",
       "<style scoped>\n",
       "    .dataframe tbody tr th:only-of-type {\n",
       "        vertical-align: middle;\n",
       "    }\n",
       "\n",
       "    .dataframe tbody tr th {\n",
       "        vertical-align: top;\n",
       "    }\n",
       "\n",
       "    .dataframe thead th {\n",
       "        text-align: right;\n",
       "    }\n",
       "</style>\n",
       "<table border=\"1\" class=\"dataframe\">\n",
       "  <thead>\n",
       "    <tr style=\"text-align: right;\">\n",
       "      <th></th>\n",
       "      <th>country</th>\n",
       "      <th>description</th>\n",
       "      <th>points</th>\n",
       "      <th>price</th>\n",
       "      <th>province</th>\n",
       "      <th>region_1</th>\n",
       "      <th>region_2</th>\n",
       "      <th>taster_name</th>\n",
       "      <th>title</th>\n",
       "      <th>variety</th>\n",
       "      <th>winery</th>\n",
       "      <th>year</th>\n",
       "    </tr>\n",
       "  </thead>\n",
       "  <tbody>\n",
       "    <tr>\n",
       "      <th>71238</th>\n",
       "      <td>Italy</td>\n",
       "      <td>Lively and fresh, this off-dry wine doles out ...</td>\n",
       "      <td>87</td>\n",
       "      <td>17.0</td>\n",
       "      <td>Veneto</td>\n",
       "      <td>Prosecco</td>\n",
       "      <td>unknown</td>\n",
       "      <td>Kerin O’Keefe</td>\n",
       "      <td>Albino Armani NV 1607 Extra Dry  (Prosecco)</td>\n",
       "      <td>Glera</td>\n",
       "      <td>Albino Armani</td>\n",
       "      <td>1607</td>\n",
       "    </tr>\n",
       "  </tbody>\n",
       "</table>\n",
       "</div>"
      ],
      "text/plain": [
       "      country                                        description  points  \\\n",
       "71238   Italy  Lively and fresh, this off-dry wine doles out ...      87   \n",
       "\n",
       "       price province  region_1 region_2    taster_name  \\\n",
       "71238   17.0   Veneto  Prosecco  unknown  Kerin O’Keefe   \n",
       "\n",
       "                                             title variety         winery  \\\n",
       "71238  Albino Armani NV 1607 Extra Dry  (Prosecco)   Glera  Albino Armani   \n",
       "\n",
       "       year  \n",
       "71238  1607  "
      ]
     },
     "execution_count": 281,
     "metadata": {},
     "output_type": "execute_result"
    }
   ],
   "source": [
    "wine_df[wine_df['title'].str.contains('1607')]"
   ]
  },
  {
   "cell_type": "markdown",
   "metadata": {
    "hidden": true
   },
   "source": [
    "## Tạo thêm thuộc tính provinceOfCountry\n",
    "\n",
    "- Là việc kết hợp 2 thuộc tính province và country. Thuộc tích được tạo mới phục vụ tốt hơn cho việc trực quan"
   ]
  },
  {
   "cell_type": "code",
   "execution_count": 283,
   "metadata": {
    "hidden": true
   },
   "outputs": [
    {
     "data": {
      "text/plain": [
       "0    ( Italy ) Sicily & Sardinia\n",
       "1             ( Portugal ) Douro\n",
       "2                  ( US ) Oregon\n",
       "3                ( US ) Michigan\n",
       "4                  ( US ) Oregon\n",
       "Name: provinceOfCountry, dtype: object"
      ]
     },
     "execution_count": 283,
     "metadata": {},
     "output_type": "execute_result"
    }
   ],
   "source": [
    "wine_df['provinceOfCountry'] = '( ' + wine_df['country'] + ' ) ' + wine_df['province']\n",
    "wine_df['provinceOfCountry'].head()"
   ]
  },
  {
   "cell_type": "markdown",
   "metadata": {
    "hidden": true
   },
   "source": [
    "---"
   ]
  },
  {
   "cell_type": "markdown",
   "metadata": {},
   "source": [
    "# Đưa ra các câu hỏi cần trả lời"
   ]
  },
  {
   "cell_type": "markdown",
   "metadata": {},
   "source": [
    "Sau khi có cái nhìn tổng quát và hiểu hơn về dữ liệu, giờ đây mình bắt đầu thấy tò mò và đặt nhiều câu hỏi trong đầu. May thay những câu hỏi này đều có thể giải quyết thông qua dữ liệu.\n",
    "\n",
    "**1**. Những tỉnh thành nào có nhiều khu vực sản suất rượu nhất và mức giá rượu trung bình , điểm số trung bình xuất xứ từ các tỉnh thành này.\n",
    "\n",
    "\n",
    "**2**. Những quốc gia nào có nhiều tỉnh thành sản suất rượu nhất và mức giá rượu trung bình, điểm số trung bình xuất xứ từ quốc gia này.\n",
    "\n",
    "**3** Những nhà sản suất rượu vang nào nổi tiếng nhất thế giới (Masseto, Fontodi...)\n",
    "\n",
    "**3**. 20 loại rượu được ưa chuộng nhất và giá của chúng. \n",
    "\n",
    "**3**. 20 loại nho được ưa chuộng nhất và giá của chúng. \n",
    "\n",
    "**4**. Mối quan hệ giữa điểm số và số lượng từ trong phần đánh giá. \n",
    "\n",
    "\n",
    "**5**. Những từ ngữ được dùng nhiều nhất để đánh giá về top 100 loại rượu được ưu chuộng nhất.\n",
    "\n",
    "\n",
    "**6**. So sánh các loại rượu nổi tiếng được trồng giữa các quốc gia.( không biết 1 loại rượu có thể xuất hiện ở nhiều quốc gia hay không ) Sangiovese\n",
    "\n",
    "**7**. 5 tác giả nào có nhiều bài review nhất và khoảng điểm họ cho trong bài review của mình."
   ]
  },
  {
   "cell_type": "markdown",
   "metadata": {},
   "source": [
    "# Phân tích dữ liệu để trả lời cho các câu hỏi"
   ]
  },
  {
   "cell_type": "markdown",
   "metadata": {},
   "source": [
    "`Trước khi đi vào trả lời các câu hỏi về rượu nho. Chúng ta hãy nạp thêm 1 ít kiến thức về rượu nho nào.`\n",
    "\n",
    " - Với mỗi quốc gia làm rượu vang, thì mỗi nước có công thức và vùng đất nào đó thích hợp cho việc trồng nho làm rượu. Rượu vang được làm từ những trái nho. Ở đây, nho được chọn làm rượu vang là những trái có tiêu chuẩn riêng như trái nhỏ, ngọt, có da dày và chứa hạt. Có rất nhiều rất nhiều loại nho dùng làm rượu thương mại đã được xác định, nhưng chỉ có khoản 150 loại được trồng làm rượu vang trên thế giới.\n",
    "\n",
    "Rượu vang là gì?\n",
    "\n",
    "- <font color = 'blue'>Độ ngon</font> của 1 chai rượu thường được quyết định bởi 3 yếu tố:\n",
    "    + Giống nho\n",
    "    + Vùng trồng nho\n",
    "    + Quy trình sản suất\n",
    "    \n",
    " \n",
    "<font color='blue'> Giống nho </font>:  có rất nhiều giống nho được sử dụng làm rượu vang, mỗi giống sẽ có màu, mùi vị khác nhau. \n",
    "    \n",
    "- Các vùng trồng nho nổi tiếng trên thế giới:\n",
    " + Nước Italia : Tuscany\n",
    " + Nước Tây Ban Nha: vùng rượu vang Rioja\n",
    " + Nước Pháp:Vùng rượu vang Bordeaux"
   ]
  },
  {
   "cell_type": "markdown",
   "metadata": {},
   "source": [
    "---"
   ]
  },
  {
   "cell_type": "markdown",
   "metadata": {
    "heading_collapsed": true
   },
   "source": [
    "## 1.  Những tỉnh thành nào có nhiều khu vực sản suất rượu nhất và mức giá rượu , điểm số trung bình xuất xứ từ các tỉnh thành này."
   ]
  },
  {
   "cell_type": "markdown",
   "metadata": {
    "hidden": true
   },
   "source": [
    "<font color='blue'>Độ ngon</font> của 1 chai rượu vang được quyết định bởi loại nho làm nên. Tuy nhiên có thể nói thổ nhưỡng, và khí hậu tại vùng trồng nho là yếu tố quyết định để tạo nên rượu vang với hương vị hoàn hảo. Tại mỗi vùng trồng nho đều có hàm lượng khoáng chất nuôi dưỡng cây nho và khí hậu đặc trưng. Có những loại nho chỉ có thể phát triển trên những mảnh đất đặc thù mà không thể tạo ra trên những mảnh đất khác.\n",
    "\n",
    "--> **Đó là lí do đầu tiên để chúng ta tiến hành phân tích những vùng trồng nho nổi tiếng nhất thế giới.**"
   ]
  },
  {
   "cell_type": "code",
   "execution_count": 284,
   "metadata": {
    "hidden": true
   },
   "outputs": [
    {
     "data": {
      "text/plain": [
       "provinceOfCountry\n",
       "( US ) California           181\n",
       "( France ) Burgundy         115\n",
       "( Italy ) Central Italy      69\n",
       "( Italy ) Southern Italy     63\n",
       "( Italy ) Veneto             62\n",
       "                           ... \n",
       "( Portugal ) Duriense         1\n",
       "( Portugal ) Dão              1\n",
       "( Portugal ) Estremadura      1\n",
       "( Portugal ) Lisboa           1\n",
       "( Israel ) Judean Hills       1\n",
       "Name: region_1, Length: 425, dtype: int64"
      ]
     },
     "execution_count": 284,
     "metadata": {},
     "output_type": "execute_result"
    }
   ],
   "source": [
    "best_place_for_wine = wine_df.groupby('provinceOfCountry')['region_1'].nunique().sort_values(ascending = False)\n",
    "best_place_for_wine"
   ]
  },
  {
   "cell_type": "code",
   "execution_count": 285,
   "metadata": {
    "hidden": true
   },
   "outputs": [
    {
     "data": {
      "text/plain": [
       "Text(0.5, 1.0, 'Những tỉnh có nhiều khu vực sản suât rượu nho nhất')"
      ]
     },
     "execution_count": 285,
     "metadata": {},
     "output_type": "execute_result"
    },
    {
     "data": {
      "image/png": "[encoded data removed]",
      "text/plain": [
       "<Figure size 1584x1080 with 1 Axes>"
      ]
     },
     "metadata": {},
     "output_type": "display_data"
    }
   ],
   "source": [
    "best_place_for_wine[:15].plot.barh(use_index = True)\n",
    "plt.xlabel('Tổng số vườn nho ( khu vực)', fontsize = 30)\n",
    "plt.ylabel('Tỉnh',fontsize = 30)\n",
    "plt.title('Những tỉnh có nhiều khu vực sản suât rượu nho nhất', fontsize = 30)"
   ]
  },
  {
   "cell_type": "markdown",
   "metadata": {
    "hidden": true
   },
   "source": [
    "**Nhận xét:**\n",
    "\n",
    "- Tỉnh ( bang ) có nhiều khu vực trồng nho nhất thế giới là California ở Mỹ, với số lượng vườn nho ở lên tới 175. Xếp sau là Burgundy của Pháp và những tỉnh thuộc Ý. Nếu chúng ta tìm hiểu thì sẽ biết đây là những nơi xuất xứ của những loại rượu vang trứ danh, thuộc các nước nổi tiếng với ngành công nghiệp rượu nho."
   ]
  },
  {
   "cell_type": "markdown",
   "metadata": {
    "hidden": true
   },
   "source": [
    "### Chúng ta thường nghe về những chai rượu cực kì mắc tiền, vậy chúng xuất xứ từ đâu?"
   ]
  },
  {
   "cell_type": "code",
   "execution_count": 286,
   "metadata": {
    "hidden": true
   },
   "outputs": [
    {
     "data": {
      "text/plain": [
       "Text(0.5, 1.0, 'The regions that produce the first-class wines')"
      ]
     },
     "execution_count": 286,
     "metadata": {},
     "output_type": "execute_result"
    },
    {
     "data": {
      "image/png": "[encoded data removed]",
      "text/plain": [
       "<Figure size 1584x1080 with 1 Axes>"
      ]
     },
     "metadata": {},
     "output_type": "display_data"
    }
   ],
   "source": [
    "price_in_best_place = wine_df.groupby('provinceOfCountry')['price'].agg('max').sort_values(ascending = False)\n",
    "price_in_best_place[:15].plot.barh(use_index = True)\n",
    "plt.xlabel('Price', fontsize=30)\n",
    "plt.ylabel('Province', fontsize = 30)\n",
    "plt.title('The regions that produce the first-class wines', fontsize = 30)"
   ]
  },
  {
   "cell_type": "markdown",
   "metadata": {
    "hidden": true
   },
   "source": [
    "**Nhận xét:**\n",
    "\n",
    "- Biểu đồ trên cho ta biết những vùng nào chuyên sản xuất những loại rượu vang xa xỉ và có chất lượng nhất thế giới. Những chai rượu vang có giá hàng nghìn đô, đến từ các vùng trồng nho nổi tiếng của Pháp, Mỹ, Ý, Úc, Bồ Đào Nha..."
   ]
  },
  {
   "cell_type": "markdown",
   "metadata": {
    "hidden": true
   },
   "source": [
    "*** chèn hình ***"
   ]
  },
  {
   "cell_type": "markdown",
   "metadata": {
    "hidden": true
   },
   "source": [
    "### Những vùng nào có thể trồng được nhiều loại nho nhất? Variety là loại nho dùng để làm rượu"
   ]
  },
  {
   "cell_type": "code",
   "execution_count": 287,
   "metadata": {
    "hidden": true
   },
   "outputs": [
    {
     "data": {
      "text/plain": [
       "provinceOfCountry\n",
       "( US ) California                       194\n",
       "( US ) Washington                       111\n",
       "( US ) Oregon                            83\n",
       "( US ) New York                          71\n",
       "( Spain ) Northern Spain                 66\n",
       "                                       ... \n",
       "( New Zealand ) Gladstone                 1\n",
       "( US ) Illinois                           1\n",
       "( Morocco ) Guerrouane                    1\n",
       "( South Africa ) Vlootenburg              1\n",
       "( Greece ) Mavrodaphne de Cephalonie      1\n",
       "Name: variety, Length: 425, dtype: int64"
      ]
     },
     "execution_count": 287,
     "metadata": {},
     "output_type": "execute_result"
    }
   ],
   "source": [
    "variety_of_wine_best_place = wine_df.groupby('provinceOfCountry')['variety'].nunique().sort_values(ascending = False)\n",
    "variety_of_wine_best_place"
   ]
  },
  {
   "cell_type": "markdown",
   "metadata": {
    "hidden": true
   },
   "source": [
    "**Nhìn qua thử xem California có những loại nho nào để làm rượu? Có số nào trong đó các bạn biết không?**"
   ]
  },
  {
   "cell_type": "code",
   "execution_count": 288,
   "metadata": {
    "hidden": true
   },
   "outputs": [
    {
     "data": {
      "text/plain": [
       "Index(['Pinot Noir', 'Cabernet Sauvignon', 'Chardonnay', 'Zinfandel', 'Syrah',\n",
       "       'Sauvignon Blanc', 'Red Blend', 'Merlot', 'Bordeaux-style Red Blend',\n",
       "       'Petite Sirah'],\n",
       "      dtype='object')"
      ]
     },
     "execution_count": 288,
     "metadata": {},
     "output_type": "execute_result"
    }
   ],
   "source": [
    "wine_df[wine_df['province']=='California']['variety'].value_counts(ascending=False).index[:10]"
   ]
  },
  {
   "cell_type": "code",
   "execution_count": 289,
   "metadata": {
    "hidden": true
   },
   "outputs": [
    {
     "data": {
      "text/plain": [
       "Text(0.5, 1.0, 'The regions that have the most type of grapes')"
      ]
     },
     "execution_count": 289,
     "metadata": {},
     "output_type": "execute_result"
    },
    {
     "data": {
      "image/png": "[encoded data removed]",
      "text/plain": [
       "<Figure size 1584x1080 with 1 Axes>"
      ]
     },
     "metadata": {},
     "output_type": "display_data"
    }
   ],
   "source": [
    "variety_of_wine_best_place[:15].plot.barh(use_index = True)\n",
    "plt.xlabel('Number of grapes', fontsize=30)\n",
    "plt.ylabel('Province', fontsize = 30)\n",
    "plt.title('The regions that have the most type of grapes', fontsize = 30)"
   ]
  },
  {
   "cell_type": "markdown",
   "metadata": {
    "hidden": true
   },
   "source": [
    "**Nhận xét**\n",
    "\n",
    "- Wao, những bang của Mỹ là nơi sở hữu nhiều thương hiệu rượu vang nhất. \n",
    "- Ngoài những nước ở Châu âu, Bắc mỹ thì giờ chúng ta thấy 1 đại diện ở Nam mỹ là Argentina."
   ]
  },
  {
   "cell_type": "markdown",
   "metadata": {
    "hidden": true
   },
   "source": [
    "### Sau khi đi qua 1 vài thông tin về mức giá, số loại rượu. Giờ chúng ta phân tích xem những khu vực nào được đánh giá cao về chất lượng rượu"
   ]
  },
  {
   "cell_type": "code",
   "execution_count": 297,
   "metadata": {
    "hidden": true
   },
   "outputs": [
    {
     "name": "stdout",
     "output_type": "stream",
     "text": [
      "  10 quốc gia được đánh giá cao nhất về chất lượng rượu: \n"
     ]
    },
    {
     "data": {
      "text/plain": [
       "provinceOfCountry\n",
       "( Austria ) Südburgenland    94.000000\n",
       "( Portugal ) Madeira         93.230769\n",
       "( Germany ) Mittelrhein      92.000000\n",
       "( Chile ) Puente Alto        91.733333\n",
       "( Austria ) Wachau           91.620397\n",
       "( England ) England          91.581081\n",
       "( Chile ) Santa Cruz         91.500000\n",
       "( Austria ) Kamptal          91.454768\n",
       "( Austria ) Traisental       91.255814\n",
       "( Austria ) Eisenberg        91.187500\n",
       "Name: points, dtype: float64"
      ]
     },
     "execution_count": 297,
     "metadata": {},
     "output_type": "execute_result"
    }
   ],
   "source": [
    "best_place_of_points = wine_df.groupby('provinceOfCountry')['points'].agg('mean').sort_values(ascending = False)\n",
    "print(\"  10 quốc gia được đánh giá cao nhất về chất lượng rượu: \")\n",
    "best_place_of_points[:10]"
   ]
  },
  {
   "cell_type": "markdown",
   "metadata": {
    "hidden": true
   },
   "source": [
    "**Nhận xét**\n",
    "\n",
    "- Giờ thì biết nên mua rượu từ vùng nào rồi. Úc có quốc gia có nhiều vùng sản suất rượu được đánh giá cao về chất lượng, các vùng còn lại đến từ Nam mỹ và Châu Âu."
   ]
  },
  {
   "cell_type": "markdown",
   "metadata": {
    "hidden": true
   },
   "source": [
    "---"
   ]
  },
  {
   "cell_type": "markdown",
   "metadata": {
    "heading_collapsed": true
   },
   "source": [
    "## 2.Những quốc gia nào có nhiều khu vực sản suất rượu nhất và mức giá rượu , điểm số trung bình xuất xứ từ các quốc gia này."
   ]
  },
  {
   "cell_type": "markdown",
   "metadata": {
    "hidden": true
   },
   "source": [
    "Nho là chịu ảnh hưởng rất lớn bởi khí hâu và đất đai, tùy khu vực mà Nho có thể cho năng suất, sản lượng và chất lượng cao cho việc làm rượu. Do đó không phải quốc gia nào cũng may mắn có nhiều khu vực để trồng nho. Qua vài thông tin trên, chúng ta cũng thấy được là những vùng trồng nho nổi tiếng thường tập trung ở các nước quốc gia Châu Âu, Bắc Mỹ, Nam Mỹ. Vậy hãy cùng phân tích một chút về các quốc gia đứng đầu ở ngành công nghiệp này nhé! "
   ]
  },
  {
   "cell_type": "markdown",
   "metadata": {
    "heading_collapsed": true,
    "hidden": true
   },
   "source": [
    "### Những quốc gia có nhiều tỉnh thành sản xuất rượu nhất."
   ]
  },
  {
   "cell_type": "code",
   "execution_count": null,
   "metadata": {
    "hidden": true
   },
   "outputs": [],
   "source": [
    "top_country_with_most_region = wine_df.groupby('country')['province'].nunique().sort_values(ascending = False)\n",
    "top_country_with_most_region[:15]"
   ]
  },
  {
   "cell_type": "code",
   "execution_count": null,
   "metadata": {
    "hidden": true
   },
   "outputs": [],
   "source": [
    "top_country_with_most_region[:15].plot.barh(use_index = True)\n",
    "plt.xlabel('Number of provinces', fontsize=30)\n",
    "plt.ylabel('Country', fontsize = 30)\n",
    "plt.title('The country that have the most provinces', fontsize = 30)"
   ]
  },
  {
   "cell_type": "markdown",
   "metadata": {
    "hidden": true
   },
   "source": [
    "**Nhận xét**\n",
    "\n",
    "- Ngoài Mỹ ra thì những quóc gia còn lại đều không phải là những quốc gia có những những vùng sản xuất rượu nổi tiếng thế giới.\n",
    "- Có những quốc gia ở khu vực Châu Âu như Hy Lạp ( Greece ), Bồ Đào Nha ( Portugal ) là những quốc gia có nhiều tỉnh thành sản xuất rượu nhất. Ở châu Phi có 1 đại diện là Nam Phi với 42 tỉnh thành trồng nho. Ở Nam mỹ thì có Chi Lê. Những quốc gia này rất may mắn khi có điện kiện thiên nhiên phù hợp cho việc trồng nho sản suất rượu. Nhưng vẫn còn thiếu vài yếu tố nữa để đưa chất lượng rượu cao hơn."
   ]
  },
  {
   "cell_type": "markdown",
   "metadata": {
    "hidden": true
   },
   "source": [
    "### 10 quốc gia có mức giá rượu trung bình cao nhất"
   ]
  },
  {
   "cell_type": "code",
   "execution_count": 292,
   "metadata": {
    "hidden": true
   },
   "outputs": [
    {
     "data": {
      "text/plain": [
       "country\n",
       "Switzerland    85.285714\n",
       "England        51.681159\n",
       "Germany        42.257547\n",
       "France         41.139120\n",
       "Hungary        40.648276\n",
       "Italy          39.663770\n",
       "US             36.573464\n",
       "Canada         35.712598\n",
       "Australia      35.437663\n",
       "Israel         31.768916\n",
       "Name: price, dtype: float64"
      ]
     },
     "execution_count": 292,
     "metadata": {},
     "output_type": "execute_result"
    }
   ],
   "source": [
    "top_country_price = wine_df.groupby('country')['price'].agg('mean').sort_values(ascending = False)\n",
    "top_country_price[:10]"
   ]
  },
  {
   "cell_type": "code",
   "execution_count": 293,
   "metadata": {
    "hidden": true
   },
   "outputs": [
    {
     "data": {
      "text/plain": [
       "Text(0.5, 1.0, 'The country that have the most price of wine')"
      ]
     },
     "execution_count": 293,
     "metadata": {},
     "output_type": "execute_result"
    },
    {
     "data": {
      "image/png": "[encoded data removed]",
      "text/plain": [
       "<Figure size 1584x1080 with 1 Axes>"
      ]
     },
     "metadata": {},
     "output_type": "display_data"
    }
   ],
   "source": [
    "top_country_price[:10].plot.barh(use_index = True)\n",
    "plt.xlabel('Price', fontsize=30)\n",
    "plt.ylabel('Country', fontsize = 30)\n",
    "plt.title('The country that have the most price of wine', fontsize = 30)"
   ]
  },
  {
   "cell_type": "markdown",
   "metadata": {
    "hidden": true
   },
   "source": [
    "**Nhận xét**\n",
    "\n",
    "- Mình nghĩ mức giá rượu ở Thụy Sĩ cao vì mức sống và chi phí ở quốc gia này rất đất đỏ, và như phân tích ở trên thì không thấy nhiều đất của Thụy Sĩ trồng được nho, nên có thể chủ yếu là nhận khẩu, khiến giá cao."
   ]
  },
  {
   "cell_type": "markdown",
   "metadata": {
    "hidden": true
   },
   "source": [
    "### Điểm số trung bình về rượu vang của các quốc gia "
   ]
  },
  {
   "cell_type": "code",
   "execution_count": 294,
   "metadata": {
    "hidden": true
   },
   "outputs": [
    {
     "name": "stdout",
     "output_type": "stream",
     "text": [
      " (*)10 quốc gia được đánh giá cao nhất về chất lượng rượu: \n"
     ]
    },
    {
     "data": {
      "text/plain": [
       "country\n",
       "England       91.581081\n",
       "India         90.222222\n",
       "Austria       90.101345\n",
       "Germany       89.851732\n",
       "Canada        89.369650\n",
       "Hungary       89.191781\n",
       "China         89.000000\n",
       "France        88.845109\n",
       "Luxembourg    88.666667\n",
       "unknown       88.634921\n",
       "Name: points, dtype: float64"
      ]
     },
     "execution_count": 294,
     "metadata": {},
     "output_type": "execute_result"
    }
   ],
   "source": [
    "point_of_countries = wine_df.groupby('country')['points'].agg('mean').sort_values(ascending = False)\n",
    "print(\" (*)10 quốc gia được đánh giá cao nhất về chất lượng rượu: \")\n",
    "point_of_countries[:10]"
   ]
  },
  {
   "cell_type": "code",
   "execution_count": 295,
   "metadata": {
    "hidden": true
   },
   "outputs": [
    {
     "name": "stdout",
     "output_type": "stream",
     "text": [
      " (*)10 quốc gia được đánh giá cao thấp về chất lượng rượu: \n"
     ]
    },
    {
     "data": {
      "text/plain": [
       "country\n",
       "Macedonia                 86.833333\n",
       "Uruguay                   86.752294\n",
       "Argentina                 86.710263\n",
       "Bosnia and Herzegovina    86.500000\n",
       "Chile                     86.493515\n",
       "Romania                   86.400000\n",
       "Mexico                    85.257143\n",
       "Brazil                    84.673077\n",
       "Ukraine                   84.071429\n",
       "Peru                      83.562500\n",
       "Name: points, dtype: float64"
      ]
     },
     "execution_count": 295,
     "metadata": {},
     "output_type": "execute_result"
    }
   ],
   "source": [
    "print(\" (*)10 quốc gia được đánh giá cao thấp về chất lượng rượu: \")\n",
    "point_of_countries[-10:]"
   ]
  },
  {
   "cell_type": "markdown",
   "metadata": {
    "hidden": true
   },
   "source": [
    "**NHận xét**\n",
    "\n",
    "- Ở quốc gia được đánh giá cao về rượu đã bất ngờ xuất hiện đại diện duy nhất của Châu Á và xếp hạng rất cao (thứ hai) là Ấn Độ. \n",
    "- Thật sự do điểm đánh giá là từ 80-100, nên điểm cũng không chênh lệnh giữa các quốc gia. "
   ]
  },
  {
   "cell_type": "markdown",
   "metadata": {
    "hidden": true
   },
   "source": [
    "---"
   ]
  },
  {
   "cell_type": "markdown",
   "metadata": {
    "heading_collapsed": true
   },
   "source": [
    "## 3 Những nhà sản suất rượu vang nào nổi tiếng nhất thế giới"
   ]
  },
  {
   "cell_type": "markdown",
   "metadata": {
    "hidden": true
   },
   "source": [
    "Chúng ta đã cùng tìm hiểu qua về các vùng đất nổi tiếng và phù hợp cho việc trồng nho. Đó là tiêu chí đầu tiên để làm ra 1 loại rượu ngon. Giờ chúng ta cùng đến với tiêu chí thứ 2 là cũng không kém phần quan trọng là <font color= 'red'> quy trình sản suất rượu </font>. Mỗi nhà sản suất rượu vang đều có riêng cho những công thức cho để cho ra hương vị ngon nhất. Giờ chúng ta cùng tìm hiểu những nhà sản suất rượu này là ai, thuộc quốc gia nào. \n",
    "\n",
    "\n",
    "\n",
    "Làm thế nào để đánh giá đó là 1 nhà sản suất rượu vang nổi tiếng, theo cá nhân mình thì sẽ xem xét theo những tiêu chí sau:\n",
    "\n",
    "- Điểm số đánh giá trung bình các loại rượu của hãng, và cũng xét trên 1 số lượng nhận xét, đánh giá nhất định để có độ tin cậy cao.\n",
    "\n",
    "\n",
    "- Mức giá rượu của trung bình của các hãng. Vì có thể có 1 số chỉ tập trung vào phân khúc rượu cao cấp nên chất lượng cao."
   ]
  },
  {
   "cell_type": "code",
   "execution_count": 376,
   "metadata": {
    "hidden": true
   },
   "outputs": [
    {
     "data": {
      "text/html": [
       "<div>\n",
       "<style scoped>\n",
       "    .dataframe tbody tr th:only-of-type {\n",
       "        vertical-align: middle;\n",
       "    }\n",
       "\n",
       "    .dataframe tbody tr th {\n",
       "        vertical-align: top;\n",
       "    }\n",
       "\n",
       "    .dataframe thead tr th {\n",
       "        text-align: left;\n",
       "    }\n",
       "\n",
       "    .dataframe thead tr:last-of-type th {\n",
       "        text-align: right;\n",
       "    }\n",
       "</style>\n",
       "<table border=\"1\" class=\"dataframe\">\n",
       "  <thead>\n",
       "    <tr>\n",
       "      <th></th>\n",
       "      <th></th>\n",
       "      <th>points</th>\n",
       "      <th colspan=\"2\" halign=\"left\">price</th>\n",
       "    </tr>\n",
       "    <tr>\n",
       "      <th></th>\n",
       "      <th></th>\n",
       "      <th>mean</th>\n",
       "      <th>mean</th>\n",
       "      <th>size</th>\n",
       "    </tr>\n",
       "    <tr>\n",
       "      <th>winery</th>\n",
       "      <th>country</th>\n",
       "      <th></th>\n",
       "      <th></th>\n",
       "      <th></th>\n",
       "    </tr>\n",
       "  </thead>\n",
       "  <tbody>\n",
       "    <tr>\n",
       "      <th>Wines &amp; Winemakers</th>\n",
       "      <th>Portugal</th>\n",
       "      <td>87.599099</td>\n",
       "      <td>18.012781</td>\n",
       "      <td>222</td>\n",
       "    </tr>\n",
       "    <tr>\n",
       "      <th>Testarossa</th>\n",
       "      <th>US</th>\n",
       "      <td>90.738532</td>\n",
       "      <td>52.011805</td>\n",
       "      <td>218</td>\n",
       "    </tr>\n",
       "    <tr>\n",
       "      <th>DFJ Vinhos</th>\n",
       "      <th>Portugal</th>\n",
       "      <td>86.669767</td>\n",
       "      <td>11.689812</td>\n",
       "      <td>215</td>\n",
       "    </tr>\n",
       "    <tr>\n",
       "      <th>Williams Selyem</th>\n",
       "      <th>US</th>\n",
       "      <td>92.744076</td>\n",
       "      <td>59.587678</td>\n",
       "      <td>211</td>\n",
       "    </tr>\n",
       "    <tr>\n",
       "      <th>Louis Latour</th>\n",
       "      <th>France</th>\n",
       "      <td>90.537688</td>\n",
       "      <td>122.580991</td>\n",
       "      <td>199</td>\n",
       "    </tr>\n",
       "    <tr>\n",
       "      <th>Georges Duboeuf</th>\n",
       "      <th>France</th>\n",
       "      <td>87.403061</td>\n",
       "      <td>27.763128</td>\n",
       "      <td>196</td>\n",
       "    </tr>\n",
       "    <tr>\n",
       "      <th>Chateau Ste. Michelle</th>\n",
       "      <th>US</th>\n",
       "      <td>88.726804</td>\n",
       "      <td>22.147286</td>\n",
       "      <td>194</td>\n",
       "    </tr>\n",
       "    <tr>\n",
       "      <th>Concha y Toro</th>\n",
       "      <th>Chile</th>\n",
       "      <td>87.609756</td>\n",
       "      <td>30.430323</td>\n",
       "      <td>164</td>\n",
       "    </tr>\n",
       "    <tr>\n",
       "      <th>Columbia Crest</th>\n",
       "      <th>US</th>\n",
       "      <td>87.880503</td>\n",
       "      <td>19.424990</td>\n",
       "      <td>159</td>\n",
       "    </tr>\n",
       "    <tr>\n",
       "      <th>Kendall-Jackson</th>\n",
       "      <th>US</th>\n",
       "      <td>88.638462</td>\n",
       "      <td>26.007692</td>\n",
       "      <td>130</td>\n",
       "    </tr>\n",
       "  </tbody>\n",
       "</table>\n",
       "</div>"
      ],
      "text/plain": [
       "                                   points       price     \n",
       "                                     mean        mean size\n",
       "winery                country                             \n",
       "Wines & Winemakers    Portugal  87.599099   18.012781  222\n",
       "Testarossa            US        90.738532   52.011805  218\n",
       "DFJ Vinhos            Portugal  86.669767   11.689812  215\n",
       "Williams Selyem       US        92.744076   59.587678  211\n",
       "Louis Latour          France    90.537688  122.580991  199\n",
       "Georges Duboeuf       France    87.403061   27.763128  196\n",
       "Chateau Ste. Michelle US        88.726804   22.147286  194\n",
       "Concha y Toro         Chile     87.609756   30.430323  164\n",
       "Columbia Crest        US        87.880503   19.424990  159\n",
       "Kendall-Jackson       US        88.638462   26.007692  130"
      ]
     },
     "execution_count": 376,
     "metadata": {},
     "output_type": "execute_result"
    }
   ],
   "source": [
    "# Ta tiến hành gom nhóm theo winery và tính điểm số trung bình và số lượng loại rượu được đánh giá của hãng\n",
    "\n",
    "top_manufacture_of_wine = wine_df.groupby(['winery', 'country']).agg({'points':'mean', \n",
    "                                        'price': ['mean', 'size']}).sort_values(by=[('price', 'size')], ascending = False)\n",
    "top_manufacture_of_wine[:10]"
   ]
  },
  {
   "cell_type": "markdown",
   "metadata": {
    "hidden": true
   },
   "source": [
    "**Nhận xét**\n",
    "\n",
    "- Ở đây mình có thể đánh giá hãng sản suất rượu `Wiliams Seylyem` là nhà sản xuất để làm những loại rượu hảo hạn được đánh giá cao vì điểm số cao và số lượng đánh giá cũng lớn.\n",
    "- Các nhà sản suất rượu của Mỹ chiếm phần lớn đánh giá, và nhìn chung thì các nhà sản suất rượu ở quốc gia này này được đánh giá cao."
   ]
  },
  {
   "cell_type": "markdown",
   "metadata": {
    "hidden": true
   },
   "source": [
    "### Xếp hạng mức giá rượu trung bình của các hãng sản suất - cùng tìm hiểu xem những nhà sản suất nào có giá bán rượu cao nhất"
   ]
  },
  {
   "cell_type": "code",
   "execution_count": 379,
   "metadata": {
    "hidden": true
   },
   "outputs": [
    {
     "data": {
      "text/html": [
       "<div>\n",
       "<style scoped>\n",
       "    .dataframe tbody tr th:only-of-type {\n",
       "        vertical-align: middle;\n",
       "    }\n",
       "\n",
       "    .dataframe tbody tr th {\n",
       "        vertical-align: top;\n",
       "    }\n",
       "\n",
       "    .dataframe thead tr th {\n",
       "        text-align: left;\n",
       "    }\n",
       "\n",
       "    .dataframe thead tr:last-of-type th {\n",
       "        text-align: right;\n",
       "    }\n",
       "</style>\n",
       "<table border=\"1\" class=\"dataframe\">\n",
       "  <thead>\n",
       "    <tr>\n",
       "      <th></th>\n",
       "      <th></th>\n",
       "      <th>price</th>\n",
       "      <th colspan=\"2\" halign=\"left\">points</th>\n",
       "    </tr>\n",
       "    <tr>\n",
       "      <th></th>\n",
       "      <th></th>\n",
       "      <th>max</th>\n",
       "      <th>mean</th>\n",
       "      <th>size</th>\n",
       "    </tr>\n",
       "    <tr>\n",
       "      <th>winery</th>\n",
       "      <th>country</th>\n",
       "      <th></th>\n",
       "      <th></th>\n",
       "      <th></th>\n",
       "    </tr>\n",
       "  </thead>\n",
       "  <tbody>\n",
       "    <tr>\n",
       "      <th>Château les Ormes Sorbet</th>\n",
       "      <th>France</th>\n",
       "      <td>3300.0</td>\n",
       "      <td>87.000000</td>\n",
       "      <td>3</td>\n",
       "    </tr>\n",
       "    <tr>\n",
       "      <th>Domaine du Comte Liger-Belair</th>\n",
       "      <th>France</th>\n",
       "      <td>2500.0</td>\n",
       "      <td>93.333333</td>\n",
       "      <td>9</td>\n",
       "    </tr>\n",
       "    <tr>\n",
       "      <th>Château Pétrus</th>\n",
       "      <th>France</th>\n",
       "      <td>2500.0</td>\n",
       "      <td>96.666667</td>\n",
       "      <td>3</td>\n",
       "    </tr>\n",
       "    <tr>\n",
       "      <th>Blair</th>\n",
       "      <th>US</th>\n",
       "      <td>2013.0</td>\n",
       "      <td>90.555556</td>\n",
       "      <td>9</td>\n",
       "    </tr>\n",
       "    <tr>\n",
       "      <th>Château Margaux</th>\n",
       "      <th>France</th>\n",
       "      <td>1900.0</td>\n",
       "      <td>93.642857</td>\n",
       "      <td>28</td>\n",
       "    </tr>\n",
       "    <tr>\n",
       "      <th>Château Lafite Rothschild</th>\n",
       "      <th>France</th>\n",
       "      <td>1500.0</td>\n",
       "      <td>93.750000</td>\n",
       "      <td>20</td>\n",
       "    </tr>\n",
       "    <tr>\n",
       "      <th>Château Cheval Blanc</th>\n",
       "      <th>France</th>\n",
       "      <td>1500.0</td>\n",
       "      <td>93.727273</td>\n",
       "      <td>11</td>\n",
       "    </tr>\n",
       "    <tr>\n",
       "      <th>Château Mouton Rothschild</th>\n",
       "      <th>France</th>\n",
       "      <td>1300.0</td>\n",
       "      <td>92.409091</td>\n",
       "      <td>22</td>\n",
       "    </tr>\n",
       "    <tr>\n",
       "      <th>Château Haut-Brion</th>\n",
       "      <th>France</th>\n",
       "      <td>1200.0</td>\n",
       "      <td>94.700000</td>\n",
       "      <td>20</td>\n",
       "    </tr>\n",
       "    <tr>\n",
       "      <th>Château La Mission Haut-Brion</th>\n",
       "      <th>France</th>\n",
       "      <td>1100.0</td>\n",
       "      <td>94.076923</td>\n",
       "      <td>13</td>\n",
       "    </tr>\n",
       "  </tbody>\n",
       "</table>\n",
       "</div>"
      ],
      "text/plain": [
       "                                        price     points     \n",
       "                                          max       mean size\n",
       "winery                        country                        \n",
       "Château les Ormes Sorbet      France   3300.0  87.000000    3\n",
       "Domaine du Comte Liger-Belair France   2500.0  93.333333    9\n",
       "Château Pétrus                France   2500.0  96.666667    3\n",
       "Blair                         US       2013.0  90.555556    9\n",
       "Château Margaux               France   1900.0  93.642857   28\n",
       "Château Lafite Rothschild     France   1500.0  93.750000   20\n",
       "Château Cheval Blanc          France   1500.0  93.727273   11\n",
       "Château Mouton Rothschild     France   1300.0  92.409091   22\n",
       "Château Haut-Brion            France   1200.0  94.700000   20\n",
       "Château La Mission Haut-Brion France   1100.0  94.076923   13"
      ]
     },
     "execution_count": 379,
     "metadata": {},
     "output_type": "execute_result"
    }
   ],
   "source": [
    "# Chúng ta cùng xem các loại nhà sản xuất nào có nhiều loại rượu bán với giá đắt nhất nào\n",
    "\n",
    "top_manufacture_with_price = wine_df.groupby(['winery', 'country']).agg({'price':'max', \n",
    "                                      'points':['mean', 'size']}).sort_values(by=[('price', 'max')], ascending = False)\n",
    "top_manufacture_with_price[:10]"
   ]
  },
  {
   "cell_type": "markdown",
   "metadata": {
    "hidden": true
   },
   "source": [
    "**Nhận xét**\n",
    "\n",
    "- Các vùng sản xuất rượu ở các quốc gia Pháp, Ý nổi tiếng là các vùng sản xuất nổi tiếng và lâu đời. Nên không khó khi nhận thấy giá bán rượu của các nhà sản suất ở các vùng này là cao nhất thế giới - Cũng bởi vì chất lượng của những chai rượu ở đây "
   ]
  },
  {
   "cell_type": "markdown",
   "metadata": {
    "hidden": true
   },
   "source": [
    "### Những quốc gia nào mà có nhiều nhà sản xuất rượu nhất"
   ]
  },
  {
   "cell_type": "code",
   "execution_count": 383,
   "metadata": {
    "hidden": true,
    "scrolled": true
   },
   "outputs": [
    {
     "data": {
      "text/plain": [
       "country\n",
       "US           54504\n",
       "France       22093\n",
       "Italy        19540\n",
       "Spain         6645\n",
       "Portugal      5691\n",
       "Chile         4472\n",
       "Argentina     3800\n",
       "Austria       3345\n",
       "Australia     2329\n",
       "Germany       2165\n",
       "Name: winery, dtype: int64"
      ]
     },
     "execution_count": 383,
     "metadata": {},
     "output_type": "execute_result"
    }
   ],
   "source": [
    "top_country_winery = wine_df.groupby(['country'])['winery'].agg('count').sort_values(ascending = False)\n",
    "top_country_winery[:10]\n"
   ]
  },
  {
   "cell_type": "code",
   "execution_count": 384,
   "metadata": {
    "hidden": true
   },
   "outputs": [
    {
     "data": {
      "text/plain": [
       "Text(0.5, 1.0, 'The country that have the most winery')"
      ]
     },
     "execution_count": 384,
     "metadata": {},
     "output_type": "execute_result"
    },
    {
     "data": {
      "image/png": "[encoded data removed]",
      "text/plain": [
       "<Figure size 1584x1080 with 1 Axes>"
      ]
     },
     "metadata": {},
     "output_type": "display_data"
    }
   ],
   "source": [
    "top_country_winery[:10].plot.barh(use_index = True)\n",
    "plt.xlabel('Numbers', fontsize=30)\n",
    "plt.ylabel('Country', fontsize = 30)\n",
    "plt.title('The country that have the most winery', fontsize = 30)"
   ]
  },
  {
   "cell_type": "markdown",
   "metadata": {
    "hidden": true
   },
   "source": [
    "** Nhận xét chung **\n",
    "\n",
    "- Vậy chúng ta cũng đã cùng tìm hiểu qua các nhà sản suất rượu nổi tiếng, điểm số đánh giá, mức giá rượu, quốc gia thuộc về."
   ]
  },
  {
   "cell_type": "markdown",
   "metadata": {},
   "source": [
    "## 4. Loại nho nào được dùng nhiều nhất dể sản suất rượu vang ? Các giống nho phổ biến ở các khu vực quốc gia? Giá tiền và điểm số trung bình cho 1 chai rượu được sản xuất từ chúng?"
   ]
  },
  {
   "cell_type": "markdown",
   "metadata": {},
   "source": [
    "Chúng ta đã phân tích được 2 yếu tố đầu để có được 1 chai rượu ngon là nhà sản suất và vùng trồng nho. Giờ chúng ta cùng phân tích yếu tốt rất quan trọng còn lại là giống nho.\n",
    "\n",
    "Những loại nho làm rượu thường có kích thước nhỏ hơn nho ăn, vỏ dày hơn và luôn chứa hạt. Trong dataset, các giống nho được lưu trong thuộc tính `variety`."
   ]
  },
  {
   "cell_type": "markdown",
   "metadata": {
    "heading_collapsed": true
   },
   "source": [
    "### Các giống nho nào được sử dụng nhiều nhất để làm rượu vang ?"
   ]
  },
  {
   "cell_type": "code",
   "execution_count": 393,
   "metadata": {
    "hidden": true
   },
   "outputs": [
    {
     "data": {
      "image/png": "[encoded data removed]",
      "text/plain": [
       "<Figure size 1584x1080 with 1 Axes>"
      ]
     },
     "metadata": {},
     "output_type": "display_data"
    }
   ],
   "source": [
    "grapes_for_wine = wine_df['variety'].value_counts()\n",
    "grapes_for_wine[:10].plot.barh(use_index = True)\n",
    "plt.title(\"Grapes for wine\", fontsize = 30)\n",
    "plt.xlabel(\"Amount of wine made from grapes\", fontsize = 20)\n",
    "plt.ylabel(\"Grape\", fontsize = 20)\n",
    "plt.show()"
   ]
  },
  {
   "cell_type": "markdown",
   "metadata": {
    "hidden": true
   },
   "source": [
    "**Nhận xét**\n",
    "\n",
    "- Thật không có gì bất ngờ. Nếu có tìm hiểu từ trước thì những loại nho trong nhóm 10 đều là những loại nho phổ biến nhất dùng để làm rượu vang. \n",
    "\n",
    "**Chèn hình**"
   ]
  },
  {
   "cell_type": "markdown",
   "metadata": {
    "heading_collapsed": true
   },
   "source": [
    "### Loại nho nào được trồng ở nhiều quốc gia nhất ?"
   ]
  },
  {
   "cell_type": "code",
   "execution_count": 425,
   "metadata": {
    "hidden": true
   },
   "outputs": [
    {
     "data": {
      "text/html": [
       "<div>\n",
       "<style scoped>\n",
       "    .dataframe tbody tr th:only-of-type {\n",
       "        vertical-align: middle;\n",
       "    }\n",
       "\n",
       "    .dataframe tbody tr th {\n",
       "        vertical-align: top;\n",
       "    }\n",
       "\n",
       "    .dataframe thead th {\n",
       "        text-align: right;\n",
       "    }\n",
       "</style>\n",
       "<table border=\"1\" class=\"dataframe\">\n",
       "  <thead>\n",
       "    <tr style=\"text-align: right;\">\n",
       "      <th></th>\n",
       "      <th>variety</th>\n",
       "      <th>number_country</th>\n",
       "    </tr>\n",
       "  </thead>\n",
       "  <tbody>\n",
       "    <tr>\n",
       "      <th>473</th>\n",
       "      <td>Red Blend</td>\n",
       "      <td>34</td>\n",
       "    </tr>\n",
       "    <tr>\n",
       "      <th>690</th>\n",
       "      <td>White Blend</td>\n",
       "      <td>34</td>\n",
       "    </tr>\n",
       "    <tr>\n",
       "      <th>125</th>\n",
       "      <td>Chardonnay</td>\n",
       "      <td>31</td>\n",
       "    </tr>\n",
       "    <tr>\n",
       "      <th>492</th>\n",
       "      <td>Rosé</td>\n",
       "      <td>29</td>\n",
       "    </tr>\n",
       "    <tr>\n",
       "      <th>514</th>\n",
       "      <td>Sauvignon Blanc</td>\n",
       "      <td>27</td>\n",
       "    </tr>\n",
       "  </tbody>\n",
       "</table>\n",
       "</div>"
      ],
      "text/plain": [
       "             variety  number_country\n",
       "473        Red Blend              34\n",
       "690      White Blend              34\n",
       "125       Chardonnay              31\n",
       "492             Rosé              29\n",
       "514  Sauvignon Blanc              27"
      ]
     },
     "execution_count": 425,
     "metadata": {},
     "output_type": "execute_result"
    }
   ],
   "source": [
    "grape_in_country = wine_df.groupby('variety')['country'].nunique().reset_index(name = \"number_country\")\n",
    "grape_in_country = grape_in_country.sort_values(by = 'number_country', ascending = False)\n",
    "grape_in_country.head()"
   ]
  },
  {
   "cell_type": "code",
   "execution_count": 430,
   "metadata": {
    "hidden": true
   },
   "outputs": [
    {
     "data": {
      "image/png": "[encoded data removed]",
      "text/plain": [
       "<Figure size 1584x1080 with 1 Axes>"
      ]
     },
     "metadata": {},
     "output_type": "display_data"
    }
   ],
   "source": [
    "grape_in_country.set_index('variety')[:10].plot.barh()\n",
    "plt.title(\"Grapes in country\", fontsize = 30)\n",
    "plt.xlabel(\"Amount of country\", fontsize = 20)\n",
    "plt.ylabel(\"Grape\", fontsize = 20)\n",
    "plt.show()"
   ]
  },
  {
   "cell_type": "markdown",
   "metadata": {
    "hidden": true
   },
   "source": [
    "**Nhận xét**\n",
    "\n",
    "- Wao vẫn là các loại nho này. Đa phần các loại nho được dùng nhiều làm rượu đều có thể trồng được ở nhiều quốc gia."
   ]
  },
  {
   "cell_type": "markdown",
   "metadata": {
    "heading_collapsed": true
   },
   "source": [
    "### Nói các giống nho phổ biến này được trồng ở nhiều quốc gia trên thế giới, nhưng chúng ta thử tìm xem nơi nào mà giống nho này dùng để làm rượu có giá trị cao nhất nha"
   ]
  },
  {
   "cell_type": "markdown",
   "metadata": {
    "hidden": true
   },
   "source": [
    "Để lát được thông tin này: \n",
    "\n",
    "- Bước 1: Tính giá trị trung bình của mỗi loại nho ở các tỉnh thành.\n",
    "- Bước 2: Tìm ra tình thành mà rượu được sản suất bởi loại nho này có giá trị trung bình cao nhất"
   ]
  },
  {
   "cell_type": "code",
   "execution_count": 452,
   "metadata": {
    "hidden": true,
    "scrolled": false
   },
   "outputs": [
    {
     "data": {
      "text/html": [
       "<div>\n",
       "<style scoped>\n",
       "    .dataframe tbody tr th:only-of-type {\n",
       "        vertical-align: middle;\n",
       "    }\n",
       "\n",
       "    .dataframe tbody tr th {\n",
       "        vertical-align: top;\n",
       "    }\n",
       "\n",
       "    .dataframe thead th {\n",
       "        text-align: right;\n",
       "    }\n",
       "</style>\n",
       "<table border=\"1\" class=\"dataframe\">\n",
       "  <thead>\n",
       "    <tr style=\"text-align: right;\">\n",
       "      <th>variety</th>\n",
       "      <th>Abouriou</th>\n",
       "      <th>Agiorgitiko</th>\n",
       "      <th>Aglianico</th>\n",
       "      <th>Aidani</th>\n",
       "      <th>Airen</th>\n",
       "      <th>Albana</th>\n",
       "      <th>Albanello</th>\n",
       "      <th>Albariño</th>\n",
       "      <th>Albarossa</th>\n",
       "      <th>Aleatico</th>\n",
       "      <th>...</th>\n",
       "      <th>Zelen</th>\n",
       "      <th>Zibibbo</th>\n",
       "      <th>Zierfandler</th>\n",
       "      <th>Zierfandler-Rotgipfler</th>\n",
       "      <th>Zinfandel</th>\n",
       "      <th>Zlahtina</th>\n",
       "      <th>Zweigelt</th>\n",
       "      <th>unknown</th>\n",
       "      <th>Çalkarası</th>\n",
       "      <th>Žilavka</th>\n",
       "    </tr>\n",
       "    <tr>\n",
       "      <th>provinceOfCountry</th>\n",
       "      <th></th>\n",
       "      <th></th>\n",
       "      <th></th>\n",
       "      <th></th>\n",
       "      <th></th>\n",
       "      <th></th>\n",
       "      <th></th>\n",
       "      <th></th>\n",
       "      <th></th>\n",
       "      <th></th>\n",
       "      <th></th>\n",
       "      <th></th>\n",
       "      <th></th>\n",
       "      <th></th>\n",
       "      <th></th>\n",
       "      <th></th>\n",
       "      <th></th>\n",
       "      <th></th>\n",
       "      <th></th>\n",
       "      <th></th>\n",
       "      <th></th>\n",
       "    </tr>\n",
       "  </thead>\n",
       "  <tbody>\n",
       "    <tr>\n",
       "      <th>( Argentina ) Mendoza Province</th>\n",
       "      <td>NaN</td>\n",
       "      <td>NaN</td>\n",
       "      <td>NaN</td>\n",
       "      <td>NaN</td>\n",
       "      <td>NaN</td>\n",
       "      <td>NaN</td>\n",
       "      <td>NaN</td>\n",
       "      <td>NaN</td>\n",
       "      <td>NaN</td>\n",
       "      <td>NaN</td>\n",
       "      <td>...</td>\n",
       "      <td>NaN</td>\n",
       "      <td>NaN</td>\n",
       "      <td>NaN</td>\n",
       "      <td>NaN</td>\n",
       "      <td>NaN</td>\n",
       "      <td>NaN</td>\n",
       "      <td>NaN</td>\n",
       "      <td>NaN</td>\n",
       "      <td>NaN</td>\n",
       "      <td>NaN</td>\n",
       "    </tr>\n",
       "    <tr>\n",
       "      <th>( Argentina ) Other</th>\n",
       "      <td>NaN</td>\n",
       "      <td>NaN</td>\n",
       "      <td>NaN</td>\n",
       "      <td>NaN</td>\n",
       "      <td>NaN</td>\n",
       "      <td>NaN</td>\n",
       "      <td>NaN</td>\n",
       "      <td>NaN</td>\n",
       "      <td>NaN</td>\n",
       "      <td>NaN</td>\n",
       "      <td>...</td>\n",
       "      <td>NaN</td>\n",
       "      <td>NaN</td>\n",
       "      <td>NaN</td>\n",
       "      <td>NaN</td>\n",
       "      <td>NaN</td>\n",
       "      <td>NaN</td>\n",
       "      <td>NaN</td>\n",
       "      <td>NaN</td>\n",
       "      <td>NaN</td>\n",
       "      <td>NaN</td>\n",
       "    </tr>\n",
       "    <tr>\n",
       "      <th>( Armenia ) Armenia</th>\n",
       "      <td>NaN</td>\n",
       "      <td>NaN</td>\n",
       "      <td>NaN</td>\n",
       "      <td>NaN</td>\n",
       "      <td>NaN</td>\n",
       "      <td>NaN</td>\n",
       "      <td>NaN</td>\n",
       "      <td>NaN</td>\n",
       "      <td>NaN</td>\n",
       "      <td>NaN</td>\n",
       "      <td>...</td>\n",
       "      <td>NaN</td>\n",
       "      <td>NaN</td>\n",
       "      <td>NaN</td>\n",
       "      <td>NaN</td>\n",
       "      <td>NaN</td>\n",
       "      <td>NaN</td>\n",
       "      <td>NaN</td>\n",
       "      <td>NaN</td>\n",
       "      <td>NaN</td>\n",
       "      <td>NaN</td>\n",
       "    </tr>\n",
       "    <tr>\n",
       "      <th>( Australia ) Australia Other</th>\n",
       "      <td>NaN</td>\n",
       "      <td>NaN</td>\n",
       "      <td>NaN</td>\n",
       "      <td>NaN</td>\n",
       "      <td>NaN</td>\n",
       "      <td>NaN</td>\n",
       "      <td>NaN</td>\n",
       "      <td>NaN</td>\n",
       "      <td>NaN</td>\n",
       "      <td>NaN</td>\n",
       "      <td>...</td>\n",
       "      <td>NaN</td>\n",
       "      <td>NaN</td>\n",
       "      <td>NaN</td>\n",
       "      <td>NaN</td>\n",
       "      <td>NaN</td>\n",
       "      <td>NaN</td>\n",
       "      <td>NaN</td>\n",
       "      <td>NaN</td>\n",
       "      <td>NaN</td>\n",
       "      <td>NaN</td>\n",
       "    </tr>\n",
       "    <tr>\n",
       "      <th>( Australia ) New South Wales</th>\n",
       "      <td>NaN</td>\n",
       "      <td>NaN</td>\n",
       "      <td>NaN</td>\n",
       "      <td>NaN</td>\n",
       "      <td>NaN</td>\n",
       "      <td>NaN</td>\n",
       "      <td>NaN</td>\n",
       "      <td>NaN</td>\n",
       "      <td>NaN</td>\n",
       "      <td>NaN</td>\n",
       "      <td>...</td>\n",
       "      <td>NaN</td>\n",
       "      <td>NaN</td>\n",
       "      <td>NaN</td>\n",
       "      <td>NaN</td>\n",
       "      <td>NaN</td>\n",
       "      <td>NaN</td>\n",
       "      <td>NaN</td>\n",
       "      <td>NaN</td>\n",
       "      <td>NaN</td>\n",
       "      <td>NaN</td>\n",
       "    </tr>\n",
       "    <tr>\n",
       "      <th>...</th>\n",
       "      <td>...</td>\n",
       "      <td>...</td>\n",
       "      <td>...</td>\n",
       "      <td>...</td>\n",
       "      <td>...</td>\n",
       "      <td>...</td>\n",
       "      <td>...</td>\n",
       "      <td>...</td>\n",
       "      <td>...</td>\n",
       "      <td>...</td>\n",
       "      <td>...</td>\n",
       "      <td>...</td>\n",
       "      <td>...</td>\n",
       "      <td>...</td>\n",
       "      <td>...</td>\n",
       "      <td>...</td>\n",
       "      <td>...</td>\n",
       "      <td>...</td>\n",
       "      <td>...</td>\n",
       "      <td>...</td>\n",
       "      <td>...</td>\n",
       "    </tr>\n",
       "    <tr>\n",
       "      <th>( Uruguay ) Montevideo</th>\n",
       "      <td>NaN</td>\n",
       "      <td>NaN</td>\n",
       "      <td>NaN</td>\n",
       "      <td>NaN</td>\n",
       "      <td>NaN</td>\n",
       "      <td>NaN</td>\n",
       "      <td>NaN</td>\n",
       "      <td>25.000000</td>\n",
       "      <td>NaN</td>\n",
       "      <td>NaN</td>\n",
       "      <td>...</td>\n",
       "      <td>NaN</td>\n",
       "      <td>NaN</td>\n",
       "      <td>NaN</td>\n",
       "      <td>NaN</td>\n",
       "      <td>NaN</td>\n",
       "      <td>NaN</td>\n",
       "      <td>NaN</td>\n",
       "      <td>NaN</td>\n",
       "      <td>NaN</td>\n",
       "      <td>NaN</td>\n",
       "    </tr>\n",
       "    <tr>\n",
       "      <th>( Uruguay ) Progreso</th>\n",
       "      <td>NaN</td>\n",
       "      <td>NaN</td>\n",
       "      <td>NaN</td>\n",
       "      <td>NaN</td>\n",
       "      <td>NaN</td>\n",
       "      <td>NaN</td>\n",
       "      <td>NaN</td>\n",
       "      <td>NaN</td>\n",
       "      <td>NaN</td>\n",
       "      <td>NaN</td>\n",
       "      <td>...</td>\n",
       "      <td>NaN</td>\n",
       "      <td>NaN</td>\n",
       "      <td>NaN</td>\n",
       "      <td>NaN</td>\n",
       "      <td>NaN</td>\n",
       "      <td>NaN</td>\n",
       "      <td>NaN</td>\n",
       "      <td>NaN</td>\n",
       "      <td>NaN</td>\n",
       "      <td>NaN</td>\n",
       "    </tr>\n",
       "    <tr>\n",
       "      <th>( Uruguay ) San Jose</th>\n",
       "      <td>NaN</td>\n",
       "      <td>NaN</td>\n",
       "      <td>NaN</td>\n",
       "      <td>NaN</td>\n",
       "      <td>NaN</td>\n",
       "      <td>NaN</td>\n",
       "      <td>NaN</td>\n",
       "      <td>NaN</td>\n",
       "      <td>NaN</td>\n",
       "      <td>NaN</td>\n",
       "      <td>...</td>\n",
       "      <td>NaN</td>\n",
       "      <td>NaN</td>\n",
       "      <td>NaN</td>\n",
       "      <td>NaN</td>\n",
       "      <td>NaN</td>\n",
       "      <td>NaN</td>\n",
       "      <td>NaN</td>\n",
       "      <td>NaN</td>\n",
       "      <td>NaN</td>\n",
       "      <td>NaN</td>\n",
       "    </tr>\n",
       "    <tr>\n",
       "      <th>( Uruguay ) Uruguay</th>\n",
       "      <td>NaN</td>\n",
       "      <td>NaN</td>\n",
       "      <td>NaN</td>\n",
       "      <td>NaN</td>\n",
       "      <td>NaN</td>\n",
       "      <td>NaN</td>\n",
       "      <td>NaN</td>\n",
       "      <td>19.666667</td>\n",
       "      <td>NaN</td>\n",
       "      <td>NaN</td>\n",
       "      <td>...</td>\n",
       "      <td>NaN</td>\n",
       "      <td>NaN</td>\n",
       "      <td>NaN</td>\n",
       "      <td>NaN</td>\n",
       "      <td>NaN</td>\n",
       "      <td>NaN</td>\n",
       "      <td>NaN</td>\n",
       "      <td>NaN</td>\n",
       "      <td>NaN</td>\n",
       "      <td>NaN</td>\n",
       "    </tr>\n",
       "    <tr>\n",
       "      <th>( unknown ) unknown</th>\n",
       "      <td>NaN</td>\n",
       "      <td>NaN</td>\n",
       "      <td>NaN</td>\n",
       "      <td>NaN</td>\n",
       "      <td>NaN</td>\n",
       "      <td>NaN</td>\n",
       "      <td>NaN</td>\n",
       "      <td>NaN</td>\n",
       "      <td>NaN</td>\n",
       "      <td>NaN</td>\n",
       "      <td>...</td>\n",
       "      <td>NaN</td>\n",
       "      <td>NaN</td>\n",
       "      <td>NaN</td>\n",
       "      <td>NaN</td>\n",
       "      <td>NaN</td>\n",
       "      <td>NaN</td>\n",
       "      <td>NaN</td>\n",
       "      <td>NaN</td>\n",
       "      <td>NaN</td>\n",
       "      <td>NaN</td>\n",
       "    </tr>\n",
       "  </tbody>\n",
       "</table>\n",
       "<p>425 rows × 708 columns</p>\n",
       "</div>"
      ],
      "text/plain": [
       "variety                         Abouriou  Agiorgitiko  Aglianico  Aidani  \\\n",
       "provinceOfCountry                                                          \n",
       "( Argentina ) Mendoza Province       NaN          NaN        NaN     NaN   \n",
       "( Argentina ) Other                  NaN          NaN        NaN     NaN   \n",
       "( Armenia ) Armenia                  NaN          NaN        NaN     NaN   \n",
       "( Australia ) Australia Other        NaN          NaN        NaN     NaN   \n",
       "( Australia ) New South Wales        NaN          NaN        NaN     NaN   \n",
       "...                                  ...          ...        ...     ...   \n",
       "( Uruguay ) Montevideo               NaN          NaN        NaN     NaN   \n",
       "( Uruguay ) Progreso                 NaN          NaN        NaN     NaN   \n",
       "( Uruguay ) San Jose                 NaN          NaN        NaN     NaN   \n",
       "( Uruguay ) Uruguay                  NaN          NaN        NaN     NaN   \n",
       "( unknown ) unknown                  NaN          NaN        NaN     NaN   \n",
       "\n",
       "variety                         Airen  Albana  Albanello   Albariño  \\\n",
       "provinceOfCountry                                                     \n",
       "( Argentina ) Mendoza Province    NaN     NaN        NaN        NaN   \n",
       "( Argentina ) Other               NaN     NaN        NaN        NaN   \n",
       "( Armenia ) Armenia               NaN     NaN        NaN        NaN   \n",
       "( Australia ) Australia Other     NaN     NaN        NaN        NaN   \n",
       "( Australia ) New South Wales     NaN     NaN        NaN        NaN   \n",
       "...                               ...     ...        ...        ...   \n",
       "( Uruguay ) Montevideo            NaN     NaN        NaN  25.000000   \n",
       "( Uruguay ) Progreso              NaN     NaN        NaN        NaN   \n",
       "( Uruguay ) San Jose              NaN     NaN        NaN        NaN   \n",
       "( Uruguay ) Uruguay               NaN     NaN        NaN  19.666667   \n",
       "( unknown ) unknown               NaN     NaN        NaN        NaN   \n",
       "\n",
       "variety                         Albarossa  Aleatico  ...  Zelen  Zibibbo  \\\n",
       "provinceOfCountry                                    ...                   \n",
       "( Argentina ) Mendoza Province        NaN       NaN  ...    NaN      NaN   \n",
       "( Argentina ) Other                   NaN       NaN  ...    NaN      NaN   \n",
       "( Armenia ) Armenia                   NaN       NaN  ...    NaN      NaN   \n",
       "( Australia ) Australia Other         NaN       NaN  ...    NaN      NaN   \n",
       "( Australia ) New South Wales         NaN       NaN  ...    NaN      NaN   \n",
       "...                                   ...       ...  ...    ...      ...   \n",
       "( Uruguay ) Montevideo                NaN       NaN  ...    NaN      NaN   \n",
       "( Uruguay ) Progreso                  NaN       NaN  ...    NaN      NaN   \n",
       "( Uruguay ) San Jose                  NaN       NaN  ...    NaN      NaN   \n",
       "( Uruguay ) Uruguay                   NaN       NaN  ...    NaN      NaN   \n",
       "( unknown ) unknown                   NaN       NaN  ...    NaN      NaN   \n",
       "\n",
       "variety                         Zierfandler  Zierfandler-Rotgipfler  \\\n",
       "provinceOfCountry                                                     \n",
       "( Argentina ) Mendoza Province          NaN                     NaN   \n",
       "( Argentina ) Other                     NaN                     NaN   \n",
       "( Armenia ) Armenia                     NaN                     NaN   \n",
       "( Australia ) Australia Other           NaN                     NaN   \n",
       "( Australia ) New South Wales           NaN                     NaN   \n",
       "...                                     ...                     ...   \n",
       "( Uruguay ) Montevideo                  NaN                     NaN   \n",
       "( Uruguay ) Progreso                    NaN                     NaN   \n",
       "( Uruguay ) San Jose                    NaN                     NaN   \n",
       "( Uruguay ) Uruguay                     NaN                     NaN   \n",
       "( unknown ) unknown                     NaN                     NaN   \n",
       "\n",
       "variety                         Zinfandel  Zlahtina  Zweigelt  unknown  \\\n",
       "provinceOfCountry                                                        \n",
       "( Argentina ) Mendoza Province        NaN       NaN       NaN      NaN   \n",
       "( Argentina ) Other                   NaN       NaN       NaN      NaN   \n",
       "( Armenia ) Armenia                   NaN       NaN       NaN      NaN   \n",
       "( Australia ) Australia Other         NaN       NaN       NaN      NaN   \n",
       "( Australia ) New South Wales         NaN       NaN       NaN      NaN   \n",
       "...                                   ...       ...       ...      ...   \n",
       "( Uruguay ) Montevideo                NaN       NaN       NaN      NaN   \n",
       "( Uruguay ) Progreso                  NaN       NaN       NaN      NaN   \n",
       "( Uruguay ) San Jose                  NaN       NaN       NaN      NaN   \n",
       "( Uruguay ) Uruguay                   NaN       NaN       NaN      NaN   \n",
       "( unknown ) unknown                   NaN       NaN       NaN      NaN   \n",
       "\n",
       "variety                         Çalkarası  Žilavka  \n",
       "provinceOfCountry                                   \n",
       "( Argentina ) Mendoza Province        NaN      NaN  \n",
       "( Argentina ) Other                   NaN      NaN  \n",
       "( Armenia ) Armenia                   NaN      NaN  \n",
       "( Australia ) Australia Other         NaN      NaN  \n",
       "( Australia ) New South Wales         NaN      NaN  \n",
       "...                                   ...      ...  \n",
       "( Uruguay ) Montevideo                NaN      NaN  \n",
       "( Uruguay ) Progreso                  NaN      NaN  \n",
       "( Uruguay ) San Jose                  NaN      NaN  \n",
       "( Uruguay ) Uruguay                   NaN      NaN  \n",
       "( unknown ) unknown                   NaN      NaN  \n",
       "\n",
       "[425 rows x 708 columns]"
      ]
     },
     "execution_count": 452,
     "metadata": {},
     "output_type": "execute_result"
    }
   ],
   "source": [
    "# Bước 1\n",
    "grape_for_price = wine_df.groupby(['variety', 'provinceOfCountry'])['price'].agg('mean')\n",
    "\n",
    "grape_for_price = grape_for_price.unstack('variety')\n",
    "grape_for_price"
   ]
  },
  {
   "cell_type": "code",
   "execution_count": 455,
   "metadata": {
    "hidden": true
   },
   "outputs": [],
   "source": [
    "# Bước 2\n",
    "grape_in_best_province = grape_for_price.idxmax(axis = 0)"
   ]
  },
  {
   "cell_type": "markdown",
   "metadata": {
    "hidden": true
   },
   "source": [
    "- Kiểm tra loại nho ứng với khu vực mang lại giá trị cao nhất khi trồng nó để sản suất rượu. Mỗi loại thực sự được trồng ở mỗi khu vực sẽ cho những chất lượng rất khác nhau."
   ]
  },
  {
   "cell_type": "code",
   "execution_count": 458,
   "metadata": {
    "hidden": true
   },
   "outputs": [
    {
     "name": "stdout",
     "output_type": "stream",
     "text": [
      " Loại nho Red Blend:  ( Chile ) Puente Alto\n",
      " Loại nho Pinot Noir:  ( Switzerland ) Switzerland\n",
      " Loại nho Chardonnay:  ( Spain ) Spain Other\n",
      " Loại nho Cabernet Sauvignon:  ( US ) Michigan\n",
      " Loại nho Merlot:  ( Italy ) Southern Italy\n"
     ]
    }
   ],
   "source": [
    "print(\" Loại nho Red Blend: \", grape_in_best_province['Red Blend'])\n",
    "print(\" Loại nho Pinot Noir: \", grape_in_best_province['Pinot Noir']) \n",
    "print(\" Loại nho Chardonnay: \", grape_in_best_province['Chardonnay']) \n",
    "print(\" Loại nho Cabernet Sauvignon: \", grape_in_best_province['Cabernet Sauvignon']) \n",
    "print(\" Loại nho Merlot: \", grape_in_best_province['Merlot']) "
   ]
  },
  {
   "cell_type": "markdown",
   "metadata": {},
   "source": [
    "### Giá tiền và điểm số trung bình cho các rượu được làm từ các loại nho trên"
   ]
  },
  {
   "cell_type": "markdown",
   "metadata": {},
   "source": [
    "- Lưu số điểm đánh giá rượu trung bình của từng loại nho vào biến point_for_grape\n",
    "- Lưu số mức giá trung bình rượu của từng loại nho vào biến price_for_grape"
   ]
  },
  {
   "cell_type": "code",
   "execution_count": 483,
   "metadata": {},
   "outputs": [],
   "source": [
    "point_for_grape = wine_df.groupby('variety')['points'].agg('mean')\n",
    "price_for_grape = wine_df.groupby('variety')['price'].agg('mean')"
   ]
  },
  {
   "cell_type": "code",
   "execution_count": 484,
   "metadata": {},
   "outputs": [
    {
     "name": "stdout",
     "output_type": "stream",
     "text": [
      "Loại nho Red Blend:\n",
      "    - Điểm số:  88.38028169014085\n",
      "    - Giá:  36.002886565729774\n",
      "Loại nho Pinot Noir:\n",
      "    - Điểm số:  89.41146775165763\n",
      "    - Giá:  47.21704053653732\n",
      "Loại nho Chardonnay:\n",
      "    - Điểm số:  88.34008338296606\n",
      "    - Giá:  34.83813676662189\n",
      "Loại nho Cabernet Sauvignon:\n",
      "    - Điểm số:  88.60758023648648\n",
      "    - Giá:  47.805763328574386\n",
      "Loại nho Merlot:\n",
      "    - Điểm số:  87.20857511283043\n",
      "    - Giá:  29.632014325242967\n"
     ]
    }
   ],
   "source": [
    "grapes = ['Red Blend', 'Pinot Noir', 'Chardonnay', 'Cabernet Sauvignon', 'Merlot']\n",
    "for type in grapes:\n",
    "    print(\"Loại nho {}:\".format(type))\n",
    "    print(\"    - Điểm số: \", point_for_grape[type])\n",
    "    print(\"    - Giá: \", price_for_grape[type])\n",
    "\n"
   ]
  },
  {
   "cell_type": "markdown",
   "metadata": {},
   "source": [
    "**Nhận xét**\n",
    "\n",
    "- Có thể thấy những loại nho nổi tiếng được đánh giá rất cao khi dùng làm rượu và có số tiền bỏ ra cũng không quá cao."
   ]
  },
  {
   "cell_type": "markdown",
   "metadata": {},
   "source": [
    "**Nhận xét chung**\n",
    "\n",
    "- Qua những phân tích về các loại Nho trên, chúng ta cũng thấy được các loại nho nổi tiếng dùng làm rượu, các quốc gia có thể trồng được và vùng mang đến giá trị cao, cũng như điểm số và giá trung bình ứng với mỗi loại khi được dùng làm rượu vang."
   ]
  },
  {
   "cell_type": "markdown",
   "metadata": {},
   "source": [
    "## Câu 5"
   ]
  },
  {
   "cell_type": "code",
   "execution_count": null,
   "metadata": {},
   "outputs": [],
   "source": []
  }
 ],
 "metadata": {
  "kernelspec": {
   "display_name": "Python 3",
   "language": "python",
   "name": "python3"
  },
  "language_info": {
   "codemirror_mode": {
    "name": "ipython",
    "version": 3
   },
   "file_extension": ".py",
   "mimetype": "text/x-python",
   "name": "python",
   "nbconvert_exporter": "python",
   "pygments_lexer": "ipython3",
   "version": "3.7.6"
  },
  "toc": {
   "base_numbering": 1,
   "nav_menu": {},
   "number_sections": false,
   "sideBar": true,
   "skip_h1_title": false,
   "title_cell": "Table of Contents",
   "title_sidebar": "Contents",
   "toc_cell": false,
   "toc_position": {},
   "toc_section_display": true,
   "toc_window_display": false
  }
 },
 "nbformat": 4,
 "nbformat_minor": 4
}
